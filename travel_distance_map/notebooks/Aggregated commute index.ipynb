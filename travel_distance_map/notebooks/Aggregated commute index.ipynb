{
 "cells": [
  {
   "cell_type": "code",
   "execution_count": 1,
   "metadata": {},
   "outputs": [],
   "source": [
    "import numpy as np\n",
    "import os"
   ]
  },
  {
   "cell_type": "code",
   "execution_count": 2,
   "metadata": {},
   "outputs": [],
   "source": [
    "folders = ('900023201__20200710_080000', '900100003__20200710_080000')\n",
    "res_folder = '900100003_900023201__20200710_080000'\n",
    "grid_x = np.load('{}/grid_x.npy'.format(folders[0]))\n",
    "grid_y = np.load('{}/grid_y.npy'.format(folders[0]))\n",
    "points = np.load('{}/points.npy'.format(folders[0]))\n",
    "if not os.path.exists(res_folder):\n",
    "    os.makedirs(res_folder)\n",
    "distance_map = np.load('{}/distance_map.npy'.format(folders[0]))\n",
    "for folder in folders[1:]:\n",
    "    distance_map += np.load('{}/distance_map.npy'.format(folder))\n",
    "distance_map /= len(folders)"
   ]
  },
  {
   "cell_type": "code",
   "execution_count": 3,
   "metadata": {},
   "outputs": [],
   "source": [
    "bottomleft = points.min(axis=0)\n",
    "topright = points.max(axis=0)\n",
    "topleft = topright[0], bottomleft[1]\n",
    "bottomright = bottomleft[0], topright[1]"
   ]
  },
  {
   "cell_type": "markdown",
   "metadata": {},
   "source": [
    "Render aggregated map"
   ]
  },
  {
   "cell_type": "code",
   "execution_count": 4,
   "metadata": {},
   "outputs": [],
   "source": [
    "import folium\n",
    "from folium import plugins\n",
    "import matplotlib.pyplot as plt\n",
    "from matplotlib import cm\n",
    "from matplotlib.colors import ListedColormap, LinearSegmentedColormap\n",
    "\n",
    "%matplotlib inline"
   ]
  },
  {
   "cell_type": "code",
   "execution_count": 5,
   "metadata": {},
   "outputs": [],
   "source": [
    "top = cm.get_cmap('Oranges_r', 128)\n",
    "bottom = cm.get_cmap('Greens', 128)\n",
    "newcolors = np.vstack((top(np.linspace(0.2, 0.8, 128)),\n",
    "                       bottom(np.linspace(0.2, 0.8, 128))))\n",
    "newcmp = ListedColormap(newcolors, name='OrangeBlue')"
   ]
  },
  {
   "cell_type": "code",
   "execution_count": 6,
   "metadata": {},
   "outputs": [],
   "source": [
    "map_center = (topleft[0] + bottomright[0])/2.0, (topleft[1] + bottomright[1])/2.0"
   ]
  },
  {
   "cell_type": "code",
   "execution_count": 7,
   "metadata": {},
   "outputs": [],
   "source": [
    "m = folium.Map(map_center, zoom_start=14)\n",
    "colors = ['green', 'orange', 'red']\n",
    "\n",
    "overlay = distance_map\n",
    "norm_factor = np.percentile(overlay,95)\n",
    "norm_fun = np.vectorize(lambda x: 1 - min(x/norm_factor, 1))\n",
    "overlay = norm_fun(overlay)\n",
    "\n",
    "[min_lat, min_lon] = bottomright[0], topleft[1]\n",
    "[max_lat, max_lon] = topleft[0], bottomright[1]\n",
    "\n",
    "folium.raster_layers.ImageOverlay(\n",
    "    image=overlay,\n",
    "    bounds=[[min_lat, min_lon], [max_lat, max_lon]],\n",
    "    colormap=newcmp,\n",
    "    vmin=0,\n",
    "    vmax=3600,\n",
    "    opacity=0.7,\n",
    "    pixelated=False,\n",
    "    origin='lower'\n",
    ").add_to(m)\n",
    "\n",
    "# enable for debugging\n",
    "# shape = grid_x.shape\n",
    "# for col_index in range(0,shape[1],5):\n",
    "#     for row_index in range(0,shape[0],5):\n",
    "#         point = GPSPoint(grid_x[col_index][row_index], grid_y[col_index][row_index])\n",
    "#         distance_map_value = distance_map[col_index][row_index]\n",
    "#         folium.CircleMarker((point.lat, point.lon), fill_color='black', opacity=0.8, radius=3, color='black', stroke=True, tooltip=distance_map_value).add_to(m)\n",
    "\n",
    "m.save(os.path.join(res_folder, 'distance_map.html'))"
   ]
  },
  {
   "cell_type": "markdown",
   "metadata": {},
   "source": [
    "Geocoding example"
   ]
  },
  {
   "cell_type": "code",
   "execution_count": 8,
   "metadata": {},
   "outputs": [],
   "source": [
    "import urllib.parse\n",
    "import requests"
   ]
  },
  {
   "cell_type": "code",
   "execution_count": 17,
   "metadata": {},
   "outputs": [],
   "source": [
    "address = \"Frankfurter Allee 15, 10247\"\n",
    "# address = \"Pfuelstraße 1\"\n",
    "query = urllib.parse.quote_plus(address)\n",
    "url = \"https://nominatim.openstreetmap.org/?addressdetails=1&q={}&format=json&limit=1\".format(query)\n",
    "response = requests.get(url)"
   ]
  },
  {
   "cell_type": "code",
   "execution_count": 18,
   "metadata": {},
   "outputs": [],
   "source": [
    "js = response.json()\n",
    "geo_point = (float(js[0]['lat']), float(js[0]['lon']))"
   ]
  },
  {
   "cell_type": "code",
   "execution_count": 19,
   "metadata": {},
   "outputs": [],
   "source": [
    "def get_closest_grid_point(grid, point):\n",
    "    grid_x, grid_y = grid\n",
    "    search_arr = (grid_x - point[0])**2 + (grid_y - point[1])**2\n",
    "    min_element = np.argmin(np.abs(search_arr))\n",
    "    return min_element\n",
    "\n",
    "def get_distance_for_geopoint(grid, point, distance_map):\n",
    "    index = get_closest_grid_point((grid_x, grid_y), point)\n",
    "    return distance_map.ravel()[index]"
   ]
  },
  {
   "cell_type": "code",
   "execution_count": 20,
   "metadata": {},
   "outputs": [
    {
     "data": {
      "text/plain": [
       "1078.3054494935707"
      ]
     },
     "execution_count": 20,
     "metadata": {},
     "output_type": "execute_result"
    }
   ],
   "source": [
    "get_distance_for_geopoint((grid_x,grid_y), geo_point, distance_map)"
   ]
  }
 ],
 "metadata": {
  "kernelspec": {
   "display_name": "Python 3",
   "language": "python",
   "name": "python3"
  },
  "language_info": {
   "codemirror_mode": {
    "name": "ipython",
    "version": 3
   },
   "file_extension": ".py",
   "mimetype": "text/x-python",
   "name": "python",
   "nbconvert_exporter": "python",
   "pygments_lexer": "ipython3",
   "version": "3.7.4"
  }
 },
 "nbformat": 4,
 "nbformat_minor": 4
}
