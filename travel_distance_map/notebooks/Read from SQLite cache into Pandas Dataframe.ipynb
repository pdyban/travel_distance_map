{
 "cells": [
  {
   "cell_type": "markdown",
   "metadata": {},
   "source": [
    "How to read from cache into Pandas:"
   ]
  },
  {
   "cell_type": "code",
   "execution_count": 29,
   "metadata": {},
   "outputs": [],
   "source": [
    "import sqlite3"
   ]
  },
  {
   "cell_type": "code",
   "execution_count": 11,
   "metadata": {},
   "outputs": [],
   "source": [
    "cnx = sqlite3.connect(api.cache.path)\n",
    "df2 = pd.read_sql_query(\"SELECT * FROM data\", cnx)"
   ]
  },
  {
   "cell_type": "code",
   "execution_count": 32,
   "metadata": {},
   "outputs": [
    {
     "data": {
      "text/html": [
       "<div>\n",
       "<style scoped>\n",
       "    .dataframe tbody tr th:only-of-type {\n",
       "        vertical-align: middle;\n",
       "    }\n",
       "\n",
       "    .dataframe tbody tr th {\n",
       "        vertical-align: top;\n",
       "    }\n",
       "\n",
       "    .dataframe thead th {\n",
       "        text-align: right;\n",
       "    }\n",
       "</style>\n",
       "<table border=\"1\" class=\"dataframe\">\n",
       "  <thead>\n",
       "    <tr style=\"text-align: right;\">\n",
       "      <th></th>\n",
       "      <th>query</th>\n",
       "      <th>response</th>\n",
       "      <th>maxNo</th>\n",
       "      <th>accessId</th>\n",
       "      <th>r</th>\n",
       "      <th>format</th>\n",
       "      <th>originCoordLong</th>\n",
       "      <th>originCoordLat</th>\n",
       "    </tr>\n",
       "  </thead>\n",
       "  <tbody>\n",
       "    <tr>\n",
       "      <td>0</td>\n",
       "      <td>{\"accessId\": \"pdyban-4097-9a8e-f21a391aac8f\", ...</td>\n",
       "      <td>{\"stopLocationOrCoordLocation\": [{\"StopLocatio...</td>\n",
       "      <td>1</td>\n",
       "      <td>pdyban-4097-9a8e-f21a391aac8f</td>\n",
       "      <td>2000</td>\n",
       "      <td>json</td>\n",
       "      <td>13.411026</td>\n",
       "      <td>52.521922</td>\n",
       "    </tr>\n",
       "    <tr>\n",
       "      <td>1</td>\n",
       "      <td>{\"accessId\": \"pdyban-4097-9a8e-f21a391aac8f\", ...</td>\n",
       "      <td>{\"stopLocationOrCoordLocation\": [{\"StopLocatio...</td>\n",
       "      <td>1</td>\n",
       "      <td>pdyban-4097-9a8e-f21a391aac8f</td>\n",
       "      <td>2000</td>\n",
       "      <td>json</td>\n",
       "      <td>13.432200</td>\n",
       "      <td>52.522000</td>\n",
       "    </tr>\n",
       "    <tr>\n",
       "      <td>2</td>\n",
       "      <td>{\"accessId\": \"pdyban-4097-9a8e-f21a391aac8f\", ...</td>\n",
       "      <td>{\"stopLocationOrCoordLocation\": [{\"StopLocatio...</td>\n",
       "      <td>1</td>\n",
       "      <td>pdyban-4097-9a8e-f21a391aac8f</td>\n",
       "      <td>2000</td>\n",
       "      <td>json</td>\n",
       "      <td>13.442325</td>\n",
       "      <td>52.522000</td>\n",
       "    </tr>\n",
       "    <tr>\n",
       "      <td>3</td>\n",
       "      <td>{\"accessId\": \"pdyban-4097-9a8e-f21a391aac8f\", ...</td>\n",
       "      <td>{\"stopLocationOrCoordLocation\": [{\"StopLocatio...</td>\n",
       "      <td>1</td>\n",
       "      <td>pdyban-4097-9a8e-f21a391aac8f</td>\n",
       "      <td>2000</td>\n",
       "      <td>json</td>\n",
       "      <td>13.452450</td>\n",
       "      <td>52.522000</td>\n",
       "    </tr>\n",
       "    <tr>\n",
       "      <td>4</td>\n",
       "      <td>{\"accessId\": \"pdyban-4097-9a8e-f21a391aac8f\", ...</td>\n",
       "      <td>{\"stopLocationOrCoordLocation\": [{\"StopLocatio...</td>\n",
       "      <td>1</td>\n",
       "      <td>pdyban-4097-9a8e-f21a391aac8f</td>\n",
       "      <td>2000</td>\n",
       "      <td>json</td>\n",
       "      <td>13.462575</td>\n",
       "      <td>52.522000</td>\n",
       "    </tr>\n",
       "  </tbody>\n",
       "</table>\n",
       "</div>"
      ],
      "text/plain": [
       "                                               query  \\\n",
       "0  {\"accessId\": \"pdyban-4097-9a8e-f21a391aac8f\", ...   \n",
       "1  {\"accessId\": \"pdyban-4097-9a8e-f21a391aac8f\", ...   \n",
       "2  {\"accessId\": \"pdyban-4097-9a8e-f21a391aac8f\", ...   \n",
       "3  {\"accessId\": \"pdyban-4097-9a8e-f21a391aac8f\", ...   \n",
       "4  {\"accessId\": \"pdyban-4097-9a8e-f21a391aac8f\", ...   \n",
       "\n",
       "                                            response  maxNo  \\\n",
       "0  {\"stopLocationOrCoordLocation\": [{\"StopLocatio...      1   \n",
       "1  {\"stopLocationOrCoordLocation\": [{\"StopLocatio...      1   \n",
       "2  {\"stopLocationOrCoordLocation\": [{\"StopLocatio...      1   \n",
       "3  {\"stopLocationOrCoordLocation\": [{\"StopLocatio...      1   \n",
       "4  {\"stopLocationOrCoordLocation\": [{\"StopLocatio...      1   \n",
       "\n",
       "                        accessId     r format  originCoordLong  originCoordLat  \n",
       "0  pdyban-4097-9a8e-f21a391aac8f  2000   json        13.411026       52.521922  \n",
       "1  pdyban-4097-9a8e-f21a391aac8f  2000   json        13.432200       52.522000  \n",
       "2  pdyban-4097-9a8e-f21a391aac8f  2000   json        13.442325       52.522000  \n",
       "3  pdyban-4097-9a8e-f21a391aac8f  2000   json        13.452450       52.522000  \n",
       "4  pdyban-4097-9a8e-f21a391aac8f  2000   json        13.462575       52.522000  "
      ]
     },
     "execution_count": 32,
     "metadata": {},
     "output_type": "execute_result"
    }
   ],
   "source": [
    "df2.head()"
   ]
  },
  {
   "cell_type": "code",
   "execution_count": 35,
   "metadata": {},
   "outputs": [],
   "source": [
    "import json"
   ]
  },
  {
   "cell_type": "code",
   "execution_count": 48,
   "metadata": {},
   "outputs": [],
   "source": [
    "def extractStopGPSPoint(json_string):\n",
    "    res = json.loads(json_string)['stopLocationOrCoordLocation'][0]['StopLocation']\n",
    "    print(res['lat'], res['lon'])\n",
    "    return res\n",
    "    \n"
   ]
  },
  {
   "cell_type": "code",
   "execution_count": 49,
   "metadata": {},
   "outputs": [
    {
     "name": "stdout",
     "output_type": "stream",
     "text": [
      "52.521823 13.411232\n"
     ]
    },
    {
     "data": {
      "text/plain": [
       "{'productAtStop': [{'icon': {'res': 'prod_gen'},\n",
       "   'name': 'M2',\n",
       "   'line': 'M2',\n",
       "   'lineId': 'M2',\n",
       "   'catOut': 'Tram',\n",
       "   'cls': '4',\n",
       "   'catOutS': 'T',\n",
       "   'catOutL': 'Tram'}],\n",
       " 'id': 'A=1@O=S+U Alexanderplatz Bhf/Dircksenstr. (Berlin)@X=13411232@Y=52521823@u=0@U=86@L=900100024@',\n",
       " 'extId': '900100024',\n",
       " 'name': 'S+U Alexanderplatz Bhf/Dircksenstr. (Berlin)',\n",
       " 'lon': 13.411232,\n",
       " 'lat': 52.521823,\n",
       " 'weight': 3358,\n",
       " 'dist': 17,\n",
       " 'products': 4}"
      ]
     },
     "execution_count": 49,
     "metadata": {},
     "output_type": "execute_result"
    }
   ],
   "source": [
    "extractStopGPSPoint(df2['response'].iloc[0])"
   ]
  }
 ],
 "metadata": {
  "kernelspec": {
   "display_name": "Python 3",
   "language": "python",
   "name": "python3"
  },
  "language_info": {
   "codemirror_mode": {
    "name": "ipython",
    "version": 3
   },
   "file_extension": ".py",
   "mimetype": "text/x-python",
   "name": "python",
   "nbconvert_exporter": "python",
   "pygments_lexer": "ipython3",
   "version": "3.7.4"
  }
 },
 "nbformat": 4,
 "nbformat_minor": 4
}
