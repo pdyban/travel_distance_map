{
 "cells": [
  {
   "cell_type": "code",
   "execution_count": 7,
   "metadata": {},
   "outputs": [],
   "source": [
    "import pandas as pd\n",
    "import numpy as np\n",
    "from travel_distance_map import VBBAPICached, Query, GPSPoint, Position\n",
    "from datetime import datetime, timedelta"
   ]
  },
  {
   "cell_type": "markdown",
   "metadata": {},
   "source": [
    "# Compute travel time for an equally spaced rectangular area"
   ]
  },
  {
   "cell_type": "code",
   "execution_count": 8,
   "metadata": {},
   "outputs": [],
   "source": [
    "with open('ACCESS_ID.txt') as f:\n",
    "    ACCESS_ID = f.read().strip()"
   ]
  },
  {
   "cell_type": "code",
   "execution_count": 9,
   "metadata": {},
   "outputs": [],
   "source": [
    "api = VBBAPICached(ACCESS_ID)"
   ]
  },
  {
   "cell_type": "code",
   "execution_count": 12,
   "metadata": {},
   "outputs": [],
   "source": [
    "topleft = GPSPoint(52.522, 13.4322)\n",
    "bottomright = GPSPoint(52.5005, 13.4727)\n",
    "num_points = 2\n",
    "dest = Position(52.5219216, 13.411026, 900100003, 'Alexanderplatz')\n",
    "WALK_VELOCITY = 2.0/3.6\n",
    "dt = datetime(2020, 6, 10, 5, 0, 0)"
   ]
  },
  {
   "cell_type": "markdown",
   "metadata": {},
   "source": [
    "Option 1: compute travel time for a grid of points"
   ]
  },
  {
   "cell_type": "code",
   "execution_count": 25,
   "metadata": {},
   "outputs": [],
   "source": [
    "df = pd.DataFrame(columns=['latitude', 'longitude', 'closest stop ID', 'closest stop name'])\n",
    "\n",
    "lat_arr = np.linspace(topleft.lat, bottomright.lat, num_points)\n",
    "lon_arr = np.linspace(topleft.lon, bottomright.lon, num_points)\n",
    "\n",
    "for lat in lat_arr:\n",
    "    for lon in lon_arr:\n",
    "        origin = GPSPoint(lat, lon)\n",
    "        # closest stop\n",
    "        closest_stop = api.get_closest_stop(origin)\n",
    "        \n",
    "        # shortest travel time\n",
    "        if closest_stop is None:\n",
    "            # there is no stop near the origin\n",
    "            sorted_trips = []\n",
    "        else:\n",
    "            distance_to_closest_stop = origin.distance_utf(closest_stop.point)\n",
    "\n",
    "            trips = api.get_all_trips(closest_stop, dest, dt)\n",
    "            trips_adjusted = []\n",
    "            for travel_time, trip in trips:\n",
    "                trips_adjusted.append((travel_time + timedelta(seconds=distance_to_closest_stop/WALK_VELOCITY), trip))\n",
    "\n",
    "            sorted_trips = sorted(trips_adjusted, key=lambda x:x[0])\n",
    "            \n",
    "        if sorted_trips:\n",
    "            shortest_trip = sorted_trips[0]\n",
    "            shortest_trip_time = shortest_trip[0].total_seconds()\n",
    "            success = True\n",
    "        else:\n",
    "            shortest_trip = (origin.distance_utf(dest.point)/WALK_VELOCITY, ['No trip found'])\n",
    "            shortest_trip_time = origin.distance_utf(dest.point)/WALK_VELOCITY\n",
    "            success = False\n",
    "        shortest_trip_itinerary = shortest_trip[1]\n",
    "        \n",
    "        df = df.append({'latitude': lat, \n",
    "                        'longitude': lon, \n",
    "                        'closest stop latitude': closest_stop.point.lat, \n",
    "                        'closest stop longitude': closest_stop.point.lon, \n",
    "                        'closest stop ID': closest_stop.id, \n",
    "                        'closest stop name': closest_stop.name,\n",
    "                        'shortest travel time': shortest_trip_time,\n",
    "                        'distance to closest stop': distance_to_closest_stop,\n",
    "                        'shrotest trip itinerary': shortest_trip_itinerary\n",
    "                       }, ignore_index=True)"
   ]
  },
  {
   "cell_type": "code",
   "execution_count": 26,
   "metadata": {},
   "outputs": [
    {
     "data": {
      "text/html": [
       "<div>\n",
       "<style scoped>\n",
       "    .dataframe tbody tr th:only-of-type {\n",
       "        vertical-align: middle;\n",
       "    }\n",
       "\n",
       "    .dataframe tbody tr th {\n",
       "        vertical-align: top;\n",
       "    }\n",
       "\n",
       "    .dataframe thead th {\n",
       "        text-align: right;\n",
       "    }\n",
       "</style>\n",
       "<table border=\"1\" class=\"dataframe\">\n",
       "  <thead>\n",
       "    <tr style=\"text-align: right;\">\n",
       "      <th></th>\n",
       "      <th>latitude</th>\n",
       "      <th>longitude</th>\n",
       "      <th>closest stop ID</th>\n",
       "      <th>closest stop name</th>\n",
       "      <th>closest stop latitude</th>\n",
       "      <th>closest stop longitude</th>\n",
       "      <th>distance to closest stop</th>\n",
       "      <th>shortest travel time</th>\n",
       "      <th>shrotest trip itinerary</th>\n",
       "    </tr>\n",
       "  </thead>\n",
       "  <tbody>\n",
       "    <tr>\n",
       "      <td>0</td>\n",
       "      <td>52.5220</td>\n",
       "      <td>13.4322</td>\n",
       "      <td>900120019</td>\n",
       "      <td>Platz der Vereinten Nationen (Berlin)</td>\n",
       "      <td>52.523252</td>\n",
       "      <td>13.433057</td>\n",
       "      <td>150.807694</td>\n",
       "      <td>631.453849</td>\n",
       "      <td>[Platz der Vereinten Nationen (Berlin), U Alex...</td>\n",
       "    </tr>\n",
       "    <tr>\n",
       "      <td>1</td>\n",
       "      <td>52.5220</td>\n",
       "      <td>13.4727</td>\n",
       "      <td>900160511</td>\n",
       "      <td>Storkower Str./Paul-Junius-Str. (Berlin)</td>\n",
       "      <td>52.523000</td>\n",
       "      <td>13.472448</td>\n",
       "      <td>112.494424</td>\n",
       "      <td>1042.489963</td>\n",
       "      <td>[Storkower Str./Paul-Junius-Str. (Berlin), S S...</td>\n",
       "    </tr>\n",
       "    <tr>\n",
       "      <td>2</td>\n",
       "      <td>52.5005</td>\n",
       "      <td>13.4322</td>\n",
       "      <td>900014106</td>\n",
       "      <td>Lausitzer Platz (Berlin)</td>\n",
       "      <td>52.499467</td>\n",
       "      <td>13.431916</td>\n",
       "      <td>116.461989</td>\n",
       "      <td>809.631580</td>\n",
       "      <td>[Lausitzer Platz (Berlin), U Schlesisches Tor ...</td>\n",
       "    </tr>\n",
       "    <tr>\n",
       "      <td>3</td>\n",
       "      <td>52.5005</td>\n",
       "      <td>13.4727</td>\n",
       "      <td>900160008</td>\n",
       "      <td>S Rummelsburg/Hauptstr. EV (Berlin)</td>\n",
       "      <td>52.500941</td>\n",
       "      <td>13.476349</td>\n",
       "      <td>251.821674</td>\n",
       "      <td>1173.279014</td>\n",
       "      <td>[S Rummelsburg/Hauptstr. EV (Berlin), S Rummel...</td>\n",
       "    </tr>\n",
       "  </tbody>\n",
       "</table>\n",
       "</div>"
      ],
      "text/plain": [
       "   latitude  longitude closest stop ID  \\\n",
       "0   52.5220    13.4322       900120019   \n",
       "1   52.5220    13.4727       900160511   \n",
       "2   52.5005    13.4322       900014106   \n",
       "3   52.5005    13.4727       900160008   \n",
       "\n",
       "                          closest stop name  closest stop latitude  \\\n",
       "0     Platz der Vereinten Nationen (Berlin)              52.523252   \n",
       "1  Storkower Str./Paul-Junius-Str. (Berlin)              52.523000   \n",
       "2                  Lausitzer Platz (Berlin)              52.499467   \n",
       "3       S Rummelsburg/Hauptstr. EV (Berlin)              52.500941   \n",
       "\n",
       "   closest stop longitude  distance to closest stop  shortest travel time  \\\n",
       "0               13.433057                150.807694            631.453849   \n",
       "1               13.472448                112.494424           1042.489963   \n",
       "2               13.431916                116.461989            809.631580   \n",
       "3               13.476349                251.821674           1173.279014   \n",
       "\n",
       "                             shrotest trip itinerary  \n",
       "0  [Platz der Vereinten Nationen (Berlin), U Alex...  \n",
       "1  [Storkower Str./Paul-Junius-Str. (Berlin), S S...  \n",
       "2  [Lausitzer Platz (Berlin), U Schlesisches Tor ...  \n",
       "3  [S Rummelsburg/Hauptstr. EV (Berlin), S Rummel...  "
      ]
     },
     "execution_count": 26,
     "metadata": {},
     "output_type": "execute_result"
    }
   ],
   "source": [
    "df"
   ]
  },
  {
   "cell_type": "markdown",
   "metadata": {},
   "source": [
    "Option 2: compute lsit of stops and then compute travel time for them"
   ]
  },
  {
   "cell_type": "code",
   "execution_count": 32,
   "metadata": {},
   "outputs": [
    {
     "name": "stdout",
     "output_type": "stream",
     "text": [
      "{'id': '900120019', 'name': 'Platz der Vereinten Nationen (Berlin)', 'point': '(52.523252,13.433057)'}\n",
      "{'id': '900160511', 'name': 'Storkower Str./Paul-Junius-Str. (Berlin)', 'point': '(52.523,13.472448)'}\n",
      "{'id': '900014106', 'name': 'Lausitzer Platz (Berlin)', 'point': '(52.499467,13.431916)'}\n",
      "{'id': '900160008', 'name': 'S Rummelsburg/Hauptstr. EV (Berlin)', 'point': '(52.500941,13.476349)'}\n"
     ]
    }
   ],
   "source": [
    "df = pd.DataFrame(columns=['latitude', 'longitude'])\n",
    "\n",
    "lat_arr = np.linspace(topleft.lat, bottomright.lat, num_points)\n",
    "lon_arr = np.linspace(topleft.lon, bottomright.lon, num_points)\n",
    "stops = []\n",
    "for lat in lat_arr:\n",
    "    for lon in lon_arr:\n",
    "        origin = GPSPoint(lat, lon)\n",
    "        # closest stop\n",
    "        closest_stop = api.get_closest_stop(origin)\n",
    "        stops.append(closest_stop)\n",
    "        \n",
    "for stop in stops:\n",
    "    print(stop)\n",
    "    trips = api.get_all_trips(stop, dest, dt)\n",
    "    sorted_trips = sorted(trips, key=lambda x:x[0])\n",
    "\n",
    "    if sorted_trips:\n",
    "        shortest_trip = sorted_trips[0]\n",
    "        shortest_trip_time = shortest_trip[0].total_seconds()\n",
    "        success = True\n",
    "    else:\n",
    "        shortest_trip = (origin.distance_utf(dest.point)/WALK_VELOCITY, ['No trip found'])\n",
    "        shortest_trip_time = origin.distance_utf(dest.point)/WALK_VELOCITY\n",
    "        success = False\n",
    "    shortest_trip_itinerary = shortest_trip[1]\n",
    "        \n",
    "    df = df.append({'latitude': stop.point.lat, \n",
    "                    'longitude': stop.point.lon, \n",
    "                    'ID': stop.id, \n",
    "                    'name': stop.name,\n",
    "                    'shortest travel time': shortest_trip_time,\n",
    "                    'shrotest trip itinerary': shortest_trip_itinerary\n",
    "                   }, ignore_index=True)"
   ]
  },
  {
   "cell_type": "code",
   "execution_count": 33,
   "metadata": {},
   "outputs": [
    {
     "data": {
      "text/html": [
       "<div>\n",
       "<style scoped>\n",
       "    .dataframe tbody tr th:only-of-type {\n",
       "        vertical-align: middle;\n",
       "    }\n",
       "\n",
       "    .dataframe tbody tr th {\n",
       "        vertical-align: top;\n",
       "    }\n",
       "\n",
       "    .dataframe thead th {\n",
       "        text-align: right;\n",
       "    }\n",
       "</style>\n",
       "<table border=\"1\" class=\"dataframe\">\n",
       "  <thead>\n",
       "    <tr style=\"text-align: right;\">\n",
       "      <th></th>\n",
       "      <th>latitude</th>\n",
       "      <th>longitude</th>\n",
       "      <th>ID</th>\n",
       "      <th>name</th>\n",
       "      <th>shortest travel time</th>\n",
       "      <th>shrotest trip itinerary</th>\n",
       "    </tr>\n",
       "  </thead>\n",
       "  <tbody>\n",
       "    <tr>\n",
       "      <td>0</td>\n",
       "      <td>52.523252</td>\n",
       "      <td>13.433057</td>\n",
       "      <td>900120019</td>\n",
       "      <td>Platz der Vereinten Nationen (Berlin)</td>\n",
       "      <td>360.0</td>\n",
       "      <td>[Platz der Vereinten Nationen (Berlin), U Alex...</td>\n",
       "    </tr>\n",
       "    <tr>\n",
       "      <td>1</td>\n",
       "      <td>52.523000</td>\n",
       "      <td>13.472448</td>\n",
       "      <td>900160511</td>\n",
       "      <td>Storkower Str./Paul-Junius-Str. (Berlin)</td>\n",
       "      <td>840.0</td>\n",
       "      <td>[Storkower Str./Paul-Junius-Str. (Berlin), S S...</td>\n",
       "    </tr>\n",
       "    <tr>\n",
       "      <td>2</td>\n",
       "      <td>52.499467</td>\n",
       "      <td>13.431916</td>\n",
       "      <td>900014106</td>\n",
       "      <td>Lausitzer Platz (Berlin)</td>\n",
       "      <td>600.0</td>\n",
       "      <td>[Lausitzer Platz (Berlin), U Schlesisches Tor ...</td>\n",
       "    </tr>\n",
       "    <tr>\n",
       "      <td>3</td>\n",
       "      <td>52.500941</td>\n",
       "      <td>13.476349</td>\n",
       "      <td>900160008</td>\n",
       "      <td>S Rummelsburg/Hauptstr. EV (Berlin)</td>\n",
       "      <td>720.0</td>\n",
       "      <td>[S Rummelsburg/Hauptstr. EV (Berlin), S Rummel...</td>\n",
       "    </tr>\n",
       "  </tbody>\n",
       "</table>\n",
       "</div>"
      ],
      "text/plain": [
       "    latitude  longitude         ID                                      name  \\\n",
       "0  52.523252  13.433057  900120019     Platz der Vereinten Nationen (Berlin)   \n",
       "1  52.523000  13.472448  900160511  Storkower Str./Paul-Junius-Str. (Berlin)   \n",
       "2  52.499467  13.431916  900014106                  Lausitzer Platz (Berlin)   \n",
       "3  52.500941  13.476349  900160008       S Rummelsburg/Hauptstr. EV (Berlin)   \n",
       "\n",
       "   shortest travel time                            shrotest trip itinerary  \n",
       "0                 360.0  [Platz der Vereinten Nationen (Berlin), U Alex...  \n",
       "1                 840.0  [Storkower Str./Paul-Junius-Str. (Berlin), S S...  \n",
       "2                 600.0  [Lausitzer Platz (Berlin), U Schlesisches Tor ...  \n",
       "3                 720.0  [S Rummelsburg/Hauptstr. EV (Berlin), S Rummel...  "
      ]
     },
     "execution_count": 33,
     "metadata": {},
     "output_type": "execute_result"
    }
   ],
   "source": [
    "df"
   ]
  },
  {
   "cell_type": "code",
   "execution_count": null,
   "metadata": {},
   "outputs": [],
   "source": []
  },
  {
   "cell_type": "markdown",
   "metadata": {},
   "source": [
    "Render results"
   ]
  },
  {
   "cell_type": "code",
   "execution_count": 20,
   "metadata": {},
   "outputs": [],
   "source": [
    "import folium\n",
    "from folium import plugins\n",
    "import pandas as pd\n",
    "import matplotlib.pyplot as plt\n",
    "import seaborn as sns\n",
    "import numpy as np\n",
    "\n",
    "%matplotlib inline"
   ]
  },
  {
   "cell_type": "code",
   "execution_count": 34,
   "metadata": {},
   "outputs": [
    {
     "data": {
      "text/html": [
       "<div style=\"width:100%;\"><div style=\"position:relative;width:100%;height:0;padding-bottom:60%;\"><iframe src=\"data:text/html;charset=utf-8;base64,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\" style=\"position:absolute;width:100%;height:100%;left:0;top:0;border:none !important;\" allowfullscreen webkitallowfullscreen mozallowfullscreen></iframe></div></div>"
      ],
      "text/plain": [
       "<folium.folium.Map at 0x1a214c6190>"
      ]
     },
     "execution_count": 34,
     "metadata": {},
     "output_type": "execute_result"
    }
   ],
   "source": [
    "m = folium.Map(((topleft.lat + bottomright.lat)/2.0, (topleft.lon + bottomright.lon)/2.0), zoom_start=14)\n",
    "for index, row in df.iterrows():\n",
    "    folium.CircleMarker((row['latitude'], row['longitude']), fill_color='black', opacity=0.4, radius=2, color='black', stroke=True, tooltip='{:.2f}'.format(row['shortest travel time'])).add_to(m)\n",
    "    # folium.CircleMarker((row['closest stop latitude'], row['closest stop longitude']), fill_color='green', opacity=0.7, radius=3, color='green', stroke=True, tooltip='{:.2f}'.format(row['shortest travel time'])).add_to(m)\n",
    "m"
   ]
  },
  {
   "cell_type": "code",
   "execution_count": null,
   "metadata": {},
   "outputs": [],
   "source": []
  }
 ],
 "metadata": {
  "kernelspec": {
   "display_name": "Python 3",
   "language": "python",
   "name": "python3"
  },
  "language_info": {
   "codemirror_mode": {
    "name": "ipython",
    "version": 3
   },
   "file_extension": ".py",
   "mimetype": "text/x-python",
   "name": "python",
   "nbconvert_exporter": "python",
   "pygments_lexer": "ipython3",
   "version": "3.7.4"
  }
 },
 "nbformat": 4,
 "nbformat_minor": 4
}
