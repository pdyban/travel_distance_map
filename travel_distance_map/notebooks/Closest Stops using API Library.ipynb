{
 "cells": [
  {
   "cell_type": "code",
   "execution_count": 1,
   "metadata": {},
   "outputs": [],
   "source": [
    "import pandas as pd\n",
    "import numpy as np\n",
    "import sys\n",
    "import os\n",
    "sys.path.append(os.path.abspath('../..'))\n",
    "from travel_distance_map import VBBAPICached, Query, GPSPoint, Position\n",
    "from datetime import datetime, timedelta"
   ]
  },
  {
   "cell_type": "markdown",
   "metadata": {},
   "source": [
    "# Compute travel time for an equally spaced rectangular area"
   ]
  },
  {
   "cell_type": "code",
   "execution_count": 2,
   "metadata": {},
   "outputs": [],
   "source": [
    "with open('../../ACCESS_ID.txt') as f:\n",
    "    ACCESS_ID = f.read().strip()"
   ]
  },
  {
   "cell_type": "code",
   "execution_count": 3,
   "metadata": {},
   "outputs": [],
   "source": [
    "api = VBBAPICached(ACCESS_ID)"
   ]
  },
  {
   "cell_type": "code",
   "execution_count": 4,
   "metadata": {},
   "outputs": [],
   "source": [
    "# Friedrichshain South:\n",
    "# topleft = GPSPoint(52.522, 13.4322)\n",
    "# bottomright = GPSPoint(52.5005, 13.4727)\n",
    "\n",
    "# From Alexanderplatz to Lichtenberg\n",
    "#topleft = GPSPoint(52.5307, 13.4082)\n",
    "#bottomright = GPSPoint(52.4999, 13.5005)\n",
    "\n",
    "# From Zoologischer Garten to Lichteberg\n",
    "topleft = GPSPoint(52.551, 13.3154)  # Fgn Tegel\n",
    "bottomright = GPSPoint(52.4999, 13.5005)  # Lichtenberg\n",
    "\n",
    "num_points = 40  # low resolution\n",
    "WALK_VELOCITY = 4.0/3.6\n",
    "\n",
    "dt = datetime(2020, 7, 10, 8, 0, 0)  # Friday morning commute"
   ]
  },
  {
   "cell_type": "code",
   "execution_count": 5,
   "metadata": {},
   "outputs": [],
   "source": [
    "geo_dest = GPSPoint(52.50627, 13.33231)  # Zoologischer Garten\n",
    "dest = api.get_closest_stop(geo_dest)  # S-Bf Zoologischer Garten\n",
    "# dest = Position(52.5219216, 13.411026, 900100003, 'Alexanderplatz')"
   ]
  },
  {
   "cell_type": "markdown",
   "metadata": {},
   "source": [
    "Compute list of nearest stops and then compute travel time for them, then interpolate between the stops using distance transform and walking speed"
   ]
  },
  {
   "cell_type": "code",
   "execution_count": 6,
   "metadata": {},
   "outputs": [
    {
     "name": "stdout",
     "output_type": "stream",
     "text": [
      "sssssssssSsssssssssSsssssssssSsssssssssSsssssssssSsssssssssSsssssssssSsssssssssSsssssssssSsssssssssSsssssssssSsssssssssSsssssssssSsssssssssSsssssssssSsssssssssSsssssssssSsssssssssSsssssssssSsssssssssSsssssssssSsssssssssSsssssssssSsssssssssSsssssssssSsssssssssSsssssssssSsssssssssSsssssssssSsssssssssSsssssssssSsssssssssSsssssssssSsssssssssSsssssssssSsssssssssSsssssssssSsssssssssSsssssssssSsssssssssSsssssssssSsssssssssSsssssssssSsssssssssSsssssssssSsssssssssSsssssssssSsssssssssSsssssssssSsssssssssSsssssssssSsssssssssSsssssssssSsssssssssSsssssssssSsssssssssSsssssssssSsssssssssSsssssssssSsssssssssSsssssssssSsssssssssSsssssssssSsssssssssSsssssssssSsssssssssSsssssssssSsssssssssSsssssssssSsssssssssSsssssssssSsssssssssSsssssssssSsssssssssSsssssssssSsssssssssSsssssssssSsssssssssSsssssssssSsssssssssSsssssssssSsssssssssSsssssssssSsssssssssSsssssssssSsssssssssSsssssssssSsssssssssSsssssssssSsssssssssSsssssssssSsssssssssSsssssssssSsssssssssSsssssssssSsssssssssSsssssssssSsssssssssSsssssssssSsssssssssSsssssssssSsssssssssSsssssssssSsssssssssSsssssssssSsssssssssSsssssssssSsssssssssSsssssssssSsssssssssSsssssssssSsssssssssSsssssssssSsssssssssSsssssssssSsssssssssSsssssssssSsssssssssSsssssssssSsssssssssSsssssssssSsssssssssSsssssssssSsssssssssSsssssssssSsssssssssSsssssssssSsssssssssSsssssssssSsssssssssSsssssssssSsssssssssSsssssssssSsssssssssSsssssssssSsssssssssSsssssssssSsssssssssSsssssssssSsssssssssSsssssssssSsssssssssSsssssssssSsssssssssSsssssssssSsssssssssSsssssssssSsssssssssSsssssssssSsssssssssSsssssssssSsssssssssSsssssssssSsssssssssSsssssssssSsssssssssSsssssssssSsssssssssSsssssssssSsssssssssS\n",
      "X.........X.........X.........X.........X.........X.........X.........X.........X.........X.........X.........X.........X.........X.........X.........X.........X.........X.........X.........X.........X.........X.........X.........X.........X.........X.........X.........X.........X.........X.........X.........X.........X.........X.........X.........X.........X.........X.........X.........X.........X.........X.........X.........X.........X.........X.........X.........X.........X.........X.........X.........X.........X.........X.........X.........X.........X.........X.........X.........X.........X.........X.........X.........X.........X.........X.........X.........X.........X.........X.........X.........X.........X.........X.........X.........X.........X.........X.........X.........X.........X.........X.........X.........X.........X.........X.........X.........X.........X.........X.........X.........X.........X.........X.........X.........X.........X.........X.........X.........X.........X.........X.........X.........X.........X.........X.........X.........X.........X.........X.........X.........X.........X.........X.........X.........X.........X.........X.........X.........X.........X.........X.........X.........X.........X.........X.........X.........X.........X.........X.........X.........X.........X.........X.........X.........X.........X.........X.........X.........X.........X.........X.........X.........X.........X.........X.........X.........X.........X.........X.........X.........X.........X.........X.........X.........X.........X.........X.........X.........X......"
     ]
    }
   ],
   "source": [
    "df = pd.DataFrame(columns=['latitude', 'longitude'])\n",
    "\n",
    "lat_arr = np.linspace(topleft.lat, bottomright.lat, num_points)\n",
    "lon_arr = np.linspace(topleft.lon, bottomright.lon, num_points)\n",
    "stops = []\n",
    "index = 0\n",
    "for lat in lat_arr:\n",
    "    for lon in lon_arr:\n",
    "        index += 1\n",
    "        origin = GPSPoint(lat, lon)\n",
    "        # closest stop\n",
    "        closest_stop = api.get_closest_stop(origin)\n",
    "        if closest_stop is not None:\n",
    "            stops.append(closest_stop)\n",
    "        print(('s', 'S')[index%10==0], end='')\n",
    "print()\n",
    "        \n",
    "for index, stop in enumerate(stops):\n",
    "    # print(stop)\n",
    "    if stop is None:\n",
    "        continue\n",
    "    trips = api.get_all_trips(stop, dest, dt)\n",
    "    sorted_trips = sorted(trips, key=lambda x:x[0])\n",
    "\n",
    "    if sorted_trips:\n",
    "        shortest_trip = sorted_trips[0]\n",
    "        shortest_trip_time = shortest_trip[0].total_seconds()\n",
    "        success = True\n",
    "    else:\n",
    "        shortest_trip = (origin.distance_utf(dest.point)/WALK_VELOCITY, ['No trip found'])\n",
    "        shortest_trip_time = origin.distance_utf(dest.point)/WALK_VELOCITY\n",
    "        success = False\n",
    "    shortest_trip_itinerary = shortest_trip[1]\n",
    "        \n",
    "    df = df.append({'latitude': stop.point.lat, \n",
    "                    'longitude': stop.point.lon, \n",
    "                    'ID': stop.id, \n",
    "                    'name': stop.name,\n",
    "                    'shortest travel time': shortest_trip_time,\n",
    "                    'shrotest trip itinerary': shortest_trip_itinerary\n",
    "                   }, ignore_index=True)\n",
    "    print(('.', 'X')[index%10==0], end='')"
   ]
  },
  {
   "cell_type": "code",
   "execution_count": 7,
   "metadata": {},
   "outputs": [
    {
     "data": {
      "text/html": [
       "<div>\n",
       "<style scoped>\n",
       "    .dataframe tbody tr th:only-of-type {\n",
       "        vertical-align: middle;\n",
       "    }\n",
       "\n",
       "    .dataframe tbody tr th {\n",
       "        vertical-align: top;\n",
       "    }\n",
       "\n",
       "    .dataframe thead th {\n",
       "        text-align: right;\n",
       "    }\n",
       "</style>\n",
       "<table border=\"1\" class=\"dataframe\">\n",
       "  <thead>\n",
       "    <tr style=\"text-align: right;\">\n",
       "      <th></th>\n",
       "      <th>latitude</th>\n",
       "      <th>longitude</th>\n",
       "      <th>ID</th>\n",
       "      <th>name</th>\n",
       "      <th>shortest travel time</th>\n",
       "      <th>shrotest trip itinerary</th>\n",
       "    </tr>\n",
       "  </thead>\n",
       "  <tbody>\n",
       "    <tr>\n",
       "      <td>0</td>\n",
       "      <td>52.547550</td>\n",
       "      <td>13.312575</td>\n",
       "      <td>900019153</td>\n",
       "      <td>Friedrich-Olbricht-Damm/Saatwinkler Damm (Berlin)</td>\n",
       "      <td>1200.000000</td>\n",
       "      <td>[Friedrich-Olbricht-Damm/Saatwinkler Damm (Ber...</td>\n",
       "    </tr>\n",
       "    <tr>\n",
       "      <td>1</td>\n",
       "      <td>52.546975</td>\n",
       "      <td>13.317789</td>\n",
       "      <td>900019105</td>\n",
       "      <td>Buchholzweg (Berlin)</td>\n",
       "      <td>1080.000000</td>\n",
       "      <td>[Buchholzweg (Berlin), U Turmstr. (Berlin) [Bu...</td>\n",
       "    </tr>\n",
       "    <tr>\n",
       "      <td>2</td>\n",
       "      <td>52.546975</td>\n",
       "      <td>13.317789</td>\n",
       "      <td>900019105</td>\n",
       "      <td>Buchholzweg (Berlin)</td>\n",
       "      <td>1080.000000</td>\n",
       "      <td>[Buchholzweg (Berlin), U Turmstr. (Berlin) [Bu...</td>\n",
       "    </tr>\n",
       "    <tr>\n",
       "      <td>3</td>\n",
       "      <td>52.552683</td>\n",
       "      <td>13.336882</td>\n",
       "      <td>900011103</td>\n",
       "      <td>Otawistr. (Berlin)</td>\n",
       "      <td>10245.365037</td>\n",
       "      <td>[No trip found]</td>\n",
       "    </tr>\n",
       "    <tr>\n",
       "      <td>4</td>\n",
       "      <td>52.552683</td>\n",
       "      <td>13.336882</td>\n",
       "      <td>900011103</td>\n",
       "      <td>Otawistr. (Berlin)</td>\n",
       "      <td>10245.365037</td>\n",
       "      <td>[No trip found]</td>\n",
       "    </tr>\n",
       "    <tr>\n",
       "      <td>...</td>\n",
       "      <td>...</td>\n",
       "      <td>...</td>\n",
       "      <td>...</td>\n",
       "      <td>...</td>\n",
       "      <td>...</td>\n",
       "      <td>...</td>\n",
       "    </tr>\n",
       "    <tr>\n",
       "      <td>1592</td>\n",
       "      <td>52.501966</td>\n",
       "      <td>13.481419</td>\n",
       "      <td>900160547</td>\n",
       "      <td>Nöldnerstr./Stadthausstr. (Berlin)</td>\n",
       "      <td>1740.000000</td>\n",
       "      <td>[Nöldnerstr./Stadthausstr. (Berlin), S Rummels...</td>\n",
       "    </tr>\n",
       "    <tr>\n",
       "      <td>1593</td>\n",
       "      <td>52.502271</td>\n",
       "      <td>13.485141</td>\n",
       "      <td>900160534</td>\n",
       "      <td>S Nöldnerplatz/Schlichtallee (Berlin)</td>\n",
       "      <td>1380.000000</td>\n",
       "      <td>[S Nöldnerplatz/Schlichtallee (Berlin), S Ostk...</td>\n",
       "    </tr>\n",
       "    <tr>\n",
       "      <td>1594</td>\n",
       "      <td>52.501705</td>\n",
       "      <td>13.493447</td>\n",
       "      <td>900160019</td>\n",
       "      <td>Lückstr./Weitlingstr. (Berlin)</td>\n",
       "      <td>1620.000000</td>\n",
       "      <td>[Lückstr./Weitlingstr. (Berlin), S Rummelsburg...</td>\n",
       "    </tr>\n",
       "    <tr>\n",
       "      <td>1595</td>\n",
       "      <td>52.500267</td>\n",
       "      <td>13.496108</td>\n",
       "      <td>900160519</td>\n",
       "      <td>Wönnichstr. (Berlin)</td>\n",
       "      <td>1500.000000</td>\n",
       "      <td>[Wönnichstr. (Berlin), S Ostkreuz Bhf (Berlin)...</td>\n",
       "    </tr>\n",
       "    <tr>\n",
       "      <td>1596</td>\n",
       "      <td>52.498487</td>\n",
       "      <td>13.501447</td>\n",
       "      <td>900161509</td>\n",
       "      <td>Michiganseestr. (Berlin)</td>\n",
       "      <td>1800.000000</td>\n",
       "      <td>[Michiganseestr. (Berlin), S Ostkreuz Bhf (Ber...</td>\n",
       "    </tr>\n",
       "  </tbody>\n",
       "</table>\n",
       "<p>1597 rows × 6 columns</p>\n",
       "</div>"
      ],
      "text/plain": [
       "       latitude  longitude         ID  \\\n",
       "0     52.547550  13.312575  900019153   \n",
       "1     52.546975  13.317789  900019105   \n",
       "2     52.546975  13.317789  900019105   \n",
       "3     52.552683  13.336882  900011103   \n",
       "4     52.552683  13.336882  900011103   \n",
       "...         ...        ...        ...   \n",
       "1592  52.501966  13.481419  900160547   \n",
       "1593  52.502271  13.485141  900160534   \n",
       "1594  52.501705  13.493447  900160019   \n",
       "1595  52.500267  13.496108  900160519   \n",
       "1596  52.498487  13.501447  900161509   \n",
       "\n",
       "                                                   name  shortest travel time  \\\n",
       "0     Friedrich-Olbricht-Damm/Saatwinkler Damm (Berlin)           1200.000000   \n",
       "1                                  Buchholzweg (Berlin)           1080.000000   \n",
       "2                                  Buchholzweg (Berlin)           1080.000000   \n",
       "3                                    Otawistr. (Berlin)          10245.365037   \n",
       "4                                    Otawistr. (Berlin)          10245.365037   \n",
       "...                                                 ...                   ...   \n",
       "1592                 Nöldnerstr./Stadthausstr. (Berlin)           1740.000000   \n",
       "1593              S Nöldnerplatz/Schlichtallee (Berlin)           1380.000000   \n",
       "1594                     Lückstr./Weitlingstr. (Berlin)           1620.000000   \n",
       "1595                               Wönnichstr. (Berlin)           1500.000000   \n",
       "1596                           Michiganseestr. (Berlin)           1800.000000   \n",
       "\n",
       "                                shrotest trip itinerary  \n",
       "0     [Friedrich-Olbricht-Damm/Saatwinkler Damm (Ber...  \n",
       "1     [Buchholzweg (Berlin), U Turmstr. (Berlin) [Bu...  \n",
       "2     [Buchholzweg (Berlin), U Turmstr. (Berlin) [Bu...  \n",
       "3                                       [No trip found]  \n",
       "4                                       [No trip found]  \n",
       "...                                                 ...  \n",
       "1592  [Nöldnerstr./Stadthausstr. (Berlin), S Rummels...  \n",
       "1593  [S Nöldnerplatz/Schlichtallee (Berlin), S Ostk...  \n",
       "1594  [Lückstr./Weitlingstr. (Berlin), S Rummelsburg...  \n",
       "1595  [Wönnichstr. (Berlin), S Ostkreuz Bhf (Berlin)...  \n",
       "1596  [Michiganseestr. (Berlin), S Ostkreuz Bhf (Ber...  \n",
       "\n",
       "[1597 rows x 6 columns]"
      ]
     },
     "execution_count": 7,
     "metadata": {},
     "output_type": "execute_result"
    }
   ],
   "source": [
    "df"
   ]
  },
  {
   "cell_type": "markdown",
   "metadata": {},
   "source": [
    "Create a dense interpolated map"
   ]
  },
  {
   "cell_type": "code",
   "execution_count": 8,
   "metadata": {},
   "outputs": [],
   "source": [
    "points = df[['latitude','longitude']].to_numpy()\n",
    "values = df[['shortest travel time']].to_numpy().reshape((len(df), ))"
   ]
  },
  {
   "cell_type": "code",
   "execution_count": 9,
   "metadata": {},
   "outputs": [],
   "source": [
    "NUM_INTERPOLATED_POINTS = 100j\n",
    "grid_x, grid_y = np.mgrid[bottomright.lat:topleft.lat:NUM_INTERPOLATED_POINTS, topleft.lon:bottomright.lon:NUM_INTERPOLATED_POINTS]"
   ]
  },
  {
   "cell_type": "code",
   "execution_count": 10,
   "metadata": {},
   "outputs": [],
   "source": [
    "bottomleft = GPSPoint(topleft.lat, bottomright.lon)\n",
    "dist_y = topleft.distance_utf(bottomleft)\n",
    "\n",
    "topright = GPSPoint(bottomright.lat, topleft.lon)\n",
    "dist_x = topleft.distance_utf(topright)\n",
    "\n",
    "distance_between_adjacent_points = np.asarray((np.abs(dist_x/NUM_INTERPOLATED_POINTS/WALK_VELOCITY), np.abs(dist_y/NUM_INTERPOLATED_POINTS/WALK_VELOCITY)))"
   ]
  },
  {
   "cell_type": "code",
   "execution_count": 11,
   "metadata": {},
   "outputs": [],
   "source": [
    "def interpolate(points, values, grid, distance_fun):\n",
    "    \"\"\"\n",
    "    Rasterizes data points on a grid and interpolates between the points using distance transformation function.\n",
    "    \n",
    "    @param points list of 2D points\n",
    "    @param values list of 1D point values\n",
    "    @param grid tuple of grid index arrays (grid_x, grid_y), cmp. numpy.mgrid class\n",
    "    @param distance_fun distance function taking two points as arguments and returning their distance value\n",
    "    @return distance map\n",
    "    \"\"\"\n",
    "    grid_x, grid_y = grid\n",
    "    distance_map = np.zeros_like(grid_x)\n",
    "    shape = grid_x.shape\n",
    "    assert grid_x.shape == grid_y.shape\n",
    "    for col_index in range(shape[1]):\n",
    "        for row_index in range(shape[0]):\n",
    "            value_x = grid_x[row_index, col_index]\n",
    "            value_y = grid_y[row_index, col_index]\n",
    "            distance_map[row_index, col_index] = min(distance_fun(GPSPoint(value_x, value_y), GPSPoint(point[0], point[1]))+value for point, value in zip(points, values))\n",
    "    return distance_map\n",
    "\n",
    "def dist_utf(point1, point2):\n",
    "    return point1.distance_utf(point2)/WALK_VELOCITY\n",
    "# def eucl_dist_fun(point1, point2):\n",
    "#     return np.linalg.norm(point1-point2)\n",
    "distance_map = interpolate(points, values, (grid_x,grid_y), dist_utf)"
   ]
  },
  {
   "cell_type": "code",
   "execution_count": 12,
   "metadata": {},
   "outputs": [],
   "source": [
    "res_folder = '{}__{}'.format(dest.id, dt.strftime('%Y%m%d_%H%M%S'))\n",
    "os.makedirs(res_folder)\n",
    "np.save(os.path.join(res_folder, 'points.npy'), points)\n",
    "np.save(os.path.join(res_folder, 'values.npy'), values)\n",
    "np.save(os.path.join(res_folder, 'distance_map.npy'), distance_map)\n",
    "np.save(os.path.join(res_folder, 'grid_x.npy'), grid_x)\n",
    "np.save(os.path.join(res_folder, 'grid_y.npy'), grid_y)"
   ]
  },
  {
   "cell_type": "markdown",
   "metadata": {},
   "source": [
    "Render results as map overlay"
   ]
  },
  {
   "cell_type": "code",
   "execution_count": 13,
   "metadata": {},
   "outputs": [],
   "source": [
    "import folium\n",
    "from folium import plugins\n",
    "import matplotlib.pyplot as plt\n",
    "from matplotlib import cm\n",
    "from matplotlib.colors import ListedColormap, LinearSegmentedColormap\n",
    "\n",
    "%matplotlib inline"
   ]
  },
  {
   "cell_type": "code",
   "execution_count": 14,
   "metadata": {},
   "outputs": [],
   "source": [
    "top = cm.get_cmap('Oranges_r', 128)\n",
    "bottom = cm.get_cmap('Greens', 128)\n",
    "newcolors = np.vstack((top(np.linspace(0.2, 0.8, 128)),\n",
    "                       bottom(np.linspace(0.2, 0.8, 128))))\n",
    "newcmp = ListedColormap(newcolors, name='OrangeBlue')"
   ]
  },
  {
   "cell_type": "code",
   "execution_count": 15,
   "metadata": {},
   "outputs": [],
   "source": [
    "map_center = (topleft.lat + bottomright.lat)/2.0, (topleft.lon + bottomright.lon)/2.0"
   ]
  },
  {
   "cell_type": "code",
   "execution_count": 16,
   "metadata": {},
   "outputs": [],
   "source": [
    "m = folium.Map(map_center, zoom_start=14)\n",
    "colors = ['green', 'orange', 'red']\n",
    "for index, row in df.iterrows():\n",
    "    tt = row['shortest travel time']\n",
    "    color = colors[min(int(tt//500), len(colors)-1)]\n",
    "    folium.CircleMarker((row['latitude'], row['longitude']), fill_color=color, opacity=0.8, radius=3, color=color, stroke=True, tooltip='{:.2f}'.format(row['shortest travel time'])).add_to(m)\n",
    "    \n",
    "overlay = distance_map\n",
    "norm_factor = np.percentile(values,95)\n",
    "norm_fun = np.vectorize(lambda x: 1 - min(x/norm_factor, 1))\n",
    "overlay = norm_fun(overlay)\n",
    "\n",
    "[min_lat, min_lon] = bottomright.lat, topleft.lon\n",
    "[max_lat, max_lon] = topleft.lat, bottomright.lon\n",
    "\n",
    "folium.raster_layers.ImageOverlay(\n",
    "    image=overlay,\n",
    "    bounds=[[min_lat, min_lon], [max_lat, max_lon]],\n",
    "    colormap=newcmp,\n",
    "    vmin=0,\n",
    "    vmax=3600,\n",
    "    opacity=0.7,\n",
    "    pixelated=False,\n",
    "    origin='lower'\n",
    ").add_to(m)\n",
    "\n",
    "# enable for debugging\n",
    "# shape = grid_x.shape\n",
    "# for col_index in range(0,shape[1],5):\n",
    "#     for row_index in range(0,shape[0],5):\n",
    "#         point = GPSPoint(grid_x[col_index][row_index], grid_y[col_index][row_index])\n",
    "#         distance_map_value = distance_map[col_index][row_index]\n",
    "#         folium.CircleMarker((point.lat, point.lon), fill_color='black', opacity=0.8, radius=3, color='black', stroke=True, tooltip=distance_map_value).add_to(m)\n",
    "\n",
    "m.save(os.path.join(res_folder, 'distance_map.html'))"
   ]
  },
  {
   "cell_type": "markdown",
   "metadata": {},
   "source": [
    "Geocoding example"
   ]
  },
  {
   "cell_type": "code",
   "execution_count": 17,
   "metadata": {},
   "outputs": [],
   "source": [
    "import urllib.parse\n",
    "import requests"
   ]
  },
  {
   "cell_type": "code",
   "execution_count": 18,
   "metadata": {},
   "outputs": [],
   "source": [
    "address = \"Frankfurter Allee 15, 10247\"\n",
    "address = \"Pfuelstraße 1\"\n",
    "query = urllib.parse.quote_plus(address)\n",
    "url = \"https://nominatim.openstreetmap.org/?addressdetails=1&q={}&format=json&limit=1\".format(query)\n",
    "response = requests.get(url)"
   ]
  },
  {
   "cell_type": "code",
   "execution_count": 19,
   "metadata": {},
   "outputs": [],
   "source": [
    "js = response.json()\n",
    "geo_point = GPSPoint(float(js[0]['lat']), float(js[0]['lon']))"
   ]
  },
  {
   "cell_type": "code",
   "execution_count": 20,
   "metadata": {},
   "outputs": [],
   "source": [
    "def get_closest_grid_point(grid, point):\n",
    "    grid_x, grid_y = grid\n",
    "    search_arr = (grid_x - point.lat)**2 + (grid_y - point.lon)**2\n",
    "    min_element = np.argmin(np.abs(search_arr))\n",
    "    return min_element\n",
    "\n",
    "def get_distance_for_geopoint(grid, point, distance_map):\n",
    "    index = get_closest_grid_point((grid_x, grid_y), point)\n",
    "    return distance_map.ravel()[index]"
   ]
  },
  {
   "cell_type": "code",
   "execution_count": 21,
   "metadata": {},
   "outputs": [
    {
     "data": {
      "text/plain": [
       "1186.6711888627824"
      ]
     },
     "execution_count": 21,
     "metadata": {},
     "output_type": "execute_result"
    }
   ],
   "source": [
    "get_distance_for_geopoint((grid_x,grid_y), geo_point, distance_map)"
   ]
  }
 ],
 "metadata": {
  "kernelspec": {
   "display_name": "Python 3",
   "language": "python",
   "name": "python3"
  },
  "language_info": {
   "codemirror_mode": {
    "name": "ipython",
    "version": 3
   },
   "file_extension": ".py",
   "mimetype": "text/x-python",
   "name": "python",
   "nbconvert_exporter": "python",
   "pygments_lexer": "ipython3",
   "version": "3.7.4"
  }
 },
 "nbformat": 4,
 "nbformat_minor": 4
}
