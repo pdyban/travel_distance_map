{
 "cells": [
  {
   "cell_type": "code",
   "execution_count": 1,
   "metadata": {},
   "outputs": [],
   "source": [
    "import requests\n",
    "import json\n",
    "from datetime import datetime, timedelta\n",
    "import pandas as pd\n",
    "import numpy as np"
   ]
  },
  {
   "cell_type": "code",
   "execution_count": 2,
   "metadata": {},
   "outputs": [],
   "source": [
    "base_url = \"https://demo.hafas.de/openapi/vbb-proxy/\""
   ]
  },
  {
   "cell_type": "code",
   "execution_count": 3,
   "metadata": {},
   "outputs": [],
   "source": [
    "ACCESS_ID = \"pdyban-4097-9a8e-f21a391aac8f\""
   ]
  },
  {
   "cell_type": "code",
   "execution_count": 4,
   "metadata": {},
   "outputs": [],
   "source": [
    "def req(endpoint):\n",
    "    response = requests.get(endpoint)\n",
    "    js = json.loads(response.text)\n",
    "    return js"
   ]
  },
  {
   "cell_type": "code",
   "execution_count": 5,
   "metadata": {},
   "outputs": [],
   "source": [
    "origin = (52.5159984,13.4575739)  # Frankfurter Allee 15\n",
    "dest = (52.5219216,13.411026)  # Alexanderplatz"
   ]
  },
  {
   "cell_type": "code",
   "execution_count": 6,
   "metadata": {},
   "outputs": [],
   "source": [
    "def append_access_id(endpoint):\n",
    "    return endpoint + ('?','&')[endpoint.find('?') > -1] + \"accessId={ACCESS_ID}\".format(ACCESS_ID=ACCESS_ID)\n",
    "\n",
    "def force_json_format(endpoint):\n",
    "    return endpoint + ('?','&')[endpoint.find('?') > -1] + \"format=json\"\n",
    "\n",
    "def set_latlon(endpoint, point, mode):\n",
    "    return endpoint + ('?','&')[endpoint.find('?') > -1] + \\\n",
    "            \"{mode}CoordLat={point[0]}\".format(mode=mode, point=point) + '&' + \\\n",
    "            \"{mode}CoordLon={point[1]}\".format(mode=mode, point=point)\n",
    "\n",
    "def set_origin_latlon(endpoint, point):\n",
    "    return set_latlon(endpoint, point, 'origin')\n",
    "\n",
    "def set_dest_latlon(endpoint, point):\n",
    "    return set_latlon(endpoint, point, 'dest')\n",
    "\n",
    "def set_extid(endpoint, extid, mode):\n",
    "    return endpoint + ('?','&')[endpoint.find('?') > -1] + \"{}ExtId={}\".format(mode,extid)\n",
    "\n",
    "def set_origin_extid(endpoint, extid):\n",
    "    return set_extid(endpoint, extid, 'origin')\n",
    "\n",
    "def set_dest_extid(endpoint, extid):\n",
    "    return set_extid(endpoint, extid, 'dest')"
   ]
  },
  {
   "cell_type": "markdown",
   "metadata": {},
   "source": [
    "Resolve origin and dest HAFAS locations using nearbystops"
   ]
  },
  {
   "cell_type": "code",
   "execution_count": 7,
   "metadata": {},
   "outputs": [],
   "source": [
    "def get_closest_stop(point):\n",
    "    endpoint = base_url + 'location.nearbystops'\n",
    "    endpoint = append_access_id(endpoint)\n",
    "    endpoint = force_json_format(endpoint)\n",
    "    endpoint += '&originCoordLong={}&originCoordLat={}&maxNo=1&r=1000'.format(origin[1],origin[0])\n",
    "    response = req(endpoint)\n",
    "    for key, result in response.items():\n",
    "        for location in result:\n",
    "            # print(location['StopLocation'], location['StopLocation']['extId'])\n",
    "            return location['StopLocation']\n",
    "        \n",
    "    return None"
   ]
  },
  {
   "cell_type": "code",
   "execution_count": 8,
   "metadata": {},
   "outputs": [],
   "source": [
    "origin_ext = get_closest_stop(origin)\n",
    "origin_extid = origin_ext['extId']\n",
    "dest_extid = '900100003'"
   ]
  },
  {
   "cell_type": "code",
   "execution_count": 9,
   "metadata": {},
   "outputs": [
    {
     "name": "stdout",
     "output_type": "stream",
     "text": [
      "{'stopLocationOrCoordLocation': [{'StopLocation': {'productAtStop': [{'icon': {'res': 'prod_gen'}, 'name': 'S8', 'line': 'S8', 'lineId': 'S8', 'catOut': 'S', 'cls': '1', 'catOutS': 'S-8', 'catOutL': 'S'}, {'icon': {'res': 'prod_gen'}, 'name': 'S41', 'line': 'S41', 'lineId': 'S41', 'catOut': 'S', 'cls': '1', 'catOutS': 'S-3', 'catOutL': 'S'}, {'icon': {'res': 'prod_gen'}, 'name': 'S42', 'line': 'S42', 'lineId': 'S42', 'catOut': 'S', 'cls': '1', 'catOutS': 'S-3', 'catOutL': 'S'}, {'icon': {'res': 'prod_gen'}, 'name': 'S85', 'line': 'S85', 'lineId': 'S85', 'catOut': 'S', 'cls': '1', 'catOutS': 'S12', 'catOutL': 'S'}, {'icon': {'res': 'prod_gen'}, 'name': '156', 'line': '156', 'lineId': '156', 'catOut': 'Bus', 'cls': '8', 'catOutS': 'B', 'catOutL': 'Bus'}, {'icon': {'res': 'prod_gen'}, 'name': '240', 'line': '240', 'lineId': '240', 'catOut': 'Bus', 'cls': '8', 'catOutS': 'B', 'catOutL': 'Bus'}], 'id': 'A=1@O=S Storkower Str. (Berlin)@X=13464834@Y=52524052@u=0@U=86@L=900110012@', 'extId': '900110012', 'name': 'S Storkower Str. (Berlin)', 'lon': 13.464834, 'lat': 52.524052, 'weight': 13333, 'dist': 71, 'products': 9}}], 'TechnicalMessages': {'TechnicalMessage': [{'value': '2020-04-15 21:50:46', 'key': 'requestTime'}, {'value': 'tcp://hafas-pub-srv-01.local.hacon.de:2001', 'key': 'backendId'}, {'value': 'ttp=14706#14957 plancode0=is2e4 planid=1586433774 planid0=1586433774 planid_adr=1553251442 plancode_adr=y1uro planid_poi=1586436079 plancode_poi=is365 planid_ext=1516270147 plancode_ext=c07th srvv=5.44.VBB.4.7 tlibv=VBB_TARIF: 2.15 Rev. 1 (201909120909) jno=1', 'key': 'backendInfo'}]}, 'serverVersion': '2.7.3', 'dialectVersion': '1.29', 'requestId': 'r92gbvj4iiwnpkw8'}\n"
     ]
    }
   ],
   "source": [
    "pt = (52.52448133333333, 13.46405325)\n",
    "endpoint = base_url + 'location.nearbystops'\n",
    "endpoint = append_access_id(endpoint)\n",
    "endpoint = force_json_format(endpoint)\n",
    "endpoint += '&originCoordLong={}&originCoordLat={}&maxNo=1&r=1000'.format(pt[1],pt[0])\n",
    "response = req(endpoint)\n",
    "print(response)"
   ]
  },
  {
   "cell_type": "markdown",
   "metadata": {},
   "source": [
    "Request all trips between origin and dest"
   ]
  },
  {
   "cell_type": "code",
   "execution_count": 10,
   "metadata": {},
   "outputs": [],
   "source": [
    "def total_travel_time(response):\n",
    "    ttt = []\n",
    "    for trip in response['Trip']:\n",
    "        leglist = trip['LegList']\n",
    "\n",
    "        for key in leglist:\n",
    "            travel_time = timedelta()\n",
    "            for leg in leglist['Leg']:\n",
    "                # print(leg, len(leg))\n",
    "                leg_origin, leg_dest = leg['Origin'], leg['Destination']\n",
    "                # print(leg_origin['time'], leg_dest['time'])\n",
    "                leg_origin_time = datetime.strptime(leg_origin['time'], '%H:%M:%S')\n",
    "                leg_dest_time = datetime.strptime(leg_dest['time'], '%H:%M:%S')\n",
    "                td = timedelta() + leg_dest_time - leg_origin_time\n",
    "                travel_time += td\n",
    "            # print('TOTAL TRAVEL TIME: {}'.format(travel_time))\n",
    "            ttt.append(travel_time)\n",
    "    return ttt\n",
    "\n",
    "def compute_travel_times(origin_extid, dest_extid):\n",
    "    endpoint = base_url + 'trip'\n",
    "    endpoint = append_access_id(endpoint)\n",
    "    endpoint = force_json_format(endpoint)\n",
    "    endpoint = set_origin_extid(endpoint, origin_extid)\n",
    "    endpoint = set_dest_extid(endpoint, dest_extid)\n",
    "    return total_travel_time(req(endpoint))"
   ]
  },
  {
   "cell_type": "code",
   "execution_count": 11,
   "metadata": {},
   "outputs": [
    {
     "data": {
      "text/plain": [
       "[datetime.timedelta(seconds=360),\n",
       " datetime.timedelta(seconds=360),\n",
       " datetime.timedelta(seconds=360),\n",
       " datetime.timedelta(seconds=360),\n",
       " datetime.timedelta(seconds=360)]"
      ]
     },
     "execution_count": 11,
     "metadata": {},
     "output_type": "execute_result"
    }
   ],
   "source": [
    "compute_travel_times(origin_extid, dest_extid)"
   ]
  },
  {
   "cell_type": "markdown",
   "metadata": {},
   "source": [
    "Consider distance from the requested GPS coordinate to the nearest stop"
   ]
  },
  {
   "cell_type": "code",
   "execution_count": 12,
   "metadata": {},
   "outputs": [],
   "source": [
    "origin = (52.517602, 13.458108)"
   ]
  },
  {
   "cell_type": "code",
   "execution_count": 35,
   "metadata": {},
   "outputs": [],
   "source": [
    "origin_closest_stop = get_closest_stop(origin)\n",
    "origin_extid = origin_closest_stop['extId']\n",
    "origin_closest_stop_coord = (origin_closest_stop['lat'], origin_closest_stop['lon'])"
   ]
  },
  {
   "cell_type": "code",
   "execution_count": 36,
   "metadata": {},
   "outputs": [],
   "source": [
    "import math\n",
    "\n",
    "def distance_utf(point1, point2):\n",
    "    def toRadians(deg):\n",
    "        return deg * math.pi / 180.0\n",
    "    \n",
    "    R = 6371e3; # metres\n",
    "    lat1, lon1 = point1\n",
    "    lat2, lon2 = point2\n",
    "    phi1 = toRadians(lat1)\n",
    "    phi2 = toRadians(lat2)\n",
    "    delta_phi = toRadians(lat2-lat1)\n",
    "    delta_lambda = toRadians(lon2-lon1)\n",
    "\n",
    "    a = math.sin(delta_phi/2) * math.sin(delta_phi/2) + \\\n",
    "            math.cos(phi1) * math.cos(phi2) * \\\n",
    "            math.sin(delta_lambda/2) * math.sin(delta_lambda/2)\n",
    "    c = 2 * math.atan2(math.sqrt(a), math.sqrt(1-a))\n",
    "\n",
    "    d = R * c\n",
    "    return d"
   ]
  },
  {
   "cell_type": "code",
   "execution_count": 37,
   "metadata": {},
   "outputs": [
    {
     "data": {
      "text/plain": [
       "[datetime.timedelta(seconds=540),\n",
       " datetime.timedelta(seconds=480),\n",
       " datetime.timedelta(seconds=900),\n",
       " datetime.timedelta(seconds=480),\n",
       " datetime.timedelta(seconds=900),\n",
       " datetime.timedelta(seconds=540),\n",
       " datetime.timedelta(seconds=480)]"
      ]
     },
     "execution_count": 37,
     "metadata": {},
     "output_type": "execute_result"
    }
   ],
   "source": [
    "travel_times = compute_travel_times(origin_extid, dest_extid)\n",
    "travel_times"
   ]
  },
  {
   "cell_type": "code",
   "execution_count": 38,
   "metadata": {},
   "outputs": [
    {
     "data": {
      "text/plain": [
       "284.97535065497823"
      ]
     },
     "execution_count": 38,
     "metadata": {},
     "output_type": "execute_result"
    }
   ],
   "source": [
    "distance_utf(origin, origin_closest_stop_coord)"
   ]
  },
  {
   "cell_type": "code",
   "execution_count": 39,
   "metadata": {},
   "outputs": [
    {
     "data": {
      "text/plain": [
       "[datetime.timedelta(seconds=881, microseconds=970421),\n",
       " datetime.timedelta(seconds=821, microseconds=970421),\n",
       " datetime.timedelta(seconds=1241, microseconds=970421),\n",
       " datetime.timedelta(seconds=821, microseconds=970421),\n",
       " datetime.timedelta(seconds=1241, microseconds=970421),\n",
       " datetime.timedelta(seconds=881, microseconds=970421),\n",
       " datetime.timedelta(seconds=821, microseconds=970421)]"
      ]
     },
     "execution_count": 39,
     "metadata": {},
     "output_type": "execute_result"
    }
   ],
   "source": [
    "WALK_VELOCITY = 3000/3600.0 # m/s\n",
    "distance_to_closest_stop = distance_utf(origin, origin_closest_stop_coord)\n",
    "travel_times_adjusted = []\n",
    "for tt in travel_times:\n",
    "    travel_times_adjusted.append(tt + timedelta(seconds=distance_to_closest_stop/WALK_VELOCITY))\n",
    "travel_times_adjusted"
   ]
  },
  {
   "cell_type": "markdown",
   "metadata": {},
   "source": [
    "Record data into a CSV file for later rendering"
   ]
  },
  {
   "cell_type": "code",
   "execution_count": 40,
   "metadata": {},
   "outputs": [],
   "source": [
    "df = pd.DataFrame(columns=['latitude', 'longitude', 'min travel time'])\n",
    "\n",
    "origins = [\n",
    "    (52.5159984,13.4575739),\n",
    "    (52.517602, 13.458108)\n",
    "]\n",
    "WALK_VELOCITY = 3000/3600.0 # m/s\n",
    "\n",
    "for origin in origins:\n",
    "    origin_closest_stop = get_closest_stop(origin)\n",
    "    distance_to_closest_stop = distance_utf(origin, origin_closest_stop_coord)\n",
    "    origin_extid = origin_closest_stop['extId']\n",
    "    origin_closest_stop_point = (origin_closest_stop['lat'], origin_closest_stop['lon'])\n",
    "    \n",
    "    travel_times = compute_travel_times(origin_extid, dest_extid)\n",
    "\n",
    "    travel_times_adjusted = []\n",
    "    for tt in travel_times:\n",
    "        travel_times_adjusted.append(tt + timedelta(seconds=distance_to_closest_stop/WALK_VELOCITY))\n",
    "\n",
    "    df = df.append({'latitude': origin[0], 'longitude': origin[1], 'min travel time': min(    travel_times_adjusted).total_seconds()}, ignore_index=True)"
   ]
  },
  {
   "cell_type": "code",
   "execution_count": 41,
   "metadata": {},
   "outputs": [
    {
     "data": {
      "text/html": [
       "<div>\n",
       "<style scoped>\n",
       "    .dataframe tbody tr th:only-of-type {\n",
       "        vertical-align: middle;\n",
       "    }\n",
       "\n",
       "    .dataframe tbody tr th {\n",
       "        vertical-align: top;\n",
       "    }\n",
       "\n",
       "    .dataframe thead th {\n",
       "        text-align: right;\n",
       "    }\n",
       "</style>\n",
       "<table border=\"1\" class=\"dataframe\">\n",
       "  <thead>\n",
       "    <tr style=\"text-align: right;\">\n",
       "      <th></th>\n",
       "      <th>latitude</th>\n",
       "      <th>longitude</th>\n",
       "      <th>min travel time</th>\n",
       "    </tr>\n",
       "  </thead>\n",
       "  <tbody>\n",
       "    <tr>\n",
       "      <td>0</td>\n",
       "      <td>52.515998</td>\n",
       "      <td>13.457574</td>\n",
       "      <td>833.557670</td>\n",
       "    </tr>\n",
       "    <tr>\n",
       "      <td>1</td>\n",
       "      <td>52.517602</td>\n",
       "      <td>13.458108</td>\n",
       "      <td>821.970421</td>\n",
       "    </tr>\n",
       "  </tbody>\n",
       "</table>\n",
       "</div>"
      ],
      "text/plain": [
       "    latitude  longitude  min travel time\n",
       "0  52.515998  13.457574       833.557670\n",
       "1  52.517602  13.458108       821.970421"
      ]
     },
     "execution_count": 41,
     "metadata": {},
     "output_type": "execute_result"
    }
   ],
   "source": [
    "df"
   ]
  },
  {
   "cell_type": "code",
   "execution_count": 42,
   "metadata": {},
   "outputs": [],
   "source": [
    "df.to_csv('hafas_vbb.csv')"
   ]
  },
  {
   "cell_type": "markdown",
   "metadata": {},
   "source": [
    "# Compute travel time for an equally spaced rectangular area"
   ]
  },
  {
   "cell_type": "code",
   "execution_count": 47,
   "metadata": {},
   "outputs": [
    {
     "name": "stdout",
     "output_type": "stream",
     "text": [
      "........................."
     ]
    }
   ],
   "source": [
    "topleft = (52.526453, 13.447507)\n",
    "bottomright = (52.502793, 13.473981)\n",
    "num_points = 5\n",
    "WALK_VELOCITY = 3.0/3.6\n",
    "\n",
    "df = pd.DataFrame(columns=['latitude', 'longitude', 'min travel time'])\n",
    "\n",
    "origins = []\n",
    "lat_arr = np.linspace(bottomright[0], topleft[0], num_points)\n",
    "lon_arr = np.linspace(bottomright[1], topleft[1], num_points)\n",
    "for lat in lat_arr:\n",
    "    for lon in lon_arr:\n",
    "        origins.append((lat, lon))\n",
    "\n",
    "for origin in origins:\n",
    "    origin_closest_stop = get_closest_stop(origin)\n",
    "    origin_extid = origin_closest_stop['extId']\n",
    "    origin_closest_stop_point = (origin_closest_stop['lat'], origin_closest_stop['lon'])\n",
    "    distance_to_closest_stop = distance_utf(origin, origin_closest_stop_point)\n",
    "    \n",
    "    travel_times = compute_travel_times(origin_extid, dest_extid)\n",
    "\n",
    "    travel_times_adjusted = []\n",
    "    for tt in travel_times:\n",
    "        travel_times_adjusted.append(tt + timedelta(seconds=distance_to_closest_stop/WALK_VELOCITY))\n",
    "\n",
    "    df = df.append({'latitude': origin[0], 'longitude': origin[1], 'min travel time': min(travel_times_adjusted).total_seconds()}, ignore_index=True)\n",
    "    print('.', end='')"
   ]
  },
  {
   "cell_type": "code",
   "execution_count": 50,
   "metadata": {},
   "outputs": [
    {
     "data": {
      "text/html": [
       "<div>\n",
       "<style scoped>\n",
       "    .dataframe tbody tr th:only-of-type {\n",
       "        vertical-align: middle;\n",
       "    }\n",
       "\n",
       "    .dataframe tbody tr th {\n",
       "        vertical-align: top;\n",
       "    }\n",
       "\n",
       "    .dataframe thead th {\n",
       "        text-align: right;\n",
       "    }\n",
       "</style>\n",
       "<table border=\"1\" class=\"dataframe\">\n",
       "  <thead>\n",
       "    <tr style=\"text-align: right;\">\n",
       "      <th></th>\n",
       "      <th>latitude</th>\n",
       "      <th>longitude</th>\n",
       "      <th>min travel time</th>\n",
       "    </tr>\n",
       "  </thead>\n",
       "  <tbody>\n",
       "    <tr>\n",
       "      <td>0</td>\n",
       "      <td>52.502793</td>\n",
       "      <td>13.473981</td>\n",
       "      <td>904.584445</td>\n",
       "    </tr>\n",
       "    <tr>\n",
       "      <td>1</td>\n",
       "      <td>52.502793</td>\n",
       "      <td>13.467363</td>\n",
       "      <td>636.986839</td>\n",
       "    </tr>\n",
       "    <tr>\n",
       "      <td>2</td>\n",
       "      <td>52.502793</td>\n",
       "      <td>13.460744</td>\n",
       "      <td>859.758908</td>\n",
       "    </tr>\n",
       "    <tr>\n",
       "      <td>3</td>\n",
       "      <td>52.502793</td>\n",
       "      <td>13.454125</td>\n",
       "      <td>846.968438</td>\n",
       "    </tr>\n",
       "    <tr>\n",
       "      <td>4</td>\n",
       "      <td>52.502793</td>\n",
       "      <td>13.447507</td>\n",
       "      <td>499.271294</td>\n",
       "    </tr>\n",
       "  </tbody>\n",
       "</table>\n",
       "</div>"
      ],
      "text/plain": [
       "    latitude  longitude  min travel time\n",
       "0  52.502793  13.473981       904.584445\n",
       "1  52.502793  13.467363       636.986839\n",
       "2  52.502793  13.460744       859.758908\n",
       "3  52.502793  13.454125       846.968438\n",
       "4  52.502793  13.447507       499.271294"
      ]
     },
     "execution_count": 50,
     "metadata": {},
     "output_type": "execute_result"
    }
   ],
   "source": [
    "df.head()"
   ]
  },
  {
   "cell_type": "code",
   "execution_count": 49,
   "metadata": {},
   "outputs": [],
   "source": [
    "df.to_csv('hafas_vbb.csv')"
   ]
  }
 ],
 "metadata": {
  "kernelspec": {
   "display_name": "Python 3",
   "language": "python",
   "name": "python3"
  },
  "language_info": {
   "codemirror_mode": {
    "name": "ipython",
    "version": 3
   },
   "file_extension": ".py",
   "mimetype": "text/x-python",
   "name": "python",
   "nbconvert_exporter": "python",
   "pygments_lexer": "ipython3",
   "version": "3.7.4"
  }
 },
 "nbformat": 4,
 "nbformat_minor": 4
}
