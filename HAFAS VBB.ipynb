{
 "cells": [
  {
   "cell_type": "code",
   "execution_count": 206,
   "metadata": {},
   "outputs": [],
   "source": [
    "import requests\n",
    "import json\n",
    "from datetime import datetime, timedelta\n",
    "import pandas as pd\n",
    "import numpy as np\n",
    "from functools import lru_cache\n",
    "from time import sleep\n",
    "import math"
   ]
  },
  {
   "cell_type": "code",
   "execution_count": 4,
   "metadata": {},
   "outputs": [],
   "source": [
    "base_url = \"https://demo.hafas.de/openapi/vbb-proxy/\""
   ]
  },
  {
   "cell_type": "markdown",
   "metadata": {},
   "source": [
    "Read secret access ID for VBB API from a file"
   ]
  },
  {
   "cell_type": "code",
   "execution_count": 207,
   "metadata": {},
   "outputs": [],
   "source": [
    "ACCESS_ID = !cat ACCESS_ID.txt\n",
    "ACCESS_ID = ACCESS_ID.s"
   ]
  },
  {
   "cell_type": "code",
   "execution_count": 210,
   "metadata": {},
   "outputs": [],
   "source": [
    "SLEEP = True\n",
    "\n",
    "@lru_cache(maxsize=5000)\n",
    "def req(endpoint):\n",
    "    if SLEEP:\n",
    "        sleep(10.) # sec\n",
    "    response = requests.get(endpoint)\n",
    "    js = json.loads(response.text)\n",
    "    return js"
   ]
  },
  {
   "cell_type": "code",
   "execution_count": 7,
   "metadata": {},
   "outputs": [],
   "source": [
    "# origin = (52.5159984,13.4575739)  # Frankfurter Allee 15\n",
    "dest = (52.5219216,13.411026)  # Alexanderplatz\n",
    "dest_extid = '900100003'\n",
    "topleft = (52.58, 13.40)\n",
    "bottomright = (52.50, 13.60)\n",
    "num_points = 30\n",
    "WALK_VELOCITY = 3.0/3.6"
   ]
  },
  {
   "cell_type": "code",
   "execution_count": 8,
   "metadata": {},
   "outputs": [],
   "source": [
    "def append_access_id(endpoint):\n",
    "    return endpoint + ('?','&')[endpoint.find('?') > -1] + \"accessId={ACCESS_ID}\".format(ACCESS_ID=ACCESS_ID)\n",
    "\n",
    "def force_json_format(endpoint):\n",
    "    return endpoint + ('?','&')[endpoint.find('?') > -1] + \"format=json\"\n",
    "\n",
    "def set_latlon(endpoint, point, mode):\n",
    "    return endpoint + ('?','&')[endpoint.find('?') > -1] + \\\n",
    "            \"{mode}CoordLat={point[0]}\".format(mode=mode, point=point) + '&' + \\\n",
    "            \"{mode}CoordLon={point[1]}\".format(mode=mode, point=point)\n",
    "\n",
    "def set_origin_latlon(endpoint, point):\n",
    "    return set_latlon(endpoint, point, 'origin')\n",
    "\n",
    "def set_dest_latlon(endpoint, point):\n",
    "    return set_latlon(endpoint, point, 'dest')\n",
    "\n",
    "def set_extid(endpoint, extid, mode):\n",
    "    return endpoint + ('?','&')[endpoint.find('?') > -1] + \"{}ExtId={}\".format(mode,extid)\n",
    "\n",
    "def set_origin_extid(endpoint, extid):\n",
    "    return set_extid(endpoint, extid, 'origin')\n",
    "\n",
    "def set_dest_extid(endpoint, extid):\n",
    "    return set_extid(endpoint, extid, 'dest')\n",
    "\n",
    "def append_date_and_time(endpoint, datetime_):\n",
    "    date_ = datetime_.strftime('%Y-%m-%d')\n",
    "    time_ = datetime_.strftime('%H:%M:%S')\n",
    "    duration = 20  # mins\n",
    "    return endpoint + ('?','&')[endpoint.find('?') > -1] + \"date={}&time={}&duration={}\".format(date_, time_, duration)\n",
    "\n",
    "def enable_walk_routes(endpoint):\n",
    "    return enable_alt_routes(endpoint, 'Walk')\n",
    "\n",
    "def enable_bike_routes(endpoint):\n",
    "    return enable_alt_routes(endpoint, 'Bike')\n",
    "\n",
    "def enable_alt_routes(endpoint, mode):\n",
    "    return endpoint + ('?','&')[endpoint.find('?') > -1] + \"total{0}=1,0,5000&origin{0}=1,0,5000&dest{0}=1,0,5000\".format(mode)"
   ]
  },
  {
   "cell_type": "markdown",
   "metadata": {},
   "source": [
    "Resolve origin and dest HAFAS locations using nearbystops"
   ]
  },
  {
   "cell_type": "code",
   "execution_count": 9,
   "metadata": {},
   "outputs": [],
   "source": [
    "def get_closest_stop(point):\n",
    "    endpoint = base_url + 'location.nearbystops'\n",
    "    endpoint = append_access_id(endpoint)\n",
    "    endpoint = force_json_format(endpoint)\n",
    "    endpoint += '&originCoordLong={}&originCoordLat={}&maxNo=1&r=2000'.format(origin[1],origin[0])\n",
    "    response = req(endpoint)\n",
    "    for key, result in response.items():\n",
    "        for location in result:\n",
    "            # print(location['StopLocation'], location['StopLocation']['extId'])\n",
    "            return location['StopLocation']\n",
    "        \n",
    "    return None"
   ]
  },
  {
   "cell_type": "code",
   "execution_count": 10,
   "metadata": {},
   "outputs": [],
   "source": [
    "origin_ext = get_closest_stop(origin)\n",
    "origin_extid = origin_ext['extId']"
   ]
  },
  {
   "cell_type": "code",
   "execution_count": 11,
   "metadata": {},
   "outputs": [],
   "source": [
    "# pt = (52.52448133333333, 13.46405325)\n",
    "# endpoint = base_url + 'location.nearbystops'\n",
    "# endpoint = append_access_id(endpoint)\n",
    "# endpoint = force_json_format(endpoint)\n",
    "# endpoint += '&originCoordLong={}&originCoordLat={}&maxNo=1&r=1000'.format(pt[1],pt[0])\n",
    "# response = req(endpoint)\n",
    "# print(response)"
   ]
  },
  {
   "cell_type": "markdown",
   "metadata": {},
   "source": [
    "Request all trips between origin and dest"
   ]
  },
  {
   "cell_type": "code",
   "execution_count": 28,
   "metadata": {},
   "outputs": [],
   "source": [
    "def total_travel_time(response):\n",
    "    ttt = []\n",
    "    for trip in response['Trip']:\n",
    "        leglist = trip['LegList']\n",
    "\n",
    "        for key in leglist:\n",
    "            travel_time = timedelta()\n",
    "            for leg in leglist['Leg']:\n",
    "                # print(leg, len(leg))\n",
    "                leg_origin, leg_dest = leg['Origin'], leg['Destination']\n",
    "                # print(leg_origin['time'], leg_dest['time'])\n",
    "                leg_origin_time = datetime.strptime(leg_origin['time'], '%H:%M:%S')\n",
    "                leg_dest_time = datetime.strptime(leg_dest['time'], '%H:%M:%S')\n",
    "                # print(leg_dest)\n",
    "                td = timedelta() + leg_dest_time - leg_origin_time\n",
    "                travel_time += td\n",
    "            # print('TOTAL TRAVEL TIME: {}'.format(travel_time))\n",
    "            ttt.append(travel_time)\n",
    "    return ttt\n",
    "\n",
    "def all_trips(response):\n",
    "    trips = []\n",
    "    try:\n",
    "        for trip in response['Trip']:\n",
    "            leglist = trip['LegList']\n",
    "\n",
    "            for key in leglist:\n",
    "                travel_time = timedelta()\n",
    "                legs = []\n",
    "                for leg in leglist['Leg']:\n",
    "                    # print(leg, len(leg))\n",
    "                    leg_origin, leg_dest = leg['Origin'], leg['Destination']\n",
    "                    if leg_origin['name'] not in legs:\n",
    "                        legs.append(leg_origin['name'])\n",
    "                    # print(leg_origin['time'], leg_dest['time'])\n",
    "                    leg_origin_time = datetime.strptime(leg_origin['time'], '%H:%M:%S')\n",
    "                    leg_dest_time = datetime.strptime(leg_dest['time'], '%H:%M:%S')\n",
    "                    td = timedelta() + leg_dest_time - leg_origin_time\n",
    "                    travel_time += td\n",
    "                    legs.append(leg_dest['name'])\n",
    "                # print('TOTAL TRAVEL TIME: {}'.format(travel_time))\n",
    "                trips.append((travel_time, legs))\n",
    "    except KeyError as e:\n",
    "        if response['errorCode'] == 'SVC_NO_RESULT':\n",
    "            # print('Could not find a trip')\n",
    "            pass\n",
    "        elif response['errorCode'] == 'SVC_LOC_EQUAL': # start and dest are equal -> 0 time\n",
    "            trips.append((timedelta(seconds=0.0), ()),)\n",
    "        else:\n",
    "            print(e)\n",
    "        \n",
    "    return trips\n",
    "\n",
    "def compute_travel_times(origin_extid, dest_extid, datetime_=None):\n",
    "    endpoint = base_url + 'trip'\n",
    "    endpoint = append_access_id(endpoint)\n",
    "    endpoint = force_json_format(endpoint)\n",
    "    endpoint = set_origin_extid(endpoint, origin_extid)\n",
    "    endpoint = set_dest_extid(endpoint, dest_extid)\n",
    "    endpoint = enable_walk_routes(endpoint)\n",
    "    if datetime_ is not None:\n",
    "        endpoint = append_date_and_time(endpoint, datetime_)\n",
    "    return total_travel_time(req(endpoint))\n",
    "\n",
    "def compute_trips(origin_extid, dest_extid, datetime_=None):\n",
    "    endpoint = base_url + 'trip'\n",
    "    endpoint = append_access_id(endpoint)\n",
    "    endpoint = force_json_format(endpoint)\n",
    "    endpoint = set_origin_extid(endpoint, origin_extid)\n",
    "    endpoint = set_dest_extid(endpoint, dest_extid)\n",
    "    endpoint = enable_walk_routes(endpoint)\n",
    "    endpoint = enable_bike_routes(endpoint)\n",
    "    if datetime_ is not None:\n",
    "        endpoint = append_date_and_time(endpoint, datetime_)\n",
    "    return all_trips(req(endpoint))"
   ]
  },
  {
   "cell_type": "code",
   "execution_count": 16,
   "metadata": {},
   "outputs": [],
   "source": [
    "# compute_trips(origin_extid, dest_extid, datetime_=datetime(2020,5,12,8,0))"
   ]
  },
  {
   "cell_type": "code",
   "execution_count": 17,
   "metadata": {},
   "outputs": [],
   "source": [
    "# compute_travel_times(origin_extid, dest_extid)"
   ]
  },
  {
   "cell_type": "markdown",
   "metadata": {},
   "source": [
    "Consider distance from the requested GPS coordinate to the nearest stop"
   ]
  },
  {
   "cell_type": "code",
   "execution_count": 18,
   "metadata": {},
   "outputs": [],
   "source": [
    "# origin = (52.517602, 13.458108)"
   ]
  },
  {
   "cell_type": "code",
   "execution_count": 19,
   "metadata": {},
   "outputs": [],
   "source": [
    "# origin_closest_stop = get_closest_stop(origin)\n",
    "# origin_extid = origin_closest_stop['extId']\n",
    "# origin_closest_stop_coord = (origin_closest_stop['lat'], origin_closest_stop['lon'])"
   ]
  },
  {
   "cell_type": "code",
   "execution_count": 20,
   "metadata": {},
   "outputs": [],
   "source": [
    "def distance_utf(point1, point2):\n",
    "    def toRadians(deg):\n",
    "        return deg * math.pi / 180.0\n",
    "    \n",
    "    R = 6371e3; # metres\n",
    "    lat1, lon1 = point1\n",
    "    lat2, lon2 = point2\n",
    "    phi1 = toRadians(lat1)\n",
    "    phi2 = toRadians(lat2)\n",
    "    delta_phi = toRadians(lat2-lat1)\n",
    "    delta_lambda = toRadians(lon2-lon1)\n",
    "\n",
    "    a = math.sin(delta_phi/2) * math.sin(delta_phi/2) + \\\n",
    "            math.cos(phi1) * math.cos(phi2) * \\\n",
    "            math.sin(delta_lambda/2) * math.sin(delta_lambda/2)\n",
    "    c = 2 * math.atan2(math.sqrt(a), math.sqrt(1-a))\n",
    "\n",
    "    d = R * c\n",
    "    return d"
   ]
  },
  {
   "cell_type": "code",
   "execution_count": 22,
   "metadata": {},
   "outputs": [],
   "source": [
    "# travel_times = compute_travel_times(origin_extid, dest_extid)\n",
    "# travel_times"
   ]
  },
  {
   "cell_type": "code",
   "execution_count": 21,
   "metadata": {},
   "outputs": [],
   "source": [
    "# distance_utf(origin, origin_closest_stop_coord)"
   ]
  },
  {
   "cell_type": "code",
   "execution_count": 23,
   "metadata": {},
   "outputs": [],
   "source": [
    "# WALK_VELOCITY = 3000/3600.0 # m/s\n",
    "# distance_to_closest_stop = distance_utf(origin, origin_closest_stop_coord)\n",
    "# travel_times_adjusted = []\n",
    "# for tt in travel_times:\n",
    "#     travel_times_adjusted.append(tt + timedelta(seconds=distance_to_closest_stop/WALK_VELOCITY))\n",
    "# travel_times_adjusted"
   ]
  },
  {
   "cell_type": "markdown",
   "metadata": {},
   "source": [
    "Record data into a CSV file for later rendering"
   ]
  },
  {
   "cell_type": "code",
   "execution_count": 20,
   "metadata": {},
   "outputs": [],
   "source": [
    "# df = pd.DataFrame(columns=['latitude', 'longitude', 'min travel time'])\n",
    "\n",
    "# origins = [\n",
    "#     (52.5159984,13.4575739),\n",
    "#     (52.517602, 13.458108)\n",
    "# ]\n",
    "# WALK_VELOCITY = 3000/3600.0 # m/s\n",
    "\n",
    "# for origin in origins:\n",
    "#     origin_closest_stop = get_closest_stop(origin)\n",
    "#     distance_to_closest_stop = distance_utf(origin, origin_closest_stop_coord)\n",
    "#     origin_extid = origin_closest_stop['extId']\n",
    "#     origin_closest_stop_point = (origin_closest_stop['lat'], origin_closest_stop['lon'])\n",
    "    \n",
    "#     dt = datetime(2020, 5, 1, 5, 0, 0)\n",
    "#     trips = compute_trips(origin_extid, dest_extid, dt)\n",
    "    \n",
    "#     trips_adjusted = []\n",
    "#     for travel_time, trip in trips:\n",
    "#         trips_adjusted.append((travel_time + timedelta(seconds=distance_to_closest_stop/WALK_VELOCITY), trip))\n",
    "\n",
    "#     shortest_trip = sorted(trips_adjusted, key=lambda x:x[0])[0]\n",
    "#     df = df.append({'latitude': origin[0], 'longitude': origin[1], 'min travel time': shortest_trip[0].total_seconds(), 'shortest trip': ' > '.join(shortest_trip[1])}, ignore_index=True)"
   ]
  },
  {
   "cell_type": "code",
   "execution_count": 25,
   "metadata": {},
   "outputs": [],
   "source": [
    "# df"
   ]
  },
  {
   "cell_type": "code",
   "execution_count": 26,
   "metadata": {},
   "outputs": [],
   "source": [
    "# df.to_csv('hafas_vbb.csv')"
   ]
  },
  {
   "cell_type": "markdown",
   "metadata": {},
   "source": [
    "# Compute travel time for an equally spaced rectangular area"
   ]
  },
  {
   "cell_type": "code",
   "execution_count": 209,
   "metadata": {},
   "outputs": [
    {
     "ename": "TypeError",
     "evalue": "string indices must be integers",
     "output_type": "error",
     "traceback": [
      "\u001b[0;31m---------------------------------------------------------------------------\u001b[0m",
      "\u001b[0;31mTypeError\u001b[0m                                 Traceback (most recent call last)",
      "\u001b[0;32m<ipython-input-209-f2ae4f0c97fe>\u001b[0m in \u001b[0;36m<module>\u001b[0;34m\u001b[0m\n\u001b[1;32m     13\u001b[0m         \u001b[0morigin\u001b[0m \u001b[0;34m=\u001b[0m \u001b[0;34m(\u001b[0m\u001b[0mlat\u001b[0m\u001b[0;34m,\u001b[0m \u001b[0mlon\u001b[0m\u001b[0;34m)\u001b[0m\u001b[0;34m\u001b[0m\u001b[0;34m\u001b[0m\u001b[0m\n\u001b[1;32m     14\u001b[0m \u001b[0;34m\u001b[0m\u001b[0m\n\u001b[0;32m---> 15\u001b[0;31m         \u001b[0morigin_closest_stop\u001b[0m \u001b[0;34m=\u001b[0m \u001b[0mget_closest_stop\u001b[0m\u001b[0;34m(\u001b[0m\u001b[0morigin\u001b[0m\u001b[0;34m)\u001b[0m\u001b[0;34m\u001b[0m\u001b[0;34m\u001b[0m\u001b[0m\n\u001b[0m\u001b[1;32m     16\u001b[0m         \u001b[0morigin_extid\u001b[0m \u001b[0;34m=\u001b[0m \u001b[0morigin_closest_stop\u001b[0m\u001b[0;34m[\u001b[0m\u001b[0;34m'extId'\u001b[0m\u001b[0;34m]\u001b[0m\u001b[0;34m\u001b[0m\u001b[0;34m\u001b[0m\u001b[0m\n\u001b[1;32m     17\u001b[0m         \u001b[0morigin_closest_stop_point\u001b[0m \u001b[0;34m=\u001b[0m \u001b[0;34m(\u001b[0m\u001b[0morigin_closest_stop\u001b[0m\u001b[0;34m[\u001b[0m\u001b[0;34m'lat'\u001b[0m\u001b[0;34m]\u001b[0m\u001b[0;34m,\u001b[0m \u001b[0morigin_closest_stop\u001b[0m\u001b[0;34m[\u001b[0m\u001b[0;34m'lon'\u001b[0m\u001b[0;34m]\u001b[0m\u001b[0;34m)\u001b[0m\u001b[0;34m\u001b[0m\u001b[0;34m\u001b[0m\u001b[0m\n",
      "\u001b[0;32m<ipython-input-9-872ef267876f>\u001b[0m in \u001b[0;36mget_closest_stop\u001b[0;34m(point)\u001b[0m\n\u001b[1;32m      8\u001b[0m         \u001b[0;32mfor\u001b[0m \u001b[0mlocation\u001b[0m \u001b[0;32min\u001b[0m \u001b[0mresult\u001b[0m\u001b[0;34m:\u001b[0m\u001b[0;34m\u001b[0m\u001b[0;34m\u001b[0m\u001b[0m\n\u001b[1;32m      9\u001b[0m             \u001b[0;31m# print(location['StopLocation'], location['StopLocation']['extId'])\u001b[0m\u001b[0;34m\u001b[0m\u001b[0;34m\u001b[0m\u001b[0;34m\u001b[0m\u001b[0m\n\u001b[0;32m---> 10\u001b[0;31m             \u001b[0;32mreturn\u001b[0m \u001b[0mlocation\u001b[0m\u001b[0;34m[\u001b[0m\u001b[0;34m'StopLocation'\u001b[0m\u001b[0;34m]\u001b[0m\u001b[0;34m\u001b[0m\u001b[0;34m\u001b[0m\u001b[0m\n\u001b[0m\u001b[1;32m     11\u001b[0m \u001b[0;34m\u001b[0m\u001b[0m\n\u001b[1;32m     12\u001b[0m     \u001b[0;32mreturn\u001b[0m \u001b[0;32mNone\u001b[0m\u001b[0;34m\u001b[0m\u001b[0;34m\u001b[0m\u001b[0m\n",
      "\u001b[0;31mTypeError\u001b[0m: string indices must be integers"
     ]
    }
   ],
   "source": [
    "df = pd.DataFrame(columns=['latitude', 'longitude', 'min travel time'])\n",
    "\n",
    "values = [] # 2d array\n",
    "points = [] # GPS coords\n",
    "# origins = []  # 1d array\n",
    "lat_arr = np.linspace(bottomright[0], topleft[0], num_points)\n",
    "lon_arr = np.linspace(bottomright[1], topleft[1], num_points)\n",
    "for lat in lat_arr:\n",
    "    row_points = []\n",
    "    row_values = []\n",
    "    for lon in lon_arr:\n",
    "        # origins.append((lat, lon))\n",
    "        origin = (lat, lon)\n",
    "        \n",
    "        origin_closest_stop = get_closest_stop(origin)\n",
    "        origin_extid = origin_closest_stop['extId']\n",
    "        origin_closest_stop_point = (origin_closest_stop['lat'], origin_closest_stop['lon'])\n",
    "        distance_to_closest_stop = distance_utf(origin, origin_closest_stop_point)\n",
    "\n",
    "        dt = datetime(2020, 5, 10, 5, 0, 0)\n",
    "        trips = compute_trips(origin_extid, dest_extid, dt)\n",
    "        trips_adjusted = []\n",
    "        for travel_time, trip in trips:\n",
    "            trips_adjusted.append((travel_time + timedelta(seconds=distance_to_closest_stop/WALK_VELOCITY), trip))\n",
    "\n",
    "        sorted_trips = sorted(trips_adjusted, key=lambda x:x[0])\n",
    "        if sorted_trips:\n",
    "            shortest_trip = sorted_trips[0]\n",
    "            shortest_trip_time = shortest_trip[0].total_seconds()\n",
    "        else:\n",
    "            shortest_trip = (distance_utf(origin, dest)/WALK_VELOCITY, ['No trip found'])\n",
    "            shortest_trip_time = distance_utf(origin, dest)/WALK_VELOCITY\n",
    "        shortest_trip_itinerary = shortest_trip[1]\n",
    "\n",
    "        # time on foot\n",
    "        time_on_foot = distance_utf(origin, dest)/WALK_VELOCITY\n",
    "\n",
    "        df = df.append({'latitude': origin[0], 'longitude': origin[1], 'min travel time': shortest_trip_time, 'shortest trip': ' > '.join(shortest_trip_itinerary)}, ignore_index=True)\n",
    "        row_points.append((lat, lon))\n",
    "        row_values.append(shortest_trip_time)\n",
    "        print('.', end='')\n",
    "    points.append(row_points)\n",
    "    values.append(row_values)\n",
    "points = np.asarray(points)\n",
    "values = np.asarray(values)"
   ]
  },
  {
   "cell_type": "markdown",
   "metadata": {},
   "source": [
    "# Convolve the distance image by a walking-time filter\n",
    "\n",
    "Reduce high differences in neighboring blocks by analyzing the gradient of the distance image"
   ]
  },
  {
   "cell_type": "code",
   "execution_count": 174,
   "metadata": {},
   "outputs": [],
   "source": [
    "point00 = (lat_arr[0], lon_arr[0])\n",
    "point01 = (lat_arr[0], lon_arr[1])\n",
    "point10 = (lat_arr[1], lon_arr[0])"
   ]
  },
  {
   "cell_type": "code",
   "execution_count": 175,
   "metadata": {},
   "outputs": [],
   "source": [
    "distance_between_adjacent_points = (distance_utf(point00, point10), distance_utf(point00, point01)) # in meters"
   ]
  },
  {
   "cell_type": "code",
   "execution_count": 176,
   "metadata": {},
   "outputs": [],
   "source": [
    "def flatten_array(arr, threshold=(2,2), iterations=2):\n",
    "    ret = np.copy(arr)\n",
    "    for iteration in range(iterations):\n",
    "        grad_x = np.hstack([ret[:,:-1] - ret[:,1:], np.zeros((ret.shape[0], 1))])\n",
    "        #print('GRAD X', grad_x)\n",
    "        #print(grad_x>threshold[0])\n",
    "        for (i,j) in np.argwhere(grad_x > threshold[0]):\n",
    "            if grad_x[i][j] < 0:\n",
    "                ret[i,j+1] -= np.abs(grad_x[i][j])-threshold[0]\n",
    "            else:\n",
    "                ret[i,j] -= np.abs(grad_x[i][j])-threshold[0]\n",
    "                \n",
    "        grad_y = np.vstack([ret[:-1]-ret[1:], np.zeros((1, ret.shape[1]))]) \n",
    "        for (i,j) in np.argwhere(grad_y > threshold[1]):\n",
    "            if grad_y[i][j] < 0:\n",
    "                ret[i+1,j] -= np.abs(grad_y[i][j])-threshold[1]\n",
    "            else:\n",
    "                ret[i,j] -= np.abs(grad_y[i][j])-threshold[1]\n",
    "    return ret"
   ]
  },
  {
   "cell_type": "code",
   "execution_count": 177,
   "metadata": {},
   "outputs": [],
   "source": [
    "flattened_values = flatten_array(values, threshold=distance_between_adjacent_points, iterations=2)"
   ]
  },
  {
   "cell_type": "markdown",
   "metadata": {},
   "source": [
    "By now, the distance map has been regularized. Next step will be to increase resolution by interpolating this map."
   ]
  },
  {
   "cell_type": "markdown",
   "metadata": {},
   "source": [
    "# Interpolation"
   ]
  },
  {
   "cell_type": "code",
   "execution_count": 76,
   "metadata": {},
   "outputs": [],
   "source": [
    "from scipy.interpolate import griddata"
   ]
  },
  {
   "cell_type": "code",
   "execution_count": 178,
   "metadata": {},
   "outputs": [],
   "source": [
    "bottomleft = points.min(axis=0).min(axis=0)\n",
    "topright = points.max(axis=0).max(axis=0)\n",
    "NUM_INTERPOLATED_POINTS = 1000j\n",
    "grid_x, grid_y = np.mgrid[bottomleft[0]:topright[0]:NUM_INTERPOLATED_POINTS, bottomleft[1]:topright[1]:NUM_INTERPOLATED_POINTS]"
   ]
  },
  {
   "cell_type": "code",
   "execution_count": 182,
   "metadata": {},
   "outputs": [],
   "source": [
    "grid_z0 = griddata(points.reshape((num_points**2, 2)), flattened_values.reshape((num_points**2,)), (grid_x, grid_y), method='nearest')\n",
    "grid_z1 = griddata(points.reshape((num_points**2, 2)), flattened_values.reshape((num_points**2,)), (grid_x, grid_y), method='linear')\n",
    "grid_z2 = griddata(points.reshape((num_points**2, 2)), flattened_values.reshape((num_points**2,)), (grid_x, grid_y), method='cubic')"
   ]
  },
  {
   "cell_type": "code",
   "execution_count": 143,
   "metadata": {},
   "outputs": [],
   "source": [
    "import matplotlib.pyplot as plt"
   ]
  },
  {
   "cell_type": "code",
   "execution_count": 183,
   "metadata": {},
   "outputs": [
    {
     "data": {
      "image/png": "[encoded data removed]",
      "text/plain": [
       "<Figure size 1080x288 with 4 Axes>"
      ]
     },
     "metadata": {
      "needs_background": "light"
     },
     "output_type": "display_data"
    }
   ],
   "source": [
    "map_extent = (bottomleft[0],topright[0],bottomleft[1],topright[1])\n",
    "fig, axes = plt.subplots(1, 4, figsize=(15,4))\n",
    "grid_0 = values\n",
    "axes[0].imshow(grid_0.T, extent=map_extent, origin='upper')\n",
    "axes[0].plot(points[:,:,0], points[:,:,1], 'k.', ms=3)\n",
    "axes[0].set_title('Original')\n",
    "axes[1].imshow(grid_z0.T, extent=map_extent, origin='lower')\n",
    "axes[1].plot(points[:,:,0], points[:,:,1], 'k.', ms=3)\n",
    "axes[1].set_title('Nearest')\n",
    "axes[2].imshow(grid_z1.T, extent=map_extent, origin='lower')\n",
    "axes[2].plot(points[:,:,0], points[:,:,1], 'k.', ms=3)\n",
    "axes[2].set_title('Linear')\n",
    "axes[3].imshow(grid_z2.T, extent=map_extent, origin='lower')\n",
    "axes[3].plot(points[:,:,0], points[:,:,1], 'k.', ms=3)\n",
    "axes[3].set_title('Cubic')\n",
    "plt.show()"
   ]
  },
  {
   "cell_type": "code",
   "execution_count": 184,
   "metadata": {},
   "outputs": [],
   "source": [
    "np.save('./grid_z2.npy', grid_z2)"
   ]
  },
  {
   "cell_type": "code",
   "execution_count": 198,
   "metadata": {},
   "outputs": [],
   "source": [
    "flattened_df = pd.DataFrame({'latitude': points.reshape((num_points**2, 2))[:,0], 'longitude': points.reshape((num_points**2, 2))[:,1], 'flattened trip time': flattened_values.reshape((num_points**2,))})"
   ]
  },
  {
   "cell_type": "code",
   "execution_count": 204,
   "metadata": {},
   "outputs": [],
   "source": [
    "df = df.merge(flattened_df, on=('latitude', 'longitude'), suffixes=('original','flattened'))\n",
    "df.to_csv('travel_index_map.csv')"
   ]
  }
 ],
 "metadata": {
  "kernelspec": {
   "display_name": "Python 3",
   "language": "python",
   "name": "python3"
  },
  "language_info": {
   "codemirror_mode": {
    "name": "ipython",
    "version": 3
   },
   "file_extension": ".py",
   "mimetype": "text/x-python",
   "name": "python",
   "nbconvert_exporter": "python",
   "pygments_lexer": "ipython3",
   "version": "3.7.4"
  }
 },
 "nbformat": 4,
 "nbformat_minor": 4
}
