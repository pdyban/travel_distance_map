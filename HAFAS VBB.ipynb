{
 "cells": [
  {
   "cell_type": "code",
   "execution_count": 1,
   "metadata": {},
   "outputs": [],
   "source": [
    "import requests\n",
    "import json\n",
    "from datetime import datetime, timedelta\n",
    "import pandas as pd\n",
    "import numpy as np\n",
    "from functools import lru_cache"
   ]
  },
  {
   "cell_type": "code",
   "execution_count": 2,
   "metadata": {},
   "outputs": [],
   "source": [
    "base_url = \"https://demo.hafas.de/openapi/vbb-proxy/\""
   ]
  },
  {
   "cell_type": "markdown",
   "metadata": {},
   "source": [
    "Read secret access ID for VBB API from a file"
   ]
  },
  {
   "cell_type": "code",
   "execution_count": 3,
   "metadata": {},
   "outputs": [],
   "source": [
    "ACCESS_ID = !cat ACCESS_ID.txt\n",
    "ACCESS_ID = ACCESS_ID.s"
   ]
  },
  {
   "cell_type": "code",
   "execution_count": 5,
   "metadata": {},
   "outputs": [],
   "source": [
    "@lru_cache(maxsize=500)\n",
    "def req(endpoint):\n",
    "    response = requests.get(endpoint)\n",
    "    js = json.loads(response.text)\n",
    "    return js"
   ]
  },
  {
   "cell_type": "code",
   "execution_count": 6,
   "metadata": {},
   "outputs": [],
   "source": [
    "origin = (52.5159984,13.4575739)  # Frankfurter Allee 15\n",
    "dest = (52.5219216,13.411026)  # Alexanderplatz"
   ]
  },
  {
   "cell_type": "code",
   "execution_count": 69,
   "metadata": {},
   "outputs": [],
   "source": [
    "def append_access_id(endpoint):\n",
    "    return endpoint + ('?','&')[endpoint.find('?') > -1] + \"accessId={ACCESS_ID}\".format(ACCESS_ID=ACCESS_ID)\n",
    "\n",
    "def force_json_format(endpoint):\n",
    "    return endpoint + ('?','&')[endpoint.find('?') > -1] + \"format=json\"\n",
    "\n",
    "def set_latlon(endpoint, point, mode):\n",
    "    return endpoint + ('?','&')[endpoint.find('?') > -1] + \\\n",
    "            \"{mode}CoordLat={point[0]}\".format(mode=mode, point=point) + '&' + \\\n",
    "            \"{mode}CoordLon={point[1]}\".format(mode=mode, point=point)\n",
    "\n",
    "def set_origin_latlon(endpoint, point):\n",
    "    return set_latlon(endpoint, point, 'origin')\n",
    "\n",
    "def set_dest_latlon(endpoint, point):\n",
    "    return set_latlon(endpoint, point, 'dest')\n",
    "\n",
    "def set_extid(endpoint, extid, mode):\n",
    "    return endpoint + ('?','&')[endpoint.find('?') > -1] + \"{}ExtId={}\".format(mode,extid)\n",
    "\n",
    "def set_origin_extid(endpoint, extid):\n",
    "    return set_extid(endpoint, extid, 'origin')\n",
    "\n",
    "def set_dest_extid(endpoint, extid):\n",
    "    return set_extid(endpoint, extid, 'dest')\n",
    "\n",
    "def append_date_and_time(endpoint, datetime_):\n",
    "    date_ = datetime_.strftime('%Y-%m-%d')\n",
    "    time_ = datetime_.strftime('%H:%M:%S')\n",
    "    duration = 20  # mins\n",
    "    return endpoint + ('?','&')[endpoint.find('?') > -1] + \"date={}&time={}&duration={}\".format(date_, time_, duration)\n",
    "\n",
    "def enable_walk_routes(endpoint):\n",
    "    return enable_alt_routes(endpoint, 'Walk')\n",
    "\n",
    "def enable_bike_routes(endpoint):\n",
    "    return enable_alt_routes(endpoint, 'Bike')\n",
    "\n",
    "def enable_alt_routes(endpoint, mode):\n",
    "    return endpoint + ('?','&')[endpoint.find('?') > -1] + \"total{0}=1,0,5000&origin{0}=1,0,5000&dest{0}=1,0,5000\".format(mode)"
   ]
  },
  {
   "cell_type": "markdown",
   "metadata": {},
   "source": [
    "Resolve origin and dest HAFAS locations using nearbystops"
   ]
  },
  {
   "cell_type": "code",
   "execution_count": 86,
   "metadata": {},
   "outputs": [],
   "source": [
    "def get_closest_stop(point):\n",
    "    endpoint = base_url + 'location.nearbystops'\n",
    "    endpoint = append_access_id(endpoint)\n",
    "    endpoint = force_json_format(endpoint)\n",
    "    endpoint += '&originCoordLong={}&originCoordLat={}&maxNo=1&r=2000'.format(origin[1],origin[0])\n",
    "    response = req(endpoint)\n",
    "    for key, result in response.items():\n",
    "        for location in result:\n",
    "            # print(location['StopLocation'], location['StopLocation']['extId'])\n",
    "            return location['StopLocation']\n",
    "        \n",
    "    return None"
   ]
  },
  {
   "cell_type": "code",
   "execution_count": 9,
   "metadata": {},
   "outputs": [],
   "source": [
    "origin_ext = get_closest_stop(origin)\n",
    "origin_extid = origin_ext['extId']\n",
    "dest_extid = '900100003'"
   ]
  },
  {
   "cell_type": "code",
   "execution_count": 10,
   "metadata": {},
   "outputs": [
    {
     "name": "stdout",
     "output_type": "stream",
     "text": [
      "{'stopLocationOrCoordLocation': [{'StopLocation': {'productAtStop': [{'icon': {'res': 'prod_gen'}, 'name': 'S8', 'line': 'S8', 'lineId': 'S8', 'catOut': 'S', 'cls': '1', 'catOutS': 'S-8', 'catOutL': 'S'}, {'icon': {'res': 'prod_gen'}, 'name': 'S41', 'line': 'S41', 'lineId': 'S41', 'catOut': 'S', 'cls': '1', 'catOutS': 'S-3', 'catOutL': 'S'}, {'icon': {'res': 'prod_gen'}, 'name': 'S42', 'line': 'S42', 'lineId': 'S42', 'catOut': 'S', 'cls': '1', 'catOutS': 'S-3', 'catOutL': 'S'}, {'icon': {'res': 'prod_gen'}, 'name': 'S85', 'line': 'S85', 'lineId': 'S85', 'catOut': 'S', 'cls': '1', 'catOutS': 'S12', 'catOutL': 'S'}, {'icon': {'res': 'prod_gen'}, 'name': '156', 'line': '156', 'lineId': '156', 'catOut': 'Bus', 'cls': '8', 'catOutS': 'B', 'catOutL': 'Bus'}, {'icon': {'res': 'prod_gen'}, 'name': '240', 'line': '240', 'lineId': '240', 'catOut': 'Bus', 'cls': '8', 'catOutS': 'B', 'catOutL': 'Bus'}], 'id': 'A=1@O=S Storkower Str. (Berlin)@X=13464834@Y=52524052@u=0@U=86@L=900110012@', 'extId': '900110012', 'name': 'S Storkower Str. (Berlin)', 'lon': 13.464834, 'lat': 52.524052, 'weight': 13400, 'dist': 71, 'products': 9}}], 'TechnicalMessages': {'TechnicalMessage': [{'value': '2020-04-25 00:38:11', 'key': 'requestTime'}, {'value': 'tcp://hafas-pub-srv-01.local.hacon.de:2001', 'key': 'backendId'}, {'value': 'ttp=14720#14957 plancode0=jivgy planid=1587637824 planid0=1587637824 planid_adr=1553251442 plancode_adr=y1uro planid_poi=1587639413 plancode_poi=jiwo3 planid_ext=1516270147 plancode_ext=c07th srvv=5.44.VBB.4.7 tlibv=VBB_TARIF: 2.15 Rev. 1 (201909120909) jno=1', 'key': 'backendInfo'}]}, 'serverVersion': '2.7.3', 'dialectVersion': '1.29', 'requestId': '4t2s3ttqig83x6cc'}\n"
     ]
    }
   ],
   "source": [
    "pt = (52.52448133333333, 13.46405325)\n",
    "endpoint = base_url + 'location.nearbystops'\n",
    "endpoint = append_access_id(endpoint)\n",
    "endpoint = force_json_format(endpoint)\n",
    "endpoint += '&originCoordLong={}&originCoordLat={}&maxNo=1&r=1000'.format(pt[1],pt[0])\n",
    "response = req(endpoint)\n",
    "print(response)"
   ]
  },
  {
   "cell_type": "markdown",
   "metadata": {},
   "source": [
    "Request all trips between origin and dest"
   ]
  },
  {
   "cell_type": "code",
   "execution_count": 81,
   "metadata": {},
   "outputs": [],
   "source": [
    "def total_travel_time(response):\n",
    "    ttt = []\n",
    "    for trip in response['Trip']:\n",
    "        leglist = trip['LegList']\n",
    "\n",
    "        for key in leglist:\n",
    "            travel_time = timedelta()\n",
    "            for leg in leglist['Leg']:\n",
    "                # print(leg, len(leg))\n",
    "                leg_origin, leg_dest = leg['Origin'], leg['Destination']\n",
    "                # print(leg_origin['time'], leg_dest['time'])\n",
    "                leg_origin_time = datetime.strptime(leg_origin['time'], '%H:%M:%S')\n",
    "                leg_dest_time = datetime.strptime(leg_dest['time'], '%H:%M:%S')\n",
    "                print(leg_dest)\n",
    "                td = timedelta() + leg_dest_time - leg_origin_time\n",
    "                travel_time += td\n",
    "            # print('TOTAL TRAVEL TIME: {}'.format(travel_time))\n",
    "            ttt.append(travel_time)\n",
    "    return ttt\n",
    "\n",
    "def all_trips(response):\n",
    "    trips = []\n",
    "    try:\n",
    "        for trip in response['Trip']:\n",
    "            leglist = trip['LegList']\n",
    "\n",
    "            for key in leglist:\n",
    "                travel_time = timedelta()\n",
    "                legs = []\n",
    "                for leg in leglist['Leg']:\n",
    "                    # print(leg, len(leg))\n",
    "                    leg_origin, leg_dest = leg['Origin'], leg['Destination']\n",
    "                    if leg_origin['name'] not in legs:\n",
    "                        legs.append(leg_origin['name'])\n",
    "                    # print(leg_origin['time'], leg_dest['time'])\n",
    "                    leg_origin_time = datetime.strptime(leg_origin['time'], '%H:%M:%S')\n",
    "                    leg_dest_time = datetime.strptime(leg_dest['time'], '%H:%M:%S')\n",
    "                    td = timedelta() + leg_dest_time - leg_origin_time\n",
    "                    travel_time += td\n",
    "                    legs.append(leg_dest['name'])\n",
    "                # print('TOTAL TRAVEL TIME: {}'.format(travel_time))\n",
    "                trips.append((travel_time, legs))\n",
    "    except KeyError as e:\n",
    "        if response['errorCode'] == 'SVC_NO_RESULT':\n",
    "            # print('Could not find a trip')\n",
    "            pass\n",
    "        elif response['errorCode'] == 'SVC_LOC_EQUAL': # start and dest are equal -> 0 time\n",
    "            trips.append((timedelta(seconds=0.0), ()),)\n",
    "        else:\n",
    "            print(e)\n",
    "        \n",
    "    return trips\n",
    "\n",
    "def compute_travel_times(origin_extid, dest_extid, datetime_=None):\n",
    "    endpoint = base_url + 'trip'\n",
    "    endpoint = append_access_id(endpoint)\n",
    "    endpoint = force_json_format(endpoint)\n",
    "    endpoint = set_origin_extid(endpoint, origin_extid)\n",
    "    endpoint = set_dest_extid(endpoint, dest_extid)\n",
    "    endpoint = enable_walk_routes(endpoint)\n",
    "    if datetime_ is not None:\n",
    "        endpoint = append_date_and_time(endpoint, datetime_)\n",
    "    return total_travel_time(req(endpoint))\n",
    "\n",
    "def compute_trips(origin_extid, dest_extid, datetime_=None):\n",
    "    endpoint = base_url + 'trip'\n",
    "    endpoint = append_access_id(endpoint)\n",
    "    endpoint = force_json_format(endpoint)\n",
    "    endpoint = set_origin_extid(endpoint, origin_extid)\n",
    "    endpoint = set_dest_extid(endpoint, dest_extid)\n",
    "    endpoint = enable_walk_routes(endpoint)\n",
    "    endpoint = enable_bike_routes(endpoint)\n",
    "    if datetime_ is not None:\n",
    "        endpoint = append_date_and_time(endpoint, datetime_)\n",
    "    return all_trips(req(endpoint))"
   ]
  },
  {
   "cell_type": "code",
   "execution_count": 29,
   "metadata": {},
   "outputs": [
    {
     "data": {
      "text/plain": [
       "[(datetime.timedelta(seconds=600),\n",
       "  ['Wolliner Str. (Berlin)',\n",
       "   'U Eberswalder Str. (Berlin)',\n",
       "   'S+U Alexanderplatz (Berlin) [U2]']),\n",
       " (datetime.timedelta(seconds=420),\n",
       "  ['Wolliner Str. (Berlin)',\n",
       "   'U Bernauer Str. (Berlin)',\n",
       "   'S+U Alexanderplatz (Berlin) [U8]']),\n",
       " (datetime.timedelta(seconds=600),\n",
       "  ['Wolliner Str. (Berlin)',\n",
       "   'U Eberswalder Str. (Berlin)',\n",
       "   'S+U Alexanderplatz (Berlin) [U2]']),\n",
       " (datetime.timedelta(seconds=420),\n",
       "  ['Wolliner Str. (Berlin)',\n",
       "   'U Bernauer Str. (Berlin)',\n",
       "   'S+U Alexanderplatz (Berlin) [U8]']),\n",
       " (datetime.timedelta(seconds=600),\n",
       "  ['Wolliner Str. (Berlin)',\n",
       "   'U Eberswalder Str. (Berlin)',\n",
       "   'S+U Alexanderplatz (Berlin) [U2]'])]"
      ]
     },
     "execution_count": 29,
     "metadata": {},
     "output_type": "execute_result"
    }
   ],
   "source": [
    "compute_trips(origin_extid, dest_extid, datetime_=datetime(2020,4,22,8,0))"
   ]
  },
  {
   "cell_type": "code",
   "execution_count": 13,
   "metadata": {},
   "outputs": [
    {
     "name": "stdout",
     "output_type": "stream",
     "text": [
      "{'Notes': {'Note': [{'value': 'Verantwortlicher DINO-Haltestellenbereich', 'key': 'IS', 'type': 'A', 'priority': 999, 'txtN': 'Verantwortlicher DINO-Haltestellenbereich'}]}, 'name': 'S+U Alexanderplatz (Berlin) [U5]', 'type': 'ST', 'id': 'A=1@O=S+U Alexanderplatz (Berlin) [U5]@X=13413110@Y=52521607@U=86@L=900100704@', 'extId': '900100704', 'lon': 13.41311, 'lat': 52.521607, 'routeIdx': 19, 'prognosisType': 'PROGNOSED', 'time': '00:49:00', 'date': '2020-04-25', 'rtTime': '00:49:00', 'rtDate': '2020-04-25'}\n",
      "{'Notes': {'Note': [{'value': 'Verantwortlicher DINO-Haltestellenbereich', 'key': 'IS', 'type': 'A', 'priority': 999, 'txtN': 'Verantwortlicher DINO-Haltestellenbereich'}]}, 'name': 'S+U Alexanderplatz (Berlin) [U5]', 'type': 'ST', 'id': 'A=1@O=S+U Alexanderplatz (Berlin) [U5]@X=13413110@Y=52521607@U=86@L=900100704@', 'extId': '900100704', 'lon': 13.41311, 'lat': 52.521607, 'routeIdx': 19, 'prognosisType': 'PROGNOSED', 'time': '00:59:00', 'date': '2020-04-25', 'rtTime': '00:59:00', 'rtDate': '2020-04-25'}\n",
      "{'Notes': {'Note': [{'value': 'Verantwortlicher DINO-Haltestellenbereich', 'key': 'IS', 'type': 'A', 'priority': 999, 'txtN': 'Verantwortlicher DINO-Haltestellenbereich'}]}, 'name': 'S+U Alexanderplatz (Berlin) [U5]', 'type': 'ST', 'id': 'A=1@O=S+U Alexanderplatz (Berlin) [U5]@X=13413110@Y=52521607@U=86@L=900100704@', 'extId': '900100704', 'lon': 13.41311, 'lat': 52.521607, 'routeIdx': 19, 'prognosisType': 'PROGNOSED', 'time': '01:08:00', 'date': '2020-04-25', 'rtTime': '01:08:00', 'rtDate': '2020-04-25'}\n",
      "{'Notes': {'Note': [{'value': 'Verantwortlicher DINO-Haltestellenbereich', 'key': 'IS', 'type': 'A', 'priority': 999, 'txtN': 'Verantwortlicher DINO-Haltestellenbereich'}]}, 'name': 'S+U Alexanderplatz (Berlin) [U5]', 'type': 'ST', 'id': 'A=1@O=S+U Alexanderplatz (Berlin) [U5]@X=13413110@Y=52521607@U=86@L=900100704@', 'extId': '900100704', 'lon': 13.41311, 'lat': 52.521607, 'routeIdx': 19, 'prognosisType': 'PROGNOSED', 'time': '01:23:00', 'date': '2020-04-25', 'rtTime': '01:23:00', 'rtDate': '2020-04-25'}\n",
      "{'Notes': {'Note': [{'value': 'Verantwortlicher DINO-Haltestellenbereich', 'key': 'IS', 'type': 'A', 'priority': 999, 'txtN': 'Verantwortlicher DINO-Haltestellenbereich'}]}, 'name': 'S+U Alexanderplatz (Berlin) [U5]', 'type': 'ST', 'id': 'A=1@O=S+U Alexanderplatz (Berlin) [U5]@X=13413110@Y=52521607@U=86@L=900100704@', 'extId': '900100704', 'lon': 13.41311, 'lat': 52.521607, 'routeIdx': 19, 'prognosisType': 'PROGNOSED', 'time': '01:38:00', 'date': '2020-04-25', 'rtTime': '01:38:00', 'rtDate': '2020-04-25'}\n"
     ]
    },
    {
     "data": {
      "text/plain": [
       "[datetime.timedelta(seconds=360),\n",
       " datetime.timedelta(seconds=360),\n",
       " datetime.timedelta(seconds=300),\n",
       " datetime.timedelta(seconds=300),\n",
       " datetime.timedelta(seconds=300)]"
      ]
     },
     "execution_count": 13,
     "metadata": {},
     "output_type": "execute_result"
    }
   ],
   "source": [
    "compute_travel_times(origin_extid, dest_extid)"
   ]
  },
  {
   "cell_type": "markdown",
   "metadata": {},
   "source": [
    "Consider distance from the requested GPS coordinate to the nearest stop"
   ]
  },
  {
   "cell_type": "code",
   "execution_count": 14,
   "metadata": {},
   "outputs": [],
   "source": [
    "origin = (52.517602, 13.458108)"
   ]
  },
  {
   "cell_type": "code",
   "execution_count": 15,
   "metadata": {},
   "outputs": [],
   "source": [
    "origin_closest_stop = get_closest_stop(origin)\n",
    "origin_extid = origin_closest_stop['extId']\n",
    "origin_closest_stop_coord = (origin_closest_stop['lat'], origin_closest_stop['lon'])"
   ]
  },
  {
   "cell_type": "code",
   "execution_count": 16,
   "metadata": {},
   "outputs": [],
   "source": [
    "import math\n",
    "\n",
    "def distance_utf(point1, point2):\n",
    "    def toRadians(deg):\n",
    "        return deg * math.pi / 180.0\n",
    "    \n",
    "    R = 6371e3; # metres\n",
    "    lat1, lon1 = point1\n",
    "    lat2, lon2 = point2\n",
    "    phi1 = toRadians(lat1)\n",
    "    phi2 = toRadians(lat2)\n",
    "    delta_phi = toRadians(lat2-lat1)\n",
    "    delta_lambda = toRadians(lon2-lon1)\n",
    "\n",
    "    a = math.sin(delta_phi/2) * math.sin(delta_phi/2) + \\\n",
    "            math.cos(phi1) * math.cos(phi2) * \\\n",
    "            math.sin(delta_lambda/2) * math.sin(delta_lambda/2)\n",
    "    c = 2 * math.atan2(math.sqrt(a), math.sqrt(1-a))\n",
    "\n",
    "    d = R * c\n",
    "    return d"
   ]
  },
  {
   "cell_type": "code",
   "execution_count": 17,
   "metadata": {},
   "outputs": [
    {
     "name": "stdout",
     "output_type": "stream",
     "text": [
      "{'Notes': {'Note': [{'value': 'Aufzug', 'key': 'AT', 'type': 'A', 'priority': 300, 'txtN': 'Aufzug'}, {'value': 'Blindenleitstreifen', 'key': 'BL', 'type': 'A', 'priority': 300, 'txtN': 'Blindenleitstreifen'}, {'value': 'Verantwortlicher DINO-Haltestellenbereich', 'key': 'IS', 'type': 'A', 'priority': 999, 'txtN': 'Verantwortlicher DINO-Haltestellenbereich'}]}, 'name': 'U Frankfurter Tor (Berlin)', 'type': 'ST', 'id': 'A=1@O=U Frankfurter Tor (Berlin)@X=13454083@Y=52515773@U=86@L=900120008@', 'extId': '900120008', 'lon': 13.454083, 'lat': 52.515773, 'routeIdx': 20, 'prognosisType': 'PROGNOSED', 'time': '00:47:00', 'date': '2020-04-25', 'rtTime': '00:47:00', 'rtDate': '2020-04-25'}\n",
      "{'Notes': {'Note': [{'value': 'Verantwortlicher DINO-Haltestellenbereich', 'key': 'IS', 'type': 'A', 'priority': 999, 'txtN': 'Verantwortlicher DINO-Haltestellenbereich'}]}, 'name': 'S+U Alexanderplatz (Berlin) [U5]', 'type': 'ST', 'id': 'A=1@O=S+U Alexanderplatz (Berlin) [U5]@X=13413110@Y=52521607@U=86@L=900100704@', 'extId': '900100704', 'lon': 13.41311, 'lat': 52.521607, 'routeIdx': 19, 'prognosisType': 'PROGNOSED', 'time': '00:59:00', 'date': '2020-04-25', 'rtTime': '00:59:00', 'rtDate': '2020-04-25'}\n",
      "{'Notes': {'Note': [{'value': 'Aufzug', 'key': 'AT', 'type': 'A', 'priority': 300, 'txtN': 'Aufzug'}, {'value': 'Blindenleitstreifen', 'key': 'BL', 'type': 'A', 'priority': 300, 'txtN': 'Blindenleitstreifen'}, {'value': 'Verantwortlicher DINO-Haltestellenbereich', 'key': 'IS', 'type': 'A', 'priority': 999, 'txtN': 'Verantwortlicher DINO-Haltestellenbereich'}]}, 'name': 'U Frankfurter Tor (Berlin)', 'type': 'ST', 'id': 'A=1@O=U Frankfurter Tor (Berlin)@X=13454083@Y=52515773@U=86@L=900120008@', 'extId': '900120008', 'lon': 13.454083, 'lat': 52.515773, 'routeIdx': 20, 'prognosisType': 'PROGNOSED', 'time': '00:58:00', 'date': '2020-04-25', 'rtTime': '00:58:00', 'rtDate': '2020-04-25'}\n",
      "{'Notes': {'Note': [{'value': 'Verantwortlicher DINO-Haltestellenbereich', 'key': 'IS', 'type': 'A', 'priority': 999, 'txtN': 'Verantwortlicher DINO-Haltestellenbereich'}]}, 'name': 'S+U Alexanderplatz (Berlin) [U5]', 'type': 'ST', 'id': 'A=1@O=S+U Alexanderplatz (Berlin) [U5]@X=13413110@Y=52521607@U=86@L=900100704@', 'extId': '900100704', 'lon': 13.41311, 'lat': 52.521607, 'routeIdx': 19, 'prognosisType': 'PROGNOSED', 'time': '01:08:00', 'date': '2020-04-25', 'rtTime': '01:08:00', 'rtDate': '2020-04-25'}\n",
      "{'Notes': {'Note': [{'value': 'Aufzug', 'key': 'AT', 'type': 'A', 'priority': 300, 'txtN': 'Aufzug'}, {'value': 'Blindenleitstreifen', 'key': 'BL', 'type': 'A', 'priority': 300, 'txtN': 'Blindenleitstreifen'}, {'value': 'Verantwortlicher DINO-Haltestellenbereich', 'key': 'IS', 'type': 'A', 'priority': 999, 'txtN': 'Verantwortlicher DINO-Haltestellenbereich'}]}, 'name': 'U Frankfurter Tor (Berlin)', 'type': 'ST', 'id': 'A=1@O=U Frankfurter Tor (Berlin)@X=13454083@Y=52515773@U=86@L=900120008@', 'extId': '900120008', 'lon': 13.454083, 'lat': 52.515773, 'routeIdx': 20, 'prognosisType': 'PROGNOSED', 'time': '01:13:00', 'date': '2020-04-25', 'rtTime': '01:13:00', 'rtDate': '2020-04-25'}\n",
      "{'Notes': {'Note': [{'value': 'Verantwortlicher DINO-Haltestellenbereich', 'key': 'IS', 'type': 'A', 'priority': 999, 'txtN': 'Verantwortlicher DINO-Haltestellenbereich'}]}, 'name': 'S+U Alexanderplatz (Berlin) [U5]', 'type': 'ST', 'id': 'A=1@O=S+U Alexanderplatz (Berlin) [U5]@X=13413110@Y=52521607@U=86@L=900100704@', 'extId': '900100704', 'lon': 13.41311, 'lat': 52.521607, 'routeIdx': 19, 'prognosisType': 'PROGNOSED', 'time': '01:23:00', 'date': '2020-04-25', 'rtTime': '01:23:00', 'rtDate': '2020-04-25'}\n",
      "{'Notes': {'Note': [{'value': 'Aufzug', 'key': 'AT', 'type': 'A', 'priority': 300, 'txtN': 'Aufzug'}, {'value': 'Blindenleitstreifen', 'key': 'BL', 'type': 'A', 'priority': 300, 'txtN': 'Blindenleitstreifen'}, {'value': 'Verantwortlicher DINO-Haltestellenbereich', 'key': 'IS', 'type': 'A', 'priority': 999, 'txtN': 'Verantwortlicher DINO-Haltestellenbereich'}]}, 'name': 'U Frankfurter Tor (Berlin)', 'type': 'ST', 'id': 'A=1@O=U Frankfurter Tor (Berlin)@X=13454083@Y=52515773@U=86@L=900120008@', 'extId': '900120008', 'lon': 13.454083, 'lat': 52.515773, 'routeIdx': 20, 'prognosisType': 'PROGNOSED', 'time': '01:28:00', 'date': '2020-04-25'}\n",
      "{'Notes': {'Note': [{'value': 'Verantwortlicher DINO-Haltestellenbereich', 'key': 'IS', 'type': 'A', 'priority': 999, 'txtN': 'Verantwortlicher DINO-Haltestellenbereich'}]}, 'name': 'S+U Alexanderplatz (Berlin) [U5]', 'type': 'ST', 'id': 'A=1@O=S+U Alexanderplatz (Berlin) [U5]@X=13413110@Y=52521607@U=86@L=900100704@', 'extId': '900100704', 'lon': 13.41311, 'lat': 52.521607, 'routeIdx': 19, 'prognosisType': 'PROGNOSED', 'time': '01:38:00', 'date': '2020-04-25', 'rtTime': '01:38:00', 'rtDate': '2020-04-25'}\n",
      "{'Notes': {'Note': [{'value': 'Aufzug', 'key': 'AT', 'type': 'A', 'priority': 300, 'txtN': 'Aufzug'}, {'value': 'Blindenleitstreifen', 'key': 'BL', 'type': 'A', 'priority': 300, 'txtN': 'Blindenleitstreifen'}, {'value': 'Verantwortlicher DINO-Haltestellenbereich', 'key': 'IS', 'type': 'A', 'priority': 999, 'txtN': 'Verantwortlicher DINO-Haltestellenbereich'}]}, 'name': 'U Frankfurter Tor (Berlin)', 'type': 'ST', 'id': 'A=1@O=U Frankfurter Tor (Berlin)@X=13454083@Y=52515773@U=86@L=900120008@', 'extId': '900120008', 'lon': 13.454083, 'lat': 52.515773, 'routeIdx': 20, 'prognosisType': 'PROGNOSED', 'time': '01:43:00', 'date': '2020-04-25', 'rtTime': '01:43:00', 'rtDate': '2020-04-25'}\n",
      "{'Notes': {'Note': [{'value': 'Verantwortlicher DINO-Haltestellenbereich', 'key': 'IS', 'type': 'A', 'priority': 999, 'txtN': 'Verantwortlicher DINO-Haltestellenbereich'}]}, 'name': 'S+U Alexanderplatz (Berlin) [U5]', 'type': 'ST', 'id': 'A=1@O=S+U Alexanderplatz (Berlin) [U5]@X=13413110@Y=52521607@U=86@L=900100704@', 'extId': '900100704', 'lon': 13.41311, 'lat': 52.521607, 'routeIdx': 19, 'prognosisType': 'PROGNOSED', 'time': '01:53:00', 'date': '2020-04-25', 'rtTime': '01:53:00', 'rtDate': '2020-04-25'}\n"
     ]
    },
    {
     "data": {
      "text/plain": [
       "[datetime.timedelta(seconds=480),\n",
       " datetime.timedelta(seconds=420),\n",
       " datetime.timedelta(seconds=420),\n",
       " datetime.timedelta(seconds=420),\n",
       " datetime.timedelta(seconds=420)]"
      ]
     },
     "execution_count": 17,
     "metadata": {},
     "output_type": "execute_result"
    }
   ],
   "source": [
    "travel_times = compute_travel_times(origin_extid, dest_extid)\n",
    "travel_times"
   ]
  },
  {
   "cell_type": "code",
   "execution_count": 18,
   "metadata": {},
   "outputs": [
    {
     "data": {
      "text/plain": [
       "284.97535065497823"
      ]
     },
     "execution_count": 18,
     "metadata": {},
     "output_type": "execute_result"
    }
   ],
   "source": [
    "distance_utf(origin, origin_closest_stop_coord)"
   ]
  },
  {
   "cell_type": "code",
   "execution_count": 19,
   "metadata": {},
   "outputs": [
    {
     "data": {
      "text/plain": [
       "[datetime.timedelta(seconds=821, microseconds=970421),\n",
       " datetime.timedelta(seconds=761, microseconds=970421),\n",
       " datetime.timedelta(seconds=761, microseconds=970421),\n",
       " datetime.timedelta(seconds=761, microseconds=970421),\n",
       " datetime.timedelta(seconds=761, microseconds=970421)]"
      ]
     },
     "execution_count": 19,
     "metadata": {},
     "output_type": "execute_result"
    }
   ],
   "source": [
    "WALK_VELOCITY = 3000/3600.0 # m/s\n",
    "distance_to_closest_stop = distance_utf(origin, origin_closest_stop_coord)\n",
    "travel_times_adjusted = []\n",
    "for tt in travel_times:\n",
    "    travel_times_adjusted.append(tt + timedelta(seconds=distance_to_closest_stop/WALK_VELOCITY))\n",
    "travel_times_adjusted"
   ]
  },
  {
   "cell_type": "markdown",
   "metadata": {},
   "source": [
    "Record data into a CSV file for later rendering"
   ]
  },
  {
   "cell_type": "code",
   "execution_count": 20,
   "metadata": {},
   "outputs": [],
   "source": [
    "df = pd.DataFrame(columns=['latitude', 'longitude', 'min travel time'])\n",
    "\n",
    "origins = [\n",
    "    (52.5159984,13.4575739),\n",
    "    (52.517602, 13.458108)\n",
    "]\n",
    "WALK_VELOCITY = 3000/3600.0 # m/s\n",
    "\n",
    "for origin in origins:\n",
    "    origin_closest_stop = get_closest_stop(origin)\n",
    "    distance_to_closest_stop = distance_utf(origin, origin_closest_stop_coord)\n",
    "    origin_extid = origin_closest_stop['extId']\n",
    "    origin_closest_stop_point = (origin_closest_stop['lat'], origin_closest_stop['lon'])\n",
    "    \n",
    "    dt = datetime(2020, 5, 1, 5, 0, 0)\n",
    "    trips = compute_trips(origin_extid, dest_extid, dt)\n",
    "    \n",
    "    trips_adjusted = []\n",
    "    for travel_time, trip in trips:\n",
    "        trips_adjusted.append((travel_time + timedelta(seconds=distance_to_closest_stop/WALK_VELOCITY), trip))\n",
    "\n",
    "    shortest_trip = sorted(trips_adjusted, key=lambda x:x[0])[0]\n",
    "    df = df.append({'latitude': origin[0], 'longitude': origin[1], 'min travel time': shortest_trip[0].total_seconds(), 'shortest trip': ' > '.join(shortest_trip[1])}, ignore_index=True)"
   ]
  },
  {
   "cell_type": "code",
   "execution_count": 21,
   "metadata": {},
   "outputs": [
    {
     "data": {
      "text/html": [
       "<div>\n",
       "<style scoped>\n",
       "    .dataframe tbody tr th:only-of-type {\n",
       "        vertical-align: middle;\n",
       "    }\n",
       "\n",
       "    .dataframe tbody tr th {\n",
       "        vertical-align: top;\n",
       "    }\n",
       "\n",
       "    .dataframe thead th {\n",
       "        text-align: right;\n",
       "    }\n",
       "</style>\n",
       "<table border=\"1\" class=\"dataframe\">\n",
       "  <thead>\n",
       "    <tr style=\"text-align: right;\">\n",
       "      <th></th>\n",
       "      <th>latitude</th>\n",
       "      <th>longitude</th>\n",
       "      <th>min travel time</th>\n",
       "      <th>shortest trip</th>\n",
       "    </tr>\n",
       "  </thead>\n",
       "  <tbody>\n",
       "    <tr>\n",
       "      <td>0</td>\n",
       "      <td>52.515998</td>\n",
       "      <td>13.457574</td>\n",
       "      <td>773.557670</td>\n",
       "      <td>U Frankfurter Tor (Berlin) &gt; S+U Alexanderplat...</td>\n",
       "    </tr>\n",
       "    <tr>\n",
       "      <td>1</td>\n",
       "      <td>52.517602</td>\n",
       "      <td>13.458108</td>\n",
       "      <td>761.970421</td>\n",
       "      <td>Bersarinplatz (Berlin) &gt; U Frankfurter Tor (Be...</td>\n",
       "    </tr>\n",
       "  </tbody>\n",
       "</table>\n",
       "</div>"
      ],
      "text/plain": [
       "    latitude  longitude  min travel time  \\\n",
       "0  52.515998  13.457574       773.557670   \n",
       "1  52.517602  13.458108       761.970421   \n",
       "\n",
       "                                       shortest trip  \n",
       "0  U Frankfurter Tor (Berlin) > S+U Alexanderplat...  \n",
       "1  Bersarinplatz (Berlin) > U Frankfurter Tor (Be...  "
      ]
     },
     "execution_count": 21,
     "metadata": {},
     "output_type": "execute_result"
    }
   ],
   "source": [
    "df"
   ]
  },
  {
   "cell_type": "code",
   "execution_count": 22,
   "metadata": {},
   "outputs": [],
   "source": [
    "df.to_csv('hafas_vbb.csv')"
   ]
  },
  {
   "cell_type": "markdown",
   "metadata": {},
   "source": [
    "# Compute travel time for an equally spaced rectangular area"
   ]
  },
  {
   "cell_type": "code",
   "execution_count": 82,
   "metadata": {},
   "outputs": [
    {
     "name": "stdout",
     "output_type": "stream",
     "text": [
      "................................................................................................................................................................................................................................."
     ]
    }
   ],
   "source": [
    "topleft = (52.54, 13.40)\n",
    "bottomright = (52.50, 13.50)\n",
    "num_points = 15\n",
    "WALK_VELOCITY = 3.0/3.6\n",
    "\n",
    "df = pd.DataFrame(columns=['latitude', 'longitude', 'min travel time'])\n",
    "\n",
    "origins = []\n",
    "lat_arr = np.linspace(bottomright[0], topleft[0], num_points)\n",
    "lon_arr = np.linspace(bottomright[1], topleft[1], num_points)\n",
    "for lat in lat_arr:\n",
    "    for lon in lon_arr:\n",
    "        origins.append((lat, lon))\n",
    "\n",
    "for origin in origins:\n",
    "    origin_closest_stop = get_closest_stop(origin)\n",
    "    origin_extid = origin_closest_stop['extId']\n",
    "    origin_closest_stop_point = (origin_closest_stop['lat'], origin_closest_stop['lon'])\n",
    "    distance_to_closest_stop = distance_utf(origin, origin_closest_stop_point)\n",
    "    \n",
    "    dt = datetime(2020, 5, 1, 5, 0, 0)\n",
    "    trips = compute_trips(origin_extid, dest_extid, dt)\n",
    "    trips_adjusted = []\n",
    "    for travel_time, trip in trips:\n",
    "        trips_adjusted.append((travel_time + timedelta(seconds=distance_to_closest_stop/WALK_VELOCITY), trip))\n",
    "\n",
    "    sorted_trips = sorted(trips_adjusted, key=lambda x:x[0])\n",
    "    if sorted_trips:\n",
    "        shortest_trip = sorted_trips[0]\n",
    "        shortest_trip_time = shortest_trip[0].total_seconds()\n",
    "    else:\n",
    "        shortest_trip = (distance_utf(origin, dest)/WALK_VELOCITY, ['No trip found'])\n",
    "        shortest_trip_time = distance_utf(origin, dest)/WALK_VELOCITY\n",
    "    shortest_trip_itinerary = shortest_trip[1]\n",
    "    \n",
    "    df = df.append({'latitude': origin[0], 'longitude': origin[1], 'min travel time': shortest_trip_time, 'shortest trip': ' > '.join(shortest_trip_itinerary)}, ignore_index=True)\n",
    "    print('.', end='')"
   ]
  },
  {
   "cell_type": "code",
   "execution_count": 83,
   "metadata": {},
   "outputs": [
    {
     "data": {
      "text/html": [
       "<div>\n",
       "<style scoped>\n",
       "    .dataframe tbody tr th:only-of-type {\n",
       "        vertical-align: middle;\n",
       "    }\n",
       "\n",
       "    .dataframe tbody tr th {\n",
       "        vertical-align: top;\n",
       "    }\n",
       "\n",
       "    .dataframe thead th {\n",
       "        text-align: right;\n",
       "    }\n",
       "</style>\n",
       "<table border=\"1\" class=\"dataframe\">\n",
       "  <thead>\n",
       "    <tr style=\"text-align: right;\">\n",
       "      <th></th>\n",
       "      <th>latitude</th>\n",
       "      <th>longitude</th>\n",
       "      <th>min travel time</th>\n",
       "      <th>shortest trip</th>\n",
       "    </tr>\n",
       "  </thead>\n",
       "  <tbody>\n",
       "    <tr>\n",
       "      <td>0</td>\n",
       "      <td>52.50</td>\n",
       "      <td>13.500000</td>\n",
       "      <td>1073.610024</td>\n",
       "      <td>Michiganseestr. (Berlin) &gt; S Ostkreuz Bhf (Ber...</td>\n",
       "    </tr>\n",
       "    <tr>\n",
       "      <td>1</td>\n",
       "      <td>52.50</td>\n",
       "      <td>13.492857</td>\n",
       "      <td>832.495337</td>\n",
       "      <td>Lückstr./Weitlingstr. (Berlin) &gt; S Ostkreuz Bh...</td>\n",
       "    </tr>\n",
       "    <tr>\n",
       "      <td>2</td>\n",
       "      <td>52.50</td>\n",
       "      <td>13.485714</td>\n",
       "      <td>1446.585478</td>\n",
       "      <td>S Nöldnerplatz/Schlichtallee (Berlin) &gt; S Nöld...</td>\n",
       "    </tr>\n",
       "    <tr>\n",
       "      <td>3</td>\n",
       "      <td>52.50</td>\n",
       "      <td>13.478571</td>\n",
       "      <td>821.904976</td>\n",
       "      <td>S Rummelsburg (Berlin) &gt; S+U Warschauer Str. (...</td>\n",
       "    </tr>\n",
       "    <tr>\n",
       "      <td>4</td>\n",
       "      <td>52.50</td>\n",
       "      <td>13.471429</td>\n",
       "      <td>1198.938142</td>\n",
       "      <td>S Rummelsburg/Hauptstr. EV (Berlin) &gt; S Rummel...</td>\n",
       "    </tr>\n",
       "    <tr>\n",
       "      <td>...</td>\n",
       "      <td>...</td>\n",
       "      <td>...</td>\n",
       "      <td>...</td>\n",
       "      <td>...</td>\n",
       "    </tr>\n",
       "    <tr>\n",
       "      <td>220</td>\n",
       "      <td>52.54</td>\n",
       "      <td>13.428571</td>\n",
       "      <td>738.537550</td>\n",
       "      <td>Winsstr. (Berlin) &gt; Prenzlauer Allee/Danziger ...</td>\n",
       "    </tr>\n",
       "    <tr>\n",
       "      <td>221</td>\n",
       "      <td>52.54</td>\n",
       "      <td>13.421429</td>\n",
       "      <td>640.595207</td>\n",
       "      <td>Husemannstr. (Berlin) &gt; U Eberswalder Str. (Be...</td>\n",
       "    </tr>\n",
       "    <tr>\n",
       "      <td>222</td>\n",
       "      <td>52.54</td>\n",
       "      <td>13.414286</td>\n",
       "      <td>520.258308</td>\n",
       "      <td>U Eberswalder Str. (Berlin) &gt; S+U Alexanderpla...</td>\n",
       "    </tr>\n",
       "    <tr>\n",
       "      <td>223</td>\n",
       "      <td>52.54</td>\n",
       "      <td>13.407143</td>\n",
       "      <td>579.211847</td>\n",
       "      <td>Friedrich-Ludwig-Jahn-Sportpark (Berlin) &gt; U E...</td>\n",
       "    </tr>\n",
       "    <tr>\n",
       "      <td>224</td>\n",
       "      <td>52.54</td>\n",
       "      <td>13.400000</td>\n",
       "      <td>569.319389</td>\n",
       "      <td>Wolliner Str. (Berlin) &gt; U Bernauer Str. (Berl...</td>\n",
       "    </tr>\n",
       "  </tbody>\n",
       "</table>\n",
       "<p>225 rows × 4 columns</p>\n",
       "</div>"
      ],
      "text/plain": [
       "     latitude  longitude  min travel time  \\\n",
       "0       52.50  13.500000      1073.610024   \n",
       "1       52.50  13.492857       832.495337   \n",
       "2       52.50  13.485714      1446.585478   \n",
       "3       52.50  13.478571       821.904976   \n",
       "4       52.50  13.471429      1198.938142   \n",
       "..        ...        ...              ...   \n",
       "220     52.54  13.428571       738.537550   \n",
       "221     52.54  13.421429       640.595207   \n",
       "222     52.54  13.414286       520.258308   \n",
       "223     52.54  13.407143       579.211847   \n",
       "224     52.54  13.400000       569.319389   \n",
       "\n",
       "                                         shortest trip  \n",
       "0    Michiganseestr. (Berlin) > S Ostkreuz Bhf (Ber...  \n",
       "1    Lückstr./Weitlingstr. (Berlin) > S Ostkreuz Bh...  \n",
       "2    S Nöldnerplatz/Schlichtallee (Berlin) > S Nöld...  \n",
       "3    S Rummelsburg (Berlin) > S+U Warschauer Str. (...  \n",
       "4    S Rummelsburg/Hauptstr. EV (Berlin) > S Rummel...  \n",
       "..                                                 ...  \n",
       "220  Winsstr. (Berlin) > Prenzlauer Allee/Danziger ...  \n",
       "221  Husemannstr. (Berlin) > U Eberswalder Str. (Be...  \n",
       "222  U Eberswalder Str. (Berlin) > S+U Alexanderpla...  \n",
       "223  Friedrich-Ludwig-Jahn-Sportpark (Berlin) > U E...  \n",
       "224  Wolliner Str. (Berlin) > U Bernauer Str. (Berl...  \n",
       "\n",
       "[225 rows x 4 columns]"
      ]
     },
     "execution_count": 83,
     "metadata": {},
     "output_type": "execute_result"
    }
   ],
   "source": [
    "df"
   ]
  },
  {
   "cell_type": "code",
   "execution_count": 85,
   "metadata": {},
   "outputs": [],
   "source": [
    "df.to_csv('hafas_vbb.csv')"
   ]
  }
 ],
 "metadata": {
  "kernelspec": {
   "display_name": "Python 3",
   "language": "python",
   "name": "python3"
  },
  "language_info": {
   "codemirror_mode": {
    "name": "ipython",
    "version": 3
   },
   "file_extension": ".py",
   "mimetype": "text/x-python",
   "name": "python",
   "nbconvert_exporter": "python",
   "pygments_lexer": "ipython3",
   "version": "3.7.4"
  }
 },
 "nbformat": 4,
 "nbformat_minor": 4
}
