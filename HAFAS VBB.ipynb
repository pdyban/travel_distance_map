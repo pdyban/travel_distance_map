{
 "cells": [
  {
   "cell_type": "code",
   "execution_count": 1,
   "metadata": {},
   "outputs": [],
   "source": [
    "import requests\n",
    "import json\n",
    "from datetime import datetime, timedelta\n",
    "import pandas as pd\n",
    "import numpy as np\n",
    "from functools import lru_cache"
   ]
  },
  {
   "cell_type": "code",
   "execution_count": 2,
   "metadata": {},
   "outputs": [],
   "source": [
    "base_url = \"https://demo.hafas.de/openapi/vbb-proxy/\""
   ]
  },
  {
   "cell_type": "markdown",
   "metadata": {},
   "source": [
    "Read secret access ID for VBB API from a file"
   ]
  },
  {
   "cell_type": "code",
   "execution_count": 3,
   "metadata": {},
   "outputs": [],
   "source": [
    "ACCESS_ID = !cat ACCESS_ID.txt\n",
    "ACCESS_ID = ACCESS_ID.s"
   ]
  },
  {
   "cell_type": "code",
   "execution_count": 5,
   "metadata": {},
   "outputs": [],
   "source": [
    "@lru_cache(maxsize=500)\n",
    "def req(endpoint):\n",
    "    response = requests.get(endpoint)\n",
    "    js = json.loads(response.text)\n",
    "    return js"
   ]
  },
  {
   "cell_type": "code",
   "execution_count": 6,
   "metadata": {},
   "outputs": [],
   "source": [
    "origin = (52.5159984,13.4575739)  # Frankfurter Allee 15\n",
    "dest = (52.5219216,13.411026)  # Alexanderplatz"
   ]
  },
  {
   "cell_type": "code",
   "execution_count": 26,
   "metadata": {},
   "outputs": [],
   "source": [
    "def append_access_id(endpoint):\n",
    "    return endpoint + ('?','&')[endpoint.find('?') > -1] + \"accessId={ACCESS_ID}\".format(ACCESS_ID=ACCESS_ID)\n",
    "\n",
    "def force_json_format(endpoint):\n",
    "    return endpoint + ('?','&')[endpoint.find('?') > -1] + \"format=json\"\n",
    "\n",
    "def set_latlon(endpoint, point, mode):\n",
    "    return endpoint + ('?','&')[endpoint.find('?') > -1] + \\\n",
    "            \"{mode}CoordLat={point[0]}\".format(mode=mode, point=point) + '&' + \\\n",
    "            \"{mode}CoordLon={point[1]}\".format(mode=mode, point=point)\n",
    "\n",
    "def set_origin_latlon(endpoint, point):\n",
    "    return set_latlon(endpoint, point, 'origin')\n",
    "\n",
    "def set_dest_latlon(endpoint, point):\n",
    "    return set_latlon(endpoint, point, 'dest')\n",
    "\n",
    "def set_extid(endpoint, extid, mode):\n",
    "    return endpoint + ('?','&')[endpoint.find('?') > -1] + \"{}ExtId={}\".format(mode,extid)\n",
    "\n",
    "def set_origin_extid(endpoint, extid):\n",
    "    return set_extid(endpoint, extid, 'origin')\n",
    "\n",
    "def set_dest_extid(endpoint, extid):\n",
    "    return set_extid(endpoint, extid, 'dest')\n",
    "\n",
    "def append_date_and_time(endpoint, datetime_):\n",
    "    date_ = datetime_.strftime('%Y-%m-%d')\n",
    "    time_ = datetime_.strftime('%H:%M:%S')\n",
    "    duration = 20  # mins\n",
    "    return endpoint + ('?','&')[endpoint.find('?') > -1] + \"date={}&time={}&duration={}\".format(date_, time_, duration)\n",
    "\n",
    "def enable_walk_routes(endpoint):\n",
    "    return endpoint + ('?','&')[endpoint.find('?') > -1] + \"totalWalk=1,0,3000&originWalk=1,0,3000&destWalk=1,0,3000\""
   ]
  },
  {
   "cell_type": "markdown",
   "metadata": {},
   "source": [
    "Resolve origin and dest HAFAS locations using nearbystops"
   ]
  },
  {
   "cell_type": "code",
   "execution_count": 8,
   "metadata": {},
   "outputs": [],
   "source": [
    "def get_closest_stop(point):\n",
    "    endpoint = base_url + 'location.nearbystops'\n",
    "    endpoint = append_access_id(endpoint)\n",
    "    endpoint = force_json_format(endpoint)\n",
    "    endpoint += '&originCoordLong={}&originCoordLat={}&maxNo=1&r=1000'.format(origin[1],origin[0])\n",
    "    response = req(endpoint)\n",
    "    for key, result in response.items():\n",
    "        for location in result:\n",
    "            # print(location['StopLocation'], location['StopLocation']['extId'])\n",
    "            return location['StopLocation']\n",
    "        \n",
    "    return None"
   ]
  },
  {
   "cell_type": "code",
   "execution_count": 9,
   "metadata": {},
   "outputs": [],
   "source": [
    "origin_ext = get_closest_stop(origin)\n",
    "origin_extid = origin_ext['extId']\n",
    "dest_extid = '900100003'"
   ]
  },
  {
   "cell_type": "code",
   "execution_count": 10,
   "metadata": {},
   "outputs": [
    {
     "name": "stdout",
     "output_type": "stream",
     "text": [
      "{'stopLocationOrCoordLocation': [{'StopLocation': {'productAtStop': [{'icon': {'res': 'prod_gen'}, 'name': 'S8', 'line': 'S8', 'lineId': 'S8', 'catOut': 'S', 'cls': '1', 'catOutS': 'S-8', 'catOutL': 'S'}, {'icon': {'res': 'prod_gen'}, 'name': 'S41', 'line': 'S41', 'lineId': 'S41', 'catOut': 'S', 'cls': '1', 'catOutS': 'S-3', 'catOutL': 'S'}, {'icon': {'res': 'prod_gen'}, 'name': 'S42', 'line': 'S42', 'lineId': 'S42', 'catOut': 'S', 'cls': '1', 'catOutS': 'S-3', 'catOutL': 'S'}, {'icon': {'res': 'prod_gen'}, 'name': 'S85', 'line': 'S85', 'lineId': 'S85', 'catOut': 'S', 'cls': '1', 'catOutS': 'S12', 'catOutL': 'S'}, {'icon': {'res': 'prod_gen'}, 'name': '156', 'line': '156', 'lineId': '156', 'catOut': 'Bus', 'cls': '8', 'catOutS': 'B', 'catOutL': 'Bus'}, {'icon': {'res': 'prod_gen'}, 'name': '240', 'line': '240', 'lineId': '240', 'catOut': 'Bus', 'cls': '8', 'catOutS': 'B', 'catOutL': 'Bus'}], 'id': 'A=1@O=S Storkower Str. (Berlin)@X=13464834@Y=52524052@u=0@U=86@L=900110012@', 'extId': '900110012', 'name': 'S Storkower Str. (Berlin)', 'lon': 13.464834, 'lat': 52.524052, 'weight': 13400, 'dist': 71, 'products': 9}}], 'TechnicalMessages': {'TechnicalMessage': [{'value': '2020-04-25 00:38:11', 'key': 'requestTime'}, {'value': 'tcp://hafas-pub-srv-01.local.hacon.de:2001', 'key': 'backendId'}, {'value': 'ttp=14720#14957 plancode0=jivgy planid=1587637824 planid0=1587637824 planid_adr=1553251442 plancode_adr=y1uro planid_poi=1587639413 plancode_poi=jiwo3 planid_ext=1516270147 plancode_ext=c07th srvv=5.44.VBB.4.7 tlibv=VBB_TARIF: 2.15 Rev. 1 (201909120909) jno=1', 'key': 'backendInfo'}]}, 'serverVersion': '2.7.3', 'dialectVersion': '1.29', 'requestId': '4t2s3ttqig83x6cc'}\n"
     ]
    }
   ],
   "source": [
    "pt = (52.52448133333333, 13.46405325)\n",
    "endpoint = base_url + 'location.nearbystops'\n",
    "endpoint = append_access_id(endpoint)\n",
    "endpoint = force_json_format(endpoint)\n",
    "endpoint += '&originCoordLong={}&originCoordLat={}&maxNo=1&r=1000'.format(pt[1],pt[0])\n",
    "response = req(endpoint)\n",
    "print(response)"
   ]
  },
  {
   "cell_type": "markdown",
   "metadata": {},
   "source": [
    "Request all trips between origin and dest"
   ]
  },
  {
   "cell_type": "code",
   "execution_count": 56,
   "metadata": {},
   "outputs": [],
   "source": [
    "def total_travel_time(response):\n",
    "    ttt = []\n",
    "    for trip in response['Trip']:\n",
    "        leglist = trip['LegList']\n",
    "\n",
    "        for key in leglist:\n",
    "            travel_time = timedelta()\n",
    "            for leg in leglist['Leg']:\n",
    "                # print(leg, len(leg))\n",
    "                leg_origin, leg_dest = leg['Origin'], leg['Destination']\n",
    "                # print(leg_origin['time'], leg_dest['time'])\n",
    "                leg_origin_time = datetime.strptime(leg_origin['time'], '%H:%M:%S')\n",
    "                leg_dest_time = datetime.strptime(leg_dest['time'], '%H:%M:%S')\n",
    "                print(leg_dest)\n",
    "                td = timedelta() + leg_dest_time - leg_origin_time\n",
    "                travel_time += td\n",
    "            # print('TOTAL TRAVEL TIME: {}'.format(travel_time))\n",
    "            ttt.append(travel_time)\n",
    "    return ttt\n",
    "\n",
    "def all_trips(response):\n",
    "    trips = []\n",
    "    try:\n",
    "        for trip in response['Trip']:\n",
    "            leglist = trip['LegList']\n",
    "\n",
    "            for key in leglist:\n",
    "                travel_time = timedelta()\n",
    "                legs = []\n",
    "                for leg in leglist['Leg']:\n",
    "                    # print(leg, len(leg))\n",
    "                    leg_origin, leg_dest = leg['Origin'], leg['Destination']\n",
    "                    if leg_origin['name'] not in legs:\n",
    "                        legs.append(leg_origin['name'])\n",
    "                    # print(leg_origin['time'], leg_dest['time'])\n",
    "                    leg_origin_time = datetime.strptime(leg_origin['time'], '%H:%M:%S')\n",
    "                    leg_dest_time = datetime.strptime(leg_dest['time'], '%H:%M:%S')\n",
    "                    td = timedelta() + leg_dest_time - leg_origin_time\n",
    "                    travel_time += td\n",
    "                    legs.append(leg_dest['name'])\n",
    "                # print('TOTAL TRAVEL TIME: {}'.format(travel_time))\n",
    "                trips.append((travel_time, legs))\n",
    "    except KeyError as e:\n",
    "        if response['errorCode'] == 'SVC_NO_RESULT':\n",
    "            # print('Could not find a trip')\n",
    "            pass\n",
    "        elif response['errorCode'] == 'SVC_LOC_EQUAL': # start and dest are equal -> 0 time\n",
    "            trips.append((timedelta(seconds=0.0), ()),)\n",
    "        else:\n",
    "            print(e)\n",
    "        \n",
    "    return trips\n",
    "\n",
    "def compute_travel_times(origin_extid, dest_extid, datetime_=None):\n",
    "    endpoint = base_url + 'trip'\n",
    "    endpoint = append_access_id(endpoint)\n",
    "    endpoint = force_json_format(endpoint)\n",
    "    endpoint = set_origin_extid(endpoint, origin_extid)\n",
    "    endpoint = set_dest_extid(endpoint, dest_extid)\n",
    "    endpoint = enable_walk_routes(endpoint)\n",
    "    if datetime_ is not None:\n",
    "        endpoint = append_date_and_time(endpoint, datetime_)\n",
    "    return total_travel_time(req(endpoint))\n",
    "\n",
    "def compute_trips(origin_extid, dest_extid, datetime_=None):\n",
    "    endpoint = base_url + 'trip'\n",
    "    endpoint = append_access_id(endpoint)\n",
    "    endpoint = force_json_format(endpoint)\n",
    "    endpoint = set_origin_extid(endpoint, origin_extid)\n",
    "    endpoint = set_dest_extid(endpoint, dest_extid)\n",
    "    endpoint = enable_walk_routes(endpoint)\n",
    "    if datetime_ is not None:\n",
    "        endpoint = append_date_and_time(endpoint, datetime_)\n",
    "    return all_trips(req(endpoint))"
   ]
  },
  {
   "cell_type": "code",
   "execution_count": 29,
   "metadata": {},
   "outputs": [
    {
     "data": {
      "text/plain": [
       "[(datetime.timedelta(seconds=600),\n",
       "  ['Wolliner Str. (Berlin)',\n",
       "   'U Eberswalder Str. (Berlin)',\n",
       "   'S+U Alexanderplatz (Berlin) [U2]']),\n",
       " (datetime.timedelta(seconds=420),\n",
       "  ['Wolliner Str. (Berlin)',\n",
       "   'U Bernauer Str. (Berlin)',\n",
       "   'S+U Alexanderplatz (Berlin) [U8]']),\n",
       " (datetime.timedelta(seconds=600),\n",
       "  ['Wolliner Str. (Berlin)',\n",
       "   'U Eberswalder Str. (Berlin)',\n",
       "   'S+U Alexanderplatz (Berlin) [U2]']),\n",
       " (datetime.timedelta(seconds=420),\n",
       "  ['Wolliner Str. (Berlin)',\n",
       "   'U Bernauer Str. (Berlin)',\n",
       "   'S+U Alexanderplatz (Berlin) [U8]']),\n",
       " (datetime.timedelta(seconds=600),\n",
       "  ['Wolliner Str. (Berlin)',\n",
       "   'U Eberswalder Str. (Berlin)',\n",
       "   'S+U Alexanderplatz (Berlin) [U2]'])]"
      ]
     },
     "execution_count": 29,
     "metadata": {},
     "output_type": "execute_result"
    }
   ],
   "source": [
    "compute_trips(origin_extid, dest_extid, datetime_=datetime(2020,4,22,8,0))"
   ]
  },
  {
   "cell_type": "code",
   "execution_count": 13,
   "metadata": {},
   "outputs": [
    {
     "name": "stdout",
     "output_type": "stream",
     "text": [
      "{'Notes': {'Note': [{'value': 'Verantwortlicher DINO-Haltestellenbereich', 'key': 'IS', 'type': 'A', 'priority': 999, 'txtN': 'Verantwortlicher DINO-Haltestellenbereich'}]}, 'name': 'S+U Alexanderplatz (Berlin) [U5]', 'type': 'ST', 'id': 'A=1@O=S+U Alexanderplatz (Berlin) [U5]@X=13413110@Y=52521607@U=86@L=900100704@', 'extId': '900100704', 'lon': 13.41311, 'lat': 52.521607, 'routeIdx': 19, 'prognosisType': 'PROGNOSED', 'time': '00:49:00', 'date': '2020-04-25', 'rtTime': '00:49:00', 'rtDate': '2020-04-25'}\n",
      "{'Notes': {'Note': [{'value': 'Verantwortlicher DINO-Haltestellenbereich', 'key': 'IS', 'type': 'A', 'priority': 999, 'txtN': 'Verantwortlicher DINO-Haltestellenbereich'}]}, 'name': 'S+U Alexanderplatz (Berlin) [U5]', 'type': 'ST', 'id': 'A=1@O=S+U Alexanderplatz (Berlin) [U5]@X=13413110@Y=52521607@U=86@L=900100704@', 'extId': '900100704', 'lon': 13.41311, 'lat': 52.521607, 'routeIdx': 19, 'prognosisType': 'PROGNOSED', 'time': '00:59:00', 'date': '2020-04-25', 'rtTime': '00:59:00', 'rtDate': '2020-04-25'}\n",
      "{'Notes': {'Note': [{'value': 'Verantwortlicher DINO-Haltestellenbereich', 'key': 'IS', 'type': 'A', 'priority': 999, 'txtN': 'Verantwortlicher DINO-Haltestellenbereich'}]}, 'name': 'S+U Alexanderplatz (Berlin) [U5]', 'type': 'ST', 'id': 'A=1@O=S+U Alexanderplatz (Berlin) [U5]@X=13413110@Y=52521607@U=86@L=900100704@', 'extId': '900100704', 'lon': 13.41311, 'lat': 52.521607, 'routeIdx': 19, 'prognosisType': 'PROGNOSED', 'time': '01:08:00', 'date': '2020-04-25', 'rtTime': '01:08:00', 'rtDate': '2020-04-25'}\n",
      "{'Notes': {'Note': [{'value': 'Verantwortlicher DINO-Haltestellenbereich', 'key': 'IS', 'type': 'A', 'priority': 999, 'txtN': 'Verantwortlicher DINO-Haltestellenbereich'}]}, 'name': 'S+U Alexanderplatz (Berlin) [U5]', 'type': 'ST', 'id': 'A=1@O=S+U Alexanderplatz (Berlin) [U5]@X=13413110@Y=52521607@U=86@L=900100704@', 'extId': '900100704', 'lon': 13.41311, 'lat': 52.521607, 'routeIdx': 19, 'prognosisType': 'PROGNOSED', 'time': '01:23:00', 'date': '2020-04-25', 'rtTime': '01:23:00', 'rtDate': '2020-04-25'}\n",
      "{'Notes': {'Note': [{'value': 'Verantwortlicher DINO-Haltestellenbereich', 'key': 'IS', 'type': 'A', 'priority': 999, 'txtN': 'Verantwortlicher DINO-Haltestellenbereich'}]}, 'name': 'S+U Alexanderplatz (Berlin) [U5]', 'type': 'ST', 'id': 'A=1@O=S+U Alexanderplatz (Berlin) [U5]@X=13413110@Y=52521607@U=86@L=900100704@', 'extId': '900100704', 'lon': 13.41311, 'lat': 52.521607, 'routeIdx': 19, 'prognosisType': 'PROGNOSED', 'time': '01:38:00', 'date': '2020-04-25', 'rtTime': '01:38:00', 'rtDate': '2020-04-25'}\n"
     ]
    },
    {
     "data": {
      "text/plain": [
       "[datetime.timedelta(seconds=360),\n",
       " datetime.timedelta(seconds=360),\n",
       " datetime.timedelta(seconds=300),\n",
       " datetime.timedelta(seconds=300),\n",
       " datetime.timedelta(seconds=300)]"
      ]
     },
     "execution_count": 13,
     "metadata": {},
     "output_type": "execute_result"
    }
   ],
   "source": [
    "compute_travel_times(origin_extid, dest_extid)"
   ]
  },
  {
   "cell_type": "markdown",
   "metadata": {},
   "source": [
    "Consider distance from the requested GPS coordinate to the nearest stop"
   ]
  },
  {
   "cell_type": "code",
   "execution_count": 14,
   "metadata": {},
   "outputs": [],
   "source": [
    "origin = (52.517602, 13.458108)"
   ]
  },
  {
   "cell_type": "code",
   "execution_count": 15,
   "metadata": {},
   "outputs": [],
   "source": [
    "origin_closest_stop = get_closest_stop(origin)\n",
    "origin_extid = origin_closest_stop['extId']\n",
    "origin_closest_stop_coord = (origin_closest_stop['lat'], origin_closest_stop['lon'])"
   ]
  },
  {
   "cell_type": "code",
   "execution_count": 16,
   "metadata": {},
   "outputs": [],
   "source": [
    "import math\n",
    "\n",
    "def distance_utf(point1, point2):\n",
    "    def toRadians(deg):\n",
    "        return deg * math.pi / 180.0\n",
    "    \n",
    "    R = 6371e3; # metres\n",
    "    lat1, lon1 = point1\n",
    "    lat2, lon2 = point2\n",
    "    phi1 = toRadians(lat1)\n",
    "    phi2 = toRadians(lat2)\n",
    "    delta_phi = toRadians(lat2-lat1)\n",
    "    delta_lambda = toRadians(lon2-lon1)\n",
    "\n",
    "    a = math.sin(delta_phi/2) * math.sin(delta_phi/2) + \\\n",
    "            math.cos(phi1) * math.cos(phi2) * \\\n",
    "            math.sin(delta_lambda/2) * math.sin(delta_lambda/2)\n",
    "    c = 2 * math.atan2(math.sqrt(a), math.sqrt(1-a))\n",
    "\n",
    "    d = R * c\n",
    "    return d"
   ]
  },
  {
   "cell_type": "code",
   "execution_count": 17,
   "metadata": {},
   "outputs": [
    {
     "name": "stdout",
     "output_type": "stream",
     "text": [
      "{'Notes': {'Note': [{'value': 'Aufzug', 'key': 'AT', 'type': 'A', 'priority': 300, 'txtN': 'Aufzug'}, {'value': 'Blindenleitstreifen', 'key': 'BL', 'type': 'A', 'priority': 300, 'txtN': 'Blindenleitstreifen'}, {'value': 'Verantwortlicher DINO-Haltestellenbereich', 'key': 'IS', 'type': 'A', 'priority': 999, 'txtN': 'Verantwortlicher DINO-Haltestellenbereich'}]}, 'name': 'U Frankfurter Tor (Berlin)', 'type': 'ST', 'id': 'A=1@O=U Frankfurter Tor (Berlin)@X=13454083@Y=52515773@U=86@L=900120008@', 'extId': '900120008', 'lon': 13.454083, 'lat': 52.515773, 'routeIdx': 20, 'prognosisType': 'PROGNOSED', 'time': '00:47:00', 'date': '2020-04-25', 'rtTime': '00:47:00', 'rtDate': '2020-04-25'}\n",
      "{'Notes': {'Note': [{'value': 'Verantwortlicher DINO-Haltestellenbereich', 'key': 'IS', 'type': 'A', 'priority': 999, 'txtN': 'Verantwortlicher DINO-Haltestellenbereich'}]}, 'name': 'S+U Alexanderplatz (Berlin) [U5]', 'type': 'ST', 'id': 'A=1@O=S+U Alexanderplatz (Berlin) [U5]@X=13413110@Y=52521607@U=86@L=900100704@', 'extId': '900100704', 'lon': 13.41311, 'lat': 52.521607, 'routeIdx': 19, 'prognosisType': 'PROGNOSED', 'time': '00:59:00', 'date': '2020-04-25', 'rtTime': '00:59:00', 'rtDate': '2020-04-25'}\n",
      "{'Notes': {'Note': [{'value': 'Aufzug', 'key': 'AT', 'type': 'A', 'priority': 300, 'txtN': 'Aufzug'}, {'value': 'Blindenleitstreifen', 'key': 'BL', 'type': 'A', 'priority': 300, 'txtN': 'Blindenleitstreifen'}, {'value': 'Verantwortlicher DINO-Haltestellenbereich', 'key': 'IS', 'type': 'A', 'priority': 999, 'txtN': 'Verantwortlicher DINO-Haltestellenbereich'}]}, 'name': 'U Frankfurter Tor (Berlin)', 'type': 'ST', 'id': 'A=1@O=U Frankfurter Tor (Berlin)@X=13454083@Y=52515773@U=86@L=900120008@', 'extId': '900120008', 'lon': 13.454083, 'lat': 52.515773, 'routeIdx': 20, 'prognosisType': 'PROGNOSED', 'time': '00:58:00', 'date': '2020-04-25', 'rtTime': '00:58:00', 'rtDate': '2020-04-25'}\n",
      "{'Notes': {'Note': [{'value': 'Verantwortlicher DINO-Haltestellenbereich', 'key': 'IS', 'type': 'A', 'priority': 999, 'txtN': 'Verantwortlicher DINO-Haltestellenbereich'}]}, 'name': 'S+U Alexanderplatz (Berlin) [U5]', 'type': 'ST', 'id': 'A=1@O=S+U Alexanderplatz (Berlin) [U5]@X=13413110@Y=52521607@U=86@L=900100704@', 'extId': '900100704', 'lon': 13.41311, 'lat': 52.521607, 'routeIdx': 19, 'prognosisType': 'PROGNOSED', 'time': '01:08:00', 'date': '2020-04-25', 'rtTime': '01:08:00', 'rtDate': '2020-04-25'}\n",
      "{'Notes': {'Note': [{'value': 'Aufzug', 'key': 'AT', 'type': 'A', 'priority': 300, 'txtN': 'Aufzug'}, {'value': 'Blindenleitstreifen', 'key': 'BL', 'type': 'A', 'priority': 300, 'txtN': 'Blindenleitstreifen'}, {'value': 'Verantwortlicher DINO-Haltestellenbereich', 'key': 'IS', 'type': 'A', 'priority': 999, 'txtN': 'Verantwortlicher DINO-Haltestellenbereich'}]}, 'name': 'U Frankfurter Tor (Berlin)', 'type': 'ST', 'id': 'A=1@O=U Frankfurter Tor (Berlin)@X=13454083@Y=52515773@U=86@L=900120008@', 'extId': '900120008', 'lon': 13.454083, 'lat': 52.515773, 'routeIdx': 20, 'prognosisType': 'PROGNOSED', 'time': '01:13:00', 'date': '2020-04-25', 'rtTime': '01:13:00', 'rtDate': '2020-04-25'}\n",
      "{'Notes': {'Note': [{'value': 'Verantwortlicher DINO-Haltestellenbereich', 'key': 'IS', 'type': 'A', 'priority': 999, 'txtN': 'Verantwortlicher DINO-Haltestellenbereich'}]}, 'name': 'S+U Alexanderplatz (Berlin) [U5]', 'type': 'ST', 'id': 'A=1@O=S+U Alexanderplatz (Berlin) [U5]@X=13413110@Y=52521607@U=86@L=900100704@', 'extId': '900100704', 'lon': 13.41311, 'lat': 52.521607, 'routeIdx': 19, 'prognosisType': 'PROGNOSED', 'time': '01:23:00', 'date': '2020-04-25', 'rtTime': '01:23:00', 'rtDate': '2020-04-25'}\n",
      "{'Notes': {'Note': [{'value': 'Aufzug', 'key': 'AT', 'type': 'A', 'priority': 300, 'txtN': 'Aufzug'}, {'value': 'Blindenleitstreifen', 'key': 'BL', 'type': 'A', 'priority': 300, 'txtN': 'Blindenleitstreifen'}, {'value': 'Verantwortlicher DINO-Haltestellenbereich', 'key': 'IS', 'type': 'A', 'priority': 999, 'txtN': 'Verantwortlicher DINO-Haltestellenbereich'}]}, 'name': 'U Frankfurter Tor (Berlin)', 'type': 'ST', 'id': 'A=1@O=U Frankfurter Tor (Berlin)@X=13454083@Y=52515773@U=86@L=900120008@', 'extId': '900120008', 'lon': 13.454083, 'lat': 52.515773, 'routeIdx': 20, 'prognosisType': 'PROGNOSED', 'time': '01:28:00', 'date': '2020-04-25'}\n",
      "{'Notes': {'Note': [{'value': 'Verantwortlicher DINO-Haltestellenbereich', 'key': 'IS', 'type': 'A', 'priority': 999, 'txtN': 'Verantwortlicher DINO-Haltestellenbereich'}]}, 'name': 'S+U Alexanderplatz (Berlin) [U5]', 'type': 'ST', 'id': 'A=1@O=S+U Alexanderplatz (Berlin) [U5]@X=13413110@Y=52521607@U=86@L=900100704@', 'extId': '900100704', 'lon': 13.41311, 'lat': 52.521607, 'routeIdx': 19, 'prognosisType': 'PROGNOSED', 'time': '01:38:00', 'date': '2020-04-25', 'rtTime': '01:38:00', 'rtDate': '2020-04-25'}\n",
      "{'Notes': {'Note': [{'value': 'Aufzug', 'key': 'AT', 'type': 'A', 'priority': 300, 'txtN': 'Aufzug'}, {'value': 'Blindenleitstreifen', 'key': 'BL', 'type': 'A', 'priority': 300, 'txtN': 'Blindenleitstreifen'}, {'value': 'Verantwortlicher DINO-Haltestellenbereich', 'key': 'IS', 'type': 'A', 'priority': 999, 'txtN': 'Verantwortlicher DINO-Haltestellenbereich'}]}, 'name': 'U Frankfurter Tor (Berlin)', 'type': 'ST', 'id': 'A=1@O=U Frankfurter Tor (Berlin)@X=13454083@Y=52515773@U=86@L=900120008@', 'extId': '900120008', 'lon': 13.454083, 'lat': 52.515773, 'routeIdx': 20, 'prognosisType': 'PROGNOSED', 'time': '01:43:00', 'date': '2020-04-25', 'rtTime': '01:43:00', 'rtDate': '2020-04-25'}\n",
      "{'Notes': {'Note': [{'value': 'Verantwortlicher DINO-Haltestellenbereich', 'key': 'IS', 'type': 'A', 'priority': 999, 'txtN': 'Verantwortlicher DINO-Haltestellenbereich'}]}, 'name': 'S+U Alexanderplatz (Berlin) [U5]', 'type': 'ST', 'id': 'A=1@O=S+U Alexanderplatz (Berlin) [U5]@X=13413110@Y=52521607@U=86@L=900100704@', 'extId': '900100704', 'lon': 13.41311, 'lat': 52.521607, 'routeIdx': 19, 'prognosisType': 'PROGNOSED', 'time': '01:53:00', 'date': '2020-04-25', 'rtTime': '01:53:00', 'rtDate': '2020-04-25'}\n"
     ]
    },
    {
     "data": {
      "text/plain": [
       "[datetime.timedelta(seconds=480),\n",
       " datetime.timedelta(seconds=420),\n",
       " datetime.timedelta(seconds=420),\n",
       " datetime.timedelta(seconds=420),\n",
       " datetime.timedelta(seconds=420)]"
      ]
     },
     "execution_count": 17,
     "metadata": {},
     "output_type": "execute_result"
    }
   ],
   "source": [
    "travel_times = compute_travel_times(origin_extid, dest_extid)\n",
    "travel_times"
   ]
  },
  {
   "cell_type": "code",
   "execution_count": 18,
   "metadata": {},
   "outputs": [
    {
     "data": {
      "text/plain": [
       "284.97535065497823"
      ]
     },
     "execution_count": 18,
     "metadata": {},
     "output_type": "execute_result"
    }
   ],
   "source": [
    "distance_utf(origin, origin_closest_stop_coord)"
   ]
  },
  {
   "cell_type": "code",
   "execution_count": 19,
   "metadata": {},
   "outputs": [
    {
     "data": {
      "text/plain": [
       "[datetime.timedelta(seconds=821, microseconds=970421),\n",
       " datetime.timedelta(seconds=761, microseconds=970421),\n",
       " datetime.timedelta(seconds=761, microseconds=970421),\n",
       " datetime.timedelta(seconds=761, microseconds=970421),\n",
       " datetime.timedelta(seconds=761, microseconds=970421)]"
      ]
     },
     "execution_count": 19,
     "metadata": {},
     "output_type": "execute_result"
    }
   ],
   "source": [
    "WALK_VELOCITY = 3000/3600.0 # m/s\n",
    "distance_to_closest_stop = distance_utf(origin, origin_closest_stop_coord)\n",
    "travel_times_adjusted = []\n",
    "for tt in travel_times:\n",
    "    travel_times_adjusted.append(tt + timedelta(seconds=distance_to_closest_stop/WALK_VELOCITY))\n",
    "travel_times_adjusted"
   ]
  },
  {
   "cell_type": "markdown",
   "metadata": {},
   "source": [
    "Record data into a CSV file for later rendering"
   ]
  },
  {
   "cell_type": "code",
   "execution_count": 20,
   "metadata": {},
   "outputs": [],
   "source": [
    "df = pd.DataFrame(columns=['latitude', 'longitude', 'min travel time'])\n",
    "\n",
    "origins = [\n",
    "    (52.5159984,13.4575739),\n",
    "    (52.517602, 13.458108)\n",
    "]\n",
    "WALK_VELOCITY = 3000/3600.0 # m/s\n",
    "\n",
    "for origin in origins:\n",
    "    origin_closest_stop = get_closest_stop(origin)\n",
    "    distance_to_closest_stop = distance_utf(origin, origin_closest_stop_coord)\n",
    "    origin_extid = origin_closest_stop['extId']\n",
    "    origin_closest_stop_point = (origin_closest_stop['lat'], origin_closest_stop['lon'])\n",
    "    \n",
    "    dt = datetime(2020, 5, 1, 5, 0, 0)\n",
    "    trips = compute_trips(origin_extid, dest_extid, dt)\n",
    "    \n",
    "    trips_adjusted = []\n",
    "    for travel_time, trip in trips:\n",
    "        trips_adjusted.append((travel_time + timedelta(seconds=distance_to_closest_stop/WALK_VELOCITY), trip))\n",
    "\n",
    "    shortest_trip = sorted(trips_adjusted, key=lambda x:x[0])[0]\n",
    "    df = df.append({'latitude': origin[0], 'longitude': origin[1], 'min travel time': shortest_trip[0].total_seconds(), 'shortest trip': ' > '.join(shortest_trip[1])}, ignore_index=True)"
   ]
  },
  {
   "cell_type": "code",
   "execution_count": 21,
   "metadata": {},
   "outputs": [
    {
     "data": {
      "text/html": [
       "<div>\n",
       "<style scoped>\n",
       "    .dataframe tbody tr th:only-of-type {\n",
       "        vertical-align: middle;\n",
       "    }\n",
       "\n",
       "    .dataframe tbody tr th {\n",
       "        vertical-align: top;\n",
       "    }\n",
       "\n",
       "    .dataframe thead th {\n",
       "        text-align: right;\n",
       "    }\n",
       "</style>\n",
       "<table border=\"1\" class=\"dataframe\">\n",
       "  <thead>\n",
       "    <tr style=\"text-align: right;\">\n",
       "      <th></th>\n",
       "      <th>latitude</th>\n",
       "      <th>longitude</th>\n",
       "      <th>min travel time</th>\n",
       "      <th>shortest trip</th>\n",
       "    </tr>\n",
       "  </thead>\n",
       "  <tbody>\n",
       "    <tr>\n",
       "      <td>0</td>\n",
       "      <td>52.515998</td>\n",
       "      <td>13.457574</td>\n",
       "      <td>773.557670</td>\n",
       "      <td>U Frankfurter Tor (Berlin) &gt; S+U Alexanderplat...</td>\n",
       "    </tr>\n",
       "    <tr>\n",
       "      <td>1</td>\n",
       "      <td>52.517602</td>\n",
       "      <td>13.458108</td>\n",
       "      <td>761.970421</td>\n",
       "      <td>Bersarinplatz (Berlin) &gt; U Frankfurter Tor (Be...</td>\n",
       "    </tr>\n",
       "  </tbody>\n",
       "</table>\n",
       "</div>"
      ],
      "text/plain": [
       "    latitude  longitude  min travel time  \\\n",
       "0  52.515998  13.457574       773.557670   \n",
       "1  52.517602  13.458108       761.970421   \n",
       "\n",
       "                                       shortest trip  \n",
       "0  U Frankfurter Tor (Berlin) > S+U Alexanderplat...  \n",
       "1  Bersarinplatz (Berlin) > U Frankfurter Tor (Be...  "
      ]
     },
     "execution_count": 21,
     "metadata": {},
     "output_type": "execute_result"
    }
   ],
   "source": [
    "df"
   ]
  },
  {
   "cell_type": "code",
   "execution_count": 22,
   "metadata": {},
   "outputs": [],
   "source": [
    "df.to_csv('hafas_vbb.csv')"
   ]
  },
  {
   "cell_type": "markdown",
   "metadata": {},
   "source": [
    "# Compute travel time for an equally spaced rectangular area"
   ]
  },
  {
   "cell_type": "code",
   "execution_count": 57,
   "metadata": {},
   "outputs": [
    {
     "name": "stdout",
     "output_type": "stream",
     "text": [
      "........................."
     ]
    }
   ],
   "source": [
    "topleft = (52.54, 13.40)\n",
    "bottomright = (52.50, 13.50)\n",
    "num_points = 5\n",
    "WALK_VELOCITY = 3.0/3.6\n",
    "\n",
    "df = pd.DataFrame(columns=['latitude', 'longitude', 'min travel time'])\n",
    "\n",
    "origins = []\n",
    "lat_arr = np.linspace(bottomright[0], topleft[0], num_points)\n",
    "lon_arr = np.linspace(bottomright[1], topleft[1], num_points)\n",
    "for lat in lat_arr:\n",
    "    for lon in lon_arr:\n",
    "        origins.append((lat, lon))\n",
    "\n",
    "for origin in origins:\n",
    "    origin_closest_stop = get_closest_stop(origin)\n",
    "    origin_extid = origin_closest_stop['extId']\n",
    "    origin_closest_stop_point = (origin_closest_stop['lat'], origin_closest_stop['lon'])\n",
    "    distance_to_closest_stop = distance_utf(origin, origin_closest_stop_point)\n",
    "    \n",
    "    dt = datetime(2020, 5, 1, 5, 0, 0)\n",
    "    trips = compute_trips(origin_extid, dest_extid, dt)\n",
    "    trips_adjusted = []\n",
    "    for travel_time, trip in trips:\n",
    "        trips_adjusted.append((travel_time + timedelta(seconds=distance_to_closest_stop/WALK_VELOCITY), trip))\n",
    "\n",
    "    sorted_trips = sorted(trips_adjusted, key=lambda x:x[0])\n",
    "    if sorted_trips:\n",
    "        shortest_trip = sorted_trips[0]\n",
    "        shortest_trip_time = shortest_trip[0].total_seconds()\n",
    "    else:\n",
    "        shortest_trip = (np.inf, ['No trip found'])\n",
    "        shortest_trip_time = np.inf\n",
    "    shortest_trip_itinerary = shortest_trip[1]\n",
    "    \n",
    "    df = df.append({'latitude': origin[0], 'longitude': origin[1], 'min travel time': shortest_trip_time, 'shortest trip': ' > '.join(shortest_trip_itinerary)}, ignore_index=True)\n",
    "    print('.', end='')"
   ]
  },
  {
   "cell_type": "code",
   "execution_count": 58,
   "metadata": {},
   "outputs": [
    {
     "data": {
      "text/html": [
       "<div>\n",
       "<style scoped>\n",
       "    .dataframe tbody tr th:only-of-type {\n",
       "        vertical-align: middle;\n",
       "    }\n",
       "\n",
       "    .dataframe tbody tr th {\n",
       "        vertical-align: top;\n",
       "    }\n",
       "\n",
       "    .dataframe thead th {\n",
       "        text-align: right;\n",
       "    }\n",
       "</style>\n",
       "<table border=\"1\" class=\"dataframe\">\n",
       "  <thead>\n",
       "    <tr style=\"text-align: right;\">\n",
       "      <th></th>\n",
       "      <th>latitude</th>\n",
       "      <th>longitude</th>\n",
       "      <th>min travel time</th>\n",
       "      <th>shortest trip</th>\n",
       "    </tr>\n",
       "  </thead>\n",
       "  <tbody>\n",
       "    <tr>\n",
       "      <td>0</td>\n",
       "      <td>52.50</td>\n",
       "      <td>13.500</td>\n",
       "      <td>1073.610024</td>\n",
       "      <td>Michiganseestr. (Berlin) &gt; S Ostkreuz Bhf (Ber...</td>\n",
       "    </tr>\n",
       "    <tr>\n",
       "      <td>1</td>\n",
       "      <td>52.50</td>\n",
       "      <td>13.475</td>\n",
       "      <td>946.651824</td>\n",
       "      <td>S Rummelsburg/Hauptstr. EV (Berlin) &gt; S Rummel...</td>\n",
       "    </tr>\n",
       "    <tr>\n",
       "      <td>2</td>\n",
       "      <td>52.50</td>\n",
       "      <td>13.450</td>\n",
       "      <td>705.181426</td>\n",
       "      <td>Stralauer Allee (Berlin) &gt; S+U Warschauer Str....</td>\n",
       "    </tr>\n",
       "    <tr>\n",
       "      <td>3</td>\n",
       "      <td>52.50</td>\n",
       "      <td>13.425</td>\n",
       "      <td>653.546429</td>\n",
       "      <td>Heinrichplatz (Berlin) &gt; U Moritzplatz (Berlin...</td>\n",
       "    </tr>\n",
       "    <tr>\n",
       "      <td>4</td>\n",
       "      <td>52.50</td>\n",
       "      <td>13.400</td>\n",
       "      <td>877.873236</td>\n",
       "      <td>Zossener Brücke (Berlin) &gt; U Hallesches Tor (B...</td>\n",
       "    </tr>\n",
       "    <tr>\n",
       "      <td>5</td>\n",
       "      <td>52.51</td>\n",
       "      <td>13.500</td>\n",
       "      <td>727.429899</td>\n",
       "      <td>S+U Lichtenberg (Berlin) [U5] &gt; S+U Alexanderp...</td>\n",
       "    </tr>\n",
       "    <tr>\n",
       "      <td>6</td>\n",
       "      <td>52.51</td>\n",
       "      <td>13.475</td>\n",
       "      <td>963.103522</td>\n",
       "      <td>S+U Frankfurter Allee (Berlin) &gt; S+U Alexander...</td>\n",
       "    </tr>\n",
       "    <tr>\n",
       "      <td>7</td>\n",
       "      <td>52.51</td>\n",
       "      <td>13.450</td>\n",
       "      <td>607.309588</td>\n",
       "      <td>Revaler Str. (Berlin) &gt; U Frankfurter Tor (Ber...</td>\n",
       "    </tr>\n",
       "    <tr>\n",
       "      <td>8</td>\n",
       "      <td>52.51</td>\n",
       "      <td>13.425</td>\n",
       "      <td>491.923246</td>\n",
       "      <td>Köpenicker Str./Adalbertstr. (Berlin) &gt; U Alex...</td>\n",
       "    </tr>\n",
       "    <tr>\n",
       "      <td>9</td>\n",
       "      <td>52.51</td>\n",
       "      <td>13.400</td>\n",
       "      <td>558.346083</td>\n",
       "      <td>U Spittelmarkt (Berlin) &gt; S+U Alexanderplatz (...</td>\n",
       "    </tr>\n",
       "    <tr>\n",
       "      <td>10</td>\n",
       "      <td>52.52</td>\n",
       "      <td>13.500</td>\n",
       "      <td>770.360726</td>\n",
       "      <td>Betriebshof Lichtenberg (Berlin) &gt; U Magdalene...</td>\n",
       "    </tr>\n",
       "    <tr>\n",
       "      <td>11</td>\n",
       "      <td>52.52</td>\n",
       "      <td>13.475</td>\n",
       "      <td>837.824939</td>\n",
       "      <td>Scheffelstr./Paul-Junius-Str. (Berlin) &gt; U Fra...</td>\n",
       "    </tr>\n",
       "    <tr>\n",
       "      <td>12</td>\n",
       "      <td>52.52</td>\n",
       "      <td>13.450</td>\n",
       "      <td>645.936415</td>\n",
       "      <td>Bersarinplatz (Berlin) &gt; U Frankfurter Tor (Be...</td>\n",
       "    </tr>\n",
       "    <tr>\n",
       "      <td>13</td>\n",
       "      <td>52.52</td>\n",
       "      <td>13.425</td>\n",
       "      <td>315.697997</td>\n",
       "      <td>U Schillingstr. (Berlin) &gt; S+U Alexanderplatz ...</td>\n",
       "    </tr>\n",
       "    <tr>\n",
       "      <td>14</td>\n",
       "      <td>52.52</td>\n",
       "      <td>13.400</td>\n",
       "      <td>446.590937</td>\n",
       "      <td>Lustgarten (Berlin) &gt; S+U Alexanderplatz Bhf/M...</td>\n",
       "    </tr>\n",
       "    <tr>\n",
       "      <td>15</td>\n",
       "      <td>52.53</td>\n",
       "      <td>13.500</td>\n",
       "      <td>1116.493717</td>\n",
       "      <td>Reinhardsbrunner Str. (Berlin) &gt; U Magdalenens...</td>\n",
       "    </tr>\n",
       "    <tr>\n",
       "      <td>16</td>\n",
       "      <td>52.53</td>\n",
       "      <td>13.475</td>\n",
       "      <td>1207.392815</td>\n",
       "      <td>Landsberger Allee/Weißenseer Weg (Berlin) &gt; S+...</td>\n",
       "    </tr>\n",
       "    <tr>\n",
       "      <td>17</td>\n",
       "      <td>52.53</td>\n",
       "      <td>13.450</td>\n",
       "      <td>1107.876159</td>\n",
       "      <td>Paul-Heyse-Str. (Berlin) &gt; U Frankfurter Tor (...</td>\n",
       "    </tr>\n",
       "    <tr>\n",
       "      <td>18</td>\n",
       "      <td>52.53</td>\n",
       "      <td>13.425</td>\n",
       "      <td>504.969789</td>\n",
       "      <td>Am Friedrichshain (Berlin) &gt; S+U Alexanderplat...</td>\n",
       "    </tr>\n",
       "    <tr>\n",
       "      <td>19</td>\n",
       "      <td>52.53</td>\n",
       "      <td>13.400</td>\n",
       "      <td>297.205454</td>\n",
       "      <td>U Rosenthaler Platz (Berlin) &gt; S+U Alexanderpl...</td>\n",
       "    </tr>\n",
       "    <tr>\n",
       "      <td>20</td>\n",
       "      <td>52.54</td>\n",
       "      <td>13.500</td>\n",
       "      <td>1321.978768</td>\n",
       "      <td>Liebenwalder Str. (Berlin) &gt; U Magdalenenstr. ...</td>\n",
       "    </tr>\n",
       "    <tr>\n",
       "      <td>21</td>\n",
       "      <td>52.54</td>\n",
       "      <td>13.475</td>\n",
       "      <td>1438.541942</td>\n",
       "      <td>Sportforum (Berlin) &gt; Weißer See (Berlin) &gt; U ...</td>\n",
       "    </tr>\n",
       "    <tr>\n",
       "      <td>22</td>\n",
       "      <td>52.54</td>\n",
       "      <td>13.450</td>\n",
       "      <td>831.773299</td>\n",
       "      <td>Stedingerweg (Berlin) &gt; S+U Alexanderplatz Bhf...</td>\n",
       "    </tr>\n",
       "    <tr>\n",
       "      <td>23</td>\n",
       "      <td>52.54</td>\n",
       "      <td>13.425</td>\n",
       "      <td>485.168835</td>\n",
       "      <td>Prenzlauer Allee/Danziger Str. (Berlin) &gt; S+U ...</td>\n",
       "    </tr>\n",
       "    <tr>\n",
       "      <td>24</td>\n",
       "      <td>52.54</td>\n",
       "      <td>13.400</td>\n",
       "      <td>569.319389</td>\n",
       "      <td>Wolliner Str. (Berlin) &gt; U Bernauer Str. (Berl...</td>\n",
       "    </tr>\n",
       "  </tbody>\n",
       "</table>\n",
       "</div>"
      ],
      "text/plain": [
       "    latitude  longitude  min travel time  \\\n",
       "0      52.50     13.500      1073.610024   \n",
       "1      52.50     13.475       946.651824   \n",
       "2      52.50     13.450       705.181426   \n",
       "3      52.50     13.425       653.546429   \n",
       "4      52.50     13.400       877.873236   \n",
       "5      52.51     13.500       727.429899   \n",
       "6      52.51     13.475       963.103522   \n",
       "7      52.51     13.450       607.309588   \n",
       "8      52.51     13.425       491.923246   \n",
       "9      52.51     13.400       558.346083   \n",
       "10     52.52     13.500       770.360726   \n",
       "11     52.52     13.475       837.824939   \n",
       "12     52.52     13.450       645.936415   \n",
       "13     52.52     13.425       315.697997   \n",
       "14     52.52     13.400       446.590937   \n",
       "15     52.53     13.500      1116.493717   \n",
       "16     52.53     13.475      1207.392815   \n",
       "17     52.53     13.450      1107.876159   \n",
       "18     52.53     13.425       504.969789   \n",
       "19     52.53     13.400       297.205454   \n",
       "20     52.54     13.500      1321.978768   \n",
       "21     52.54     13.475      1438.541942   \n",
       "22     52.54     13.450       831.773299   \n",
       "23     52.54     13.425       485.168835   \n",
       "24     52.54     13.400       569.319389   \n",
       "\n",
       "                                        shortest trip  \n",
       "0   Michiganseestr. (Berlin) > S Ostkreuz Bhf (Ber...  \n",
       "1   S Rummelsburg/Hauptstr. EV (Berlin) > S Rummel...  \n",
       "2   Stralauer Allee (Berlin) > S+U Warschauer Str....  \n",
       "3   Heinrichplatz (Berlin) > U Moritzplatz (Berlin...  \n",
       "4   Zossener Brücke (Berlin) > U Hallesches Tor (B...  \n",
       "5   S+U Lichtenberg (Berlin) [U5] > S+U Alexanderp...  \n",
       "6   S+U Frankfurter Allee (Berlin) > S+U Alexander...  \n",
       "7   Revaler Str. (Berlin) > U Frankfurter Tor (Ber...  \n",
       "8   Köpenicker Str./Adalbertstr. (Berlin) > U Alex...  \n",
       "9   U Spittelmarkt (Berlin) > S+U Alexanderplatz (...  \n",
       "10  Betriebshof Lichtenberg (Berlin) > U Magdalene...  \n",
       "11  Scheffelstr./Paul-Junius-Str. (Berlin) > U Fra...  \n",
       "12  Bersarinplatz (Berlin) > U Frankfurter Tor (Be...  \n",
       "13  U Schillingstr. (Berlin) > S+U Alexanderplatz ...  \n",
       "14  Lustgarten (Berlin) > S+U Alexanderplatz Bhf/M...  \n",
       "15  Reinhardsbrunner Str. (Berlin) > U Magdalenens...  \n",
       "16  Landsberger Allee/Weißenseer Weg (Berlin) > S+...  \n",
       "17  Paul-Heyse-Str. (Berlin) > U Frankfurter Tor (...  \n",
       "18  Am Friedrichshain (Berlin) > S+U Alexanderplat...  \n",
       "19  U Rosenthaler Platz (Berlin) > S+U Alexanderpl...  \n",
       "20  Liebenwalder Str. (Berlin) > U Magdalenenstr. ...  \n",
       "21  Sportforum (Berlin) > Weißer See (Berlin) > U ...  \n",
       "22  Stedingerweg (Berlin) > S+U Alexanderplatz Bhf...  \n",
       "23  Prenzlauer Allee/Danziger Str. (Berlin) > S+U ...  \n",
       "24  Wolliner Str. (Berlin) > U Bernauer Str. (Berl...  "
      ]
     },
     "execution_count": 58,
     "metadata": {},
     "output_type": "execute_result"
    }
   ],
   "source": [
    "df"
   ]
  },
  {
   "cell_type": "code",
   "execution_count": 60,
   "metadata": {},
   "outputs": [],
   "source": [
    "df.to_csv('hafas_vbb.csv')"
   ]
  }
 ],
 "metadata": {
  "kernelspec": {
   "display_name": "Python 3",
   "language": "python",
   "name": "python3"
  },
  "language_info": {
   "codemirror_mode": {
    "name": "ipython",
    "version": 3
   },
   "file_extension": ".py",
   "mimetype": "text/x-python",
   "name": "python",
   "nbconvert_exporter": "python",
   "pygments_lexer": "ipython3",
   "version": "3.7.4"
  }
 },
 "nbformat": 4,
 "nbformat_minor": 4
}
